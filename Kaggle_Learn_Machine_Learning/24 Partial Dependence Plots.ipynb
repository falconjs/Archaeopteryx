{
 "cells": [
  {
   "cell_type": "markdown",
   "metadata": {},
   "source": [
    "*This tutorial is part of the [Learn Machine Learning](https://www.kaggle.com/dansbecker/learn-machine-learning) series. In this step, you will learn how to create and interpret partial dependence plots, one of the most valuable ways to extract insight from your models.* \n",
    "\n",
    "# What Are Partial Dependence Plots\n",
    "\n",
    "Some people complain machine learning models are *black boxes.*  These people will argue we cannot see how these models are working on any given dataset, so we can neither extract insight nor identify problems with the model.\n",
    "\n",
    "By and large, people making this claim are unfamiliar with partial dependence plots.  Partial dependence plots show how each variable or predictor affects the model's predictions. This is useful for questions like:\n",
    "* How much of wage differences between men and women are due solely to gender, as opposed to differences in education backgrounds or work experience?\n",
    "\n",
    "* Controlling for house characteristics, what impact do longitude and latitude have on home prices? To restate this, we want to understand how similarly sized houses would be priced in different areas, even if the homes actually at these sites are different sizes.\n",
    "\n",
    "* Are health differences between two groups due to differences in their diets, or due to other factors?\n",
    "\n",
    "If you are familiar with linear or logistic regression models, partial dependence plots can be interepreted similarly to the coefficients in those models.  But partial dependence plots can capture more complex patterns from your data, and they can be used with any model.  If you aren't familiar with linear or logistic regressions, don't get caught up on that comparison.\n",
    "\n",
    "We will show a couple examples below, explain what they mean, and then talk about the code.\n",
    "\n",
    "## Interpreting Partial Dependence Plots"
   ]
  },
  {
   "cell_type": "markdown",
   "metadata": {},
   "source": [
    "We'll start with 2 partial dependence plots showing the relationship (according to our model) between Price and a couple variables from the Melbourne Housing dataset.  We'll walk through how these plots are created and interpreted."
   ]
  },
  {
   "cell_type": "code",
   "execution_count": 2,
   "metadata": {
    "collapsed": true
   },
   "outputs": [],
   "source": [
    "import pandas as pd\n",
    "from sklearn.ensemble import GradientBoostingRegressor, GradientBoostingClassifier\n",
    "from sklearn.ensemble.partial_dependence import partial_dependence, plot_partial_dependence\n",
    "from sklearn.preprocessing import Imputer"
   ]
  },
  {
   "cell_type": "markdown",
   "metadata": {},
   "source": [
    "The left plot shows the partial dependence between our target, Sales Price, and the distance variable.  Distance in this dataset measures the distance to Melbourne's central business district.\n",
    "\n",
    "**The partial dependence plot is calculated only after the model has been fit.**  The model is fit on real data.  In that real data, houses in different parts of town may differ in myriad ways (different ages, sizes, etc.)  But after the model is fit, we could start by taking all the characteristics of a single house.  Say, a house with 2 bedrooms, 2 bathrooms, a large lot, an age of 10 years, etc. \n",
    "\n",
    "We then use the model to predict the price of that house, but we change the distance variable before making a prediction.  We first predict the price for that house when sitting distance to 4.  We then predict it's price setting distance to 5.  Then predict again for 6.  And so on.  We trace out how predicted price changes (on the vertical axis) as we move from small values of distance to large values (on the horizontal axis).\n",
    "\n",
    "In this description, we used only a single house.  But because of interactions, the partial dependence plot for a single house may be atypical.  So, instead we repeat that mental experiment with multiple houses, and we plot the average predicted price on the vertical axis.  You'll see some negative numbers.  That doesn't mean the price would sell for a negative price.  Instead it means the prices would have been less than the actual average price for that distance.\n",
    "\n",
    "In the left graph, we see house prices fall as we get further from the central business distract.  Though there seems to be a nice suburb about 16 kilometers out, where home prices are higher than many nearer and further suburbs.\n",
    "\n",
    "The right graph shows the impact of building area, which is interpreted similarly.  A larger building area means higher prices.\n",
    "\n",
    "These plots are useful both to extract insights, as well as to sanity check that your model is learning something you think is sensible."
   ]
  },
  {
   "cell_type": "markdown",
   "metadata": {},
   "source": [
    "# Code\n",
    "\n",
    "We won't focus on code to load the data, just the code to make the plot."
   ]
  },
  {
   "cell_type": "code",
   "execution_count": 3,
   "metadata": {
    "collapsed": true
   },
   "outputs": [],
   "source": [
    "def get_some_data():\n",
    "    cols_to_use = ['Distance', 'Landsize', 'BuildingArea']\n",
    "    data = pd.read_csv('../input/melbourne-housing-snapshot/melb_data.csv')\n",
    "    y = data.Price\n",
    "    X = data[cols_to_use]\n",
    "    my_imputer = Imputer()\n",
    "    imputed_X = my_imputer.fit_transform(X)\n",
    "    return imputed_X, y"
   ]
  },
  {
   "cell_type": "code",
   "execution_count": 4,
   "metadata": {
    "collapsed": true
   },
   "outputs": [],
   "source": [
    "from sklearn.ensemble.partial_dependence import partial_dependence, plot_partial_dependence\n",
    "\n",
    "# get_some_data is defined in hidden cell above.\n",
    "X, y = get_some_data()\n",
    "# scikit-learn originally implemented partial dependence plots only for Gradient Boosting models\n",
    "# this was due to an implementation detail, and a future release will support all model types.\n",
    "my_model = GradientBoostingRegressor()\n",
    "# fit the model as usual\n",
    "my_model.fit(X, y)\n",
    "# Here we make the plot\n",
    "my_plots = plot_partial_dependence(my_model,       \n",
    "                                   features=[0, 2], # column numbers of plots we want to show\n",
    "                                   X=X,            # raw predictors data.\n",
    "                                   feature_names=['Distance', 'Landsize', 'BuildingArea'], # labels on graphs\n",
    "                                   grid_resolution=10) # number of values to plot on x axis"
   ]
  },
  {
   "cell_type": "markdown",
   "metadata": {},
   "source": [
    "Some tips related to plot_partial_dependence:\n",
    "* The features are the column numbers from the X array or dataframe that you wish to have plotted.  This starts to look bad beyond 2 or 3 variables.  You could make repeated calls to plot 2 or 3 at a time.\n",
    "* There are options to establish what points on the horizontal axis are plotted.  The simplest is *grid_resolution* which we use to determine how many different points are plotted.  These plots tend to look jagged as that value increases, because you will pick up lots of randomness or noise in your model.  It's best not to take the small or jagged fluctuations too literally.  Smaller values of grid_resolution smooth this out.  It's also much less of an issue for datasets with many rows.\n",
    "* There is a function called *partial_dependence* to get the raw data making up this plot, rather than making the visual plot itself. This is useful if you want to control how it is visualized using a plotting package like Seaborn.  With moderate effort, you could make much nicer looking plots."
   ]
  },
  {
   "cell_type": "code",
   "execution_count": null,
   "metadata": {
    "collapsed": true
   },
   "outputs": [],
   "source": []
  },
  {
   "cell_type": "code",
   "execution_count": null,
   "metadata": {
    "collapsed": true
   },
   "outputs": [],
   "source": []
  },
  {
   "cell_type": "code",
   "execution_count": null,
   "metadata": {
    "collapsed": true
   },
   "outputs": [],
   "source": []
  },
  {
   "cell_type": "code",
   "execution_count": null,
   "metadata": {
    "collapsed": true
   },
   "outputs": [],
   "source": []
  }
 ],
 "metadata": {
  "kernelspec": {
   "display_name": "Python 3",
   "language": "python",
   "name": "python3"
  },
  "language_info": {
   "codemirror_mode": {
    "name": "ipython",
    "version": 3
   },
   "file_extension": ".py",
   "mimetype": "text/x-python",
   "name": "python",
   "nbconvert_exporter": "python",
   "pygments_lexer": "ipython3",
   "version": "3.6.3"
  }
 },
 "nbformat": 4,
 "nbformat_minor": 2
}
