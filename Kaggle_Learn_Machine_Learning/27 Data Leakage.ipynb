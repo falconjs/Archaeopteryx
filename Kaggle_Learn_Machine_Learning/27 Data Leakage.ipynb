{
 "cells": [
  {
   "cell_type": "markdown",
   "metadata": {},
   "source": [
    "*This tutorial is part of the [Learn Machine Learning](https://www.kaggle.com/learn/machine-learning/) series. In this step, you will learn what data leakage is and how to prevent it.* \n",
    "\n",
    "\n",
    "# What is Data Leakage\n",
    "Data leakage is one of the most important issues for a data scientist to understand. If you don't know how to prevent it, leakage will come up frequently, and it will ruin your models in the most subtle and dangerous ways.  Specifically, leakage causes a model to look accurate until you start making decisions with the model, and then the model becomes very inaccurate. This tutorial will show you what leakage is and how to avoid it.\n",
    "\n",
    "There are two main types of leakage: **Leaky Predictors** and a **Leaky Validation Strategies.**\n",
    "\n",
    "## Leaky Predictors\n",
    "This occurs when your predictors include data that will not be available at the time you make predictions. \n",
    "\n",
    "For example, imagine you want to predict who will get sick with pneumonia. The top few rows of your raw data might look like this:\n",
    "\n",
    "| got_pneumonia | age | weight |  male | took_antibiotic_medicine | ... |\n",
    "|:-------------:|:---:|:------:|:-----:|:------------------------:|-----|\n",
    "|     False     |  65 |   100  | False |           False          | ... |\n",
    "|     False     |  72 |   130  |  True |           False          | ... |\n",
    "|      True     |  58 |   100  | False |           True           | ... |\n",
    "-\n",
    "\n",
    "\n",
    "People take antibiotic medicines after getting pneumonia in order to recover. So the raw data shows a strong relationship between those columns. But *took_antibiotic_medicine* is frequently changed **after** the value for *got_pneumonia* is determined. This is target leakage.\n",
    "\n",
    "The model would see that anyone who has a value of `False` for `took_antibiotic_medicine` didn't have pneumonia.  Validation data comes from the same source, so the pattern will repeat itself in validation, and the model will have great validation (or cross-validation) scores. But the model will be very inaccurate when subsequently deployed in the real world.\n",
    "\n",
    "To prevent this type of data leakage, any variable updated (or created) after the target value is realized should be excluded. Because when we use this model to make new predictions, that data won't be available to the model.\n",
    "\n",
    "![Leaky Data Graphic](https://i.imgur.com/CN4INKb.png)"
   ]
  },
  {
   "cell_type": "markdown",
   "metadata": {},
   "source": [
    "## Leaky Validation Strategy\n",
    "\n",
    "A much different type of leak occurs when you aren't careful distinguishing training data from validation data.  For example, this happens if you run preprocessing (like fitting the Imputer for missing values) before calling train_test_split.  Validation is meant to be a measure of how the model does on data it hasn't considered before.  You can corrupt this process in subtle ways if the validation data affects the preprocessing behavoir..  The end result?  Your model will get very good validation scores, giving you great confidence in it, but perform poorly when you deploy it to make decisions.\n",
    "\n",
    "\n",
    "## Preventing Leaky Predictors\n",
    "There is no single solution that universally prevents leaky predictors. It requires knowledge about your data, case-specific inspection and common sense.\n",
    "\n",
    "However, leaky predictors frequently have high statistical correlations to the target.  So two tactics to keep in mind:\n",
    "* To screen for possible leaky predictors, look for columns that are statistically correlated to your target.\n",
    "* If you build a model and find it extremely accurate, you likely have a leakage problem.\n",
    "\n",
    "## Preventing Leaky Validation Strategies\n",
    "\n",
    "If your validation is based on a simple train-test split, exclude the validation data from any type of *fitting*, including the fitting of preprocessing steps.  This is easier if you use [scikit-learn Pipelines](https://www.kaggle.com/dansbecker/pipelines).  When using cross-validation, it's even more critical that you use pipelines and do your preprocessing inside the pipeline.\n",
    "\n",
    "# Example\n",
    "We will use a small dataset about credit card applications, and we will build a model predicting which applications were accepted (stored in a variable called *card*).  Here is a look at the data:"
   ]
  },
  {
   "cell_type": "code",
   "execution_count": 5,
   "metadata": {},
   "outputs": [
    {
     "name": "stdout",
     "output_type": "stream",
     "text": [
      "   card  reports       age  income     share  expenditure  owner  selfemp  \\\n",
      "0  True        0  37.66667  4.5200  0.033270   124.983300   True    False   \n",
      "1  True        0  33.25000  2.4200  0.005217     9.854167  False    False   \n",
      "2  True        0  33.66667  4.5000  0.004156    15.000000   True    False   \n",
      "3  True        0  30.50000  2.5400  0.065214   137.869200  False    False   \n",
      "4  True        0  32.16667  9.7867  0.067051   546.503300   True    False   \n",
      "\n",
      "   dependents  months  majorcards  active  \n",
      "0           3      54           1      12  \n",
      "1           3      34           1      13  \n",
      "2           4      58           1       5  \n",
      "3           0      25           1       7  \n",
      "4           2      64           1       5  \n"
     ]
    }
   ],
   "source": [
    "import pandas as pd\n",
    "\n",
    "data = pd.read_csv('../../input/Econometirc_Analysis/AER_credit_card_data.csv', \n",
    "                   true_values = ['yes'],\n",
    "                   false_values = ['no'])\n",
    "print(data.head())"
   ]
  },
  {
   "cell_type": "markdown",
   "metadata": {},
   "source": [
    "We can see with `data.shape` that this is a small dataset (1312 rows), so we should use cross-validation to ensure accurate measures of model quality"
   ]
  },
  {
   "cell_type": "code",
   "execution_count": 6,
   "metadata": {},
   "outputs": [
    {
     "data": {
      "text/plain": [
       "(1319, 12)"
      ]
     },
     "execution_count": 6,
     "metadata": {},
     "output_type": "execute_result"
    }
   ],
   "source": [
    "data.shape"
   ]
  },
  {
   "cell_type": "code",
   "execution_count": 7,
   "metadata": {},
   "outputs": [
    {
     "name": "stdout",
     "output_type": "stream",
     "text": [
      "Cross-val accuracy: 0.976491\n"
     ]
    }
   ],
   "source": [
    "from sklearn.pipeline import make_pipeline\n",
    "from sklearn.ensemble import RandomForestClassifier\n",
    "from sklearn.model_selection import cross_val_score\n",
    "\n",
    "y = data.card\n",
    "X = data.drop(['card'], axis=1)\n",
    "\n",
    "# Since there was no preprocessing, we didn't need a pipeline here. Used anyway as best practice\n",
    "modeling_pipeline = make_pipeline(RandomForestClassifier())\n",
    "cv_scores = cross_val_score(modeling_pipeline, X, y, scoring='accuracy')\n",
    "print(\"Cross-val accuracy: %f\" %cv_scores.mean())"
   ]
  },
  {
   "cell_type": "markdown",
   "metadata": {},
   "source": [
    "With experience, you'll find that it's very rare to find models that are accurate 98% of the time.  It happens, but it's rare enough that we should inspect the data more closely to see if it is target leakage.\n",
    "\n",
    "Here is a summary of the data, which you can also find under the data tab:\n",
    "\n",
    " - **card:** Dummy variable, 1 if application for credit card accepted, 0 if not\n",
    " - **reports:** Number of major derogatory reports\n",
    " - **age:** Age n years plus twelfths of a year\n",
    " - **income:** Yearly income (divided by 10,000)\n",
    " - **share:** Ratio of monthly credit card expenditure to yearly income\n",
    " - **expenditure:** Average monthly credit card expenditure\n",
    " - **owner:** 1 if owns their home, 0 if rent\n",
    " - **selfempl:** 1 if self employed, 0 if not.\n",
    " - **dependents:** 1 + number of dependents\n",
    " - **months:** Months living at current address\n",
    " - **majorcards:** Number of major credit cards held\n",
    " - **active:** Number of active credit accounts\n",
    "\n",
    "A few variables look suspicious.  For example, does **expenditure** mean expenditure on this card or on cards used before applying?\n",
    "\n",
    "At this point, basic data comparisons can be very helpful:"
   ]
  },
  {
   "cell_type": "code",
   "execution_count": 8,
   "metadata": {},
   "outputs": [
    {
     "name": "stdout",
     "output_type": "stream",
     "text": [
      "Fraction of those who received a card with no expenditures: 0.02\n",
      "Fraction of those who received a card with no expenditures: 1.00\n"
     ]
    }
   ],
   "source": [
    "expenditures_cardholders = data.expenditure[data.card]\n",
    "expenditures_noncardholders = data.expenditure[~data.card]\n",
    "\n",
    "print('Fraction of those who received a card with no expenditures: %.2f' \\\n",
    "      %(( expenditures_cardholders == 0).mean()))\n",
    "print('Fraction of those who received a card with no expenditures: %.2f' \\\n",
    "      %((expenditures_noncardholders == 0).mean()))"
   ]
  },
  {
   "cell_type": "markdown",
   "metadata": {},
   "source": [
    "Everyone with `card == False` had no expenditures, while only 2% of those with `card == True` had no expenditures.  It's not surprising that our model appeared to have a high accuracy. But this seems a data leak, where expenditures probably means *expenditures on the card they applied for.**. \n",
    "\n",
    "Since **share** is partially determined by **expenditure**, it should be excluded too.  The variables **active**, **majorcards** are a little less clear, but from the description, they sound concerning.  In most situations, it's better to be safe than sorry if you can't track down the people who created the data to find out more.\n",
    "\n",
    "We would run a model without leakage as follows:"
   ]
  },
  {
   "cell_type": "code",
   "execution_count": 9,
   "metadata": {},
   "outputs": [
    {
     "name": "stdout",
     "output_type": "stream",
     "text": [
      "Cross-val accuracy: 0.795306\n"
     ]
    }
   ],
   "source": [
    "potential_leaks = ['expenditure', 'share', 'active', 'majorcards']\n",
    "X2 = X.drop(potential_leaks, axis=1)\n",
    "cv_scores = cross_val_score(modeling_pipeline, X2, y, scoring='accuracy')\n",
    "print(\"Cross-val accuracy: %f\" %cv_scores.mean())"
   ]
  },
  {
   "cell_type": "markdown",
   "metadata": {},
   "source": [
    "This accuracy is quite a bit lower, which on the one hand is disappointing.  However, we can expect it to be right about 80% of the time when used on new applications, whereas the leaky model would likely do much worse then that (even in spite of it's higher apparent score in cross-validation.).\n",
    "\n",
    "# Conclusion\n",
    "Data leakage can be multi-million dollar mistake in many data science applications. Careful separation of training and validation data is a first step, and pipelines can help implement this separation.  Leaking predictors are a more frequent issue, and leaking predictors are harder to track down. A combination of caution, common sense and data exploration can help identify leaking predictors so you remove them from your model.\n",
    "\n",
    "# Exercise\n",
    "Review the data in your ongoing project.  Are there any predictors that may cause leakage?  As a hint, most datasets from Kaggle competitions don't have these variables. Once you get past those carefully curated datasets, this becomes a common issue.\n",
    "\n",
    "Click **[here](https://www.kaggle.com/learn/machine-learning)** to return the main page for *Learning Machine Learning.*"
   ]
  },
  {
   "cell_type": "code",
   "execution_count": null,
   "metadata": {
    "collapsed": true
   },
   "outputs": [],
   "source": []
  }
 ],
 "metadata": {
  "kernelspec": {
   "display_name": "Python 3",
   "language": "python",
   "name": "python3"
  },
  "language_info": {
   "codemirror_mode": {
    "name": "ipython",
    "version": 3
   },
   "file_extension": ".py",
   "mimetype": "text/x-python",
   "name": "python",
   "nbconvert_exporter": "python",
   "pygments_lexer": "ipython3",
   "version": "3.6.3"
  }
 },
 "nbformat": 4,
 "nbformat_minor": 2
}
