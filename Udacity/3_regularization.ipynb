{
 "cells": [
  {
   "cell_type": "markdown",
   "metadata": {
    "colab_type": "text",
    "id": "kR-4eNdK6lYS"
   },
   "source": [
    "Deep Learning\n",
    "=============\n",
    "\n",
    "Assignment 3\n",
    "------------\n",
    "\n",
    "Previously in `2_fullyconnected.ipynb`, you trained a logistic regression and a neural network model.\n",
    "\n",
    "The goal of this assignment is to explore regularization techniques."
   ]
  },
  {
   "cell_type": "code",
   "execution_count": 2,
   "metadata": {
    "cellView": "both",
    "colab": {
     "autoexec": {
      "startup": false,
      "wait_interval": 0
     }
    },
    "colab_type": "code",
    "id": "JLpLa8Jt7Vu4"
   },
   "outputs": [],
   "source": [
    "# These are all the modules we'll be using later. Make sure you can import them\n",
    "# before proceeding further.\n",
    "from __future__ import print_function\n",
    "import numpy as np\n",
    "from datetime import datetime as dt\n",
    "import tensorflow as tf\n",
    "from six.moves import cPickle as pickle"
   ]
  },
  {
   "cell_type": "markdown",
   "metadata": {
    "colab_type": "text",
    "id": "1HrCK6e17WzV"
   },
   "source": [
    "First reload the data we generated in `1_notmnist.ipynb`."
   ]
  },
  {
   "cell_type": "code",
   "execution_count": 3,
   "metadata": {
    "cellView": "both",
    "colab": {
     "autoexec": {
      "startup": false,
      "wait_interval": 0
     },
     "output_extras": [
      {
       "item_id": 1
      }
     ]
    },
    "colab_type": "code",
    "executionInfo": {
     "elapsed": 11777,
     "status": "ok",
     "timestamp": 1449849322348,
     "user": {
      "color": "",
      "displayName": "",
      "isAnonymous": false,
      "isMe": true,
      "permissionId": "",
      "photoUrl": "",
      "sessionId": "0",
      "userId": ""
     },
     "user_tz": 480
    },
    "id": "y3-cj1bpmuxc",
    "outputId": "e03576f1-ebbe-4838-c388-f1777bcc9873"
   },
   "outputs": [
    {
     "name": "stdout",
     "output_type": "stream",
     "text": [
      "pickle file location: ../../input/notMNIST/notMNIST.pickle\n",
      "Training set (200000, 28, 28) (200000,)\n",
      "Validation set (10000, 28, 28) (10000,)\n",
      "Test set (10000, 28, 28) (10000,)\n"
     ]
    }
   ],
   "source": [
    "data_root = '../../input/notMNIST/' # Change me to store data elsewhere\n",
    "pickle_file = data_root + 'notMNIST.pickle'\n",
    "\n",
    "print('pickle file location: %s' % pickle_file)\n",
    "\n",
    "with open(pickle_file, 'rb') as f:\n",
    "    save = pickle.load(f)\n",
    "    train_dataset = save['train_dataset']\n",
    "    train_labels = save['train_labels']\n",
    "    valid_dataset = save['valid_dataset']\n",
    "    valid_labels = save['valid_labels']\n",
    "    test_dataset = save['test_dataset']\n",
    "    test_labels = save['test_labels']\n",
    "    del save  # hint to help gc free up memory\n",
    "    print('Training set', train_dataset.shape, train_labels.shape)\n",
    "    print('Validation set', valid_dataset.shape, valid_labels.shape)\n",
    "    print('Test set', test_dataset.shape, test_labels.shape)"
   ]
  },
  {
   "cell_type": "markdown",
   "metadata": {
    "colab_type": "text",
    "id": "L7aHrm6nGDMB"
   },
   "source": [
    "Reformat into a shape that's more adapted to the models we're going to train:\n",
    "- data as a flat matrix,\n",
    "- labels as float 1-hot encodings."
   ]
  },
  {
   "cell_type": "code",
   "execution_count": 4,
   "metadata": {
    "cellView": "both",
    "colab": {
     "autoexec": {
      "startup": false,
      "wait_interval": 0
     },
     "output_extras": [
      {
       "item_id": 1
      }
     ]
    },
    "colab_type": "code",
    "executionInfo": {
     "elapsed": 11728,
     "status": "ok",
     "timestamp": 1449849322356,
     "user": {
      "color": "",
      "displayName": "",
      "isAnonymous": false,
      "isMe": true,
      "permissionId": "",
      "photoUrl": "",
      "sessionId": "0",
      "userId": ""
     },
     "user_tz": 480
    },
    "id": "IRSyYiIIGIzS",
    "outputId": "3f8996ee-3574-4f44-c953-5c8a04636582"
   },
   "outputs": [
    {
     "name": "stdout",
     "output_type": "stream",
     "text": [
      "Training set (200000, 784) (200000, 10)\n",
      "Validation set (10000, 784) (10000, 10)\n",
      "Test set (10000, 784) (10000, 10)\n"
     ]
    }
   ],
   "source": [
    "image_size = 28\n",
    "num_labels = 10\n",
    "\n",
    "def reformat(dataset, labels):\n",
    "    dataset = dataset.reshape((-1, image_size * image_size)).astype(np.float32)\n",
    "    \n",
    "    # Map 0 to [1.0, 0.0, 0.0 ...], 1 to [0.0, 1.0, 0.0 ...]\n",
    "    labels = (np.arange(num_labels) == labels[:,None]).astype(np.float32)\n",
    "    return dataset, labels\n",
    "\n",
    "train_dataset, train_labels = reformat(train_dataset, train_labels)\n",
    "valid_dataset, valid_labels = reformat(valid_dataset, valid_labels)\n",
    "test_dataset, test_labels = reformat(test_dataset, test_labels)\n",
    "print('Training set', train_dataset.shape, train_labels.shape)\n",
    "print('Validation set', valid_dataset.shape, valid_labels.shape)\n",
    "print('Test set', test_dataset.shape, test_labels.shape)"
   ]
  },
  {
   "cell_type": "code",
   "execution_count": 5,
   "metadata": {
    "cellView": "both",
    "colab": {
     "autoexec": {
      "startup": false,
      "wait_interval": 0
     }
    },
    "colab_type": "code",
    "id": "RajPLaL_ZW6w"
   },
   "outputs": [],
   "source": [
    "def accuracy(predictions, labels):\n",
    "    return (100.0 * np.sum(np.argmax(predictions, 1) == np.argmax(labels, 1))\n",
    "            / predictions.shape[0])"
   ]
  },
  {
   "cell_type": "markdown",
   "metadata": {
    "colab_type": "text",
    "id": "sgLbUAQ1CW-1"
   },
   "source": [
    "---\n",
    "Problem 1\n",
    "---------\n",
    "\n",
    "Introduce and tune L2 regularization for both logistic and neural network models. Remember that L2 amounts to adding a penalty on the norm of the weights to the loss. In TensorFlow, you can compute the L2 loss for a tensor `t` using `nn.l2_loss(t)`. The right amount of regularization should improve your validation / test accuracy.\n",
    "\n",
    "---"
   ]
  },
  {
   "cell_type": "code",
   "execution_count": 6,
   "metadata": {},
   "outputs": [],
   "source": [
    "# Define a fully connected layer\n",
    "def fc_layer(input_x, channels_in, channels_out, layer_name='Full_Connection_Layer'):\n",
    "    with tf.name_scope(layer_name):\n",
    "        # It is not a good idea to set initial value as zero\n",
    "        # It will cause problem during the learning activity\n",
    "        # w = tf.Variable(tf.zeros([channels_in, channels_out]))\n",
    "\n",
    "        # These are the parameters that we are going to be training. The weight\n",
    "        # matrix will be initialized using random values following a (truncated)\n",
    "        # normal distribution.\n",
    "        weights = tf.Variable(tf.truncated_normal([channels_in, channels_out]), name='W')\n",
    "\n",
    "        # The biases get initialized to zero.\n",
    "        biases = tf.Variable(tf.zeros([channels_out]), name='B')\n",
    "        fc_conn = tf.matmul(input_x, weights)\n",
    "        act = tf.nn.relu(fc_conn + biases)\n",
    "\n",
    "        tf.summary.histogram(\"weights\", weights)\n",
    "        tf.summary.histogram(\"biases\", biases)\n",
    "        tf.summary.histogram(\"fc_conn\", fc_conn)\n",
    "\n",
    "        return act\n",
    "\n",
    "\n",
    "# Define a Convolutional layer\n",
    "def conv_layer(input_x, channels_in, channels_out, layer_name='Convolutional_Layer'):\n",
    "    with tf.name_scope(layer_name):\n",
    "        weights = tf.Variable(tf.zeros([5, 5, channels_in, channels_out]), name='W')\n",
    "        biases = tf.Variable(tf.zeros(channels_out), name='B')\n",
    "        conv_conn = tf.nn.conv2d(input_x, weights, strides=[1, 1, 1, 1], padding='SAME')\n",
    "        act = tf.nn.relu(conv_conn + biases)\n",
    "\n",
    "        tf.summary.histogram(\"weights\", weights)\n",
    "        tf.summary.histogram(\"biases\", biases)\n",
    "        tf.summary.histogram(\"conv_conn\", conv_conn)\n",
    "\n",
    "        return act\n",
    "    "
   ]
  },
  {
   "cell_type": "code",
   "execution_count": 8,
   "metadata": {},
   "outputs": [],
   "source": [
    "# build the network graph\n",
    "\n",
    "batch_size = 128\n",
    "\n",
    "graph = tf.Graph()\n",
    "with graph.as_default():\n",
    "\n",
    "    # Input data. For the training data, we use a placeholder that will be fed\n",
    "    # at run time with a training minibatch.\n",
    "    with tf.name_scope('Input_X'):\n",
    "        tf_train_dataset = tf.placeholder(tf.float32, shape=(None, image_size * image_size), name='Train_X')\n",
    "        # tf_train_dataset = tf.placeholder(tf.float32, shape=(batch_size, image_size * image_size), name='Train_X')\n",
    "        # tf_valid_dataset = tf.constant(valid_dataset, name='Valid_X')\n",
    "        # tf_test_dataset = tf.constant(test_dataset, name='Test_X')\n",
    "\n",
    "    with tf.name_scope('Labels_y'):\n",
    "        # tf_train_labels = tf.placeholder(tf.float32, shape=(batch_size, num_labels), name='T_y')\n",
    "        tf_train_labels = tf.placeholder(tf.float32, shape=(None, num_labels), name='T_y')\n",
    "\n",
    "    with tf.name_scope('Data_reshape_for_image'):\n",
    "        # image for display purpose\n",
    "        tf_train_ds_image = tf.reshape(tf_train_dataset, [-1, 28, 28, 1])\n",
    "        # tensorboard logging\n",
    "        tf.summary.image('input', tf_train_ds_image, 3)\n",
    "\n",
    "    # Create the network\n",
    "    full_conn_1 = fc_layer(tf_train_dataset, image_size * image_size, num_labels, layer_name='fc_conn_1')\n",
    "    logits = full_conn_1\n",
    "\n",
    "    with tf.name_scope('loss_function'):\n",
    "        with tf.variable_scope('fc_conn_1', reuse=tf.AUTO_REUSE):\n",
    "            fc_conn_w = tf.get_variable(\"W\", [image_size * image_size, num_labels])\n",
    "\n",
    "        loss = tf.reduce_mean(tf.nn.softmax_cross_entropy_with_logits_v2(labels=tf_train_labels,\n",
    "                                                                         logits=logits), name='cross_entropy') \\\n",
    "            + tf.nn.l2_loss(fc_conn_w)\n",
    "\n",
    "        tf.summary.scalar('cross_entropy', loss)\n",
    "        \n",
    "\n",
    "    # Optimizer.\n",
    "    with tf.name_scope('Optimizer'):\n",
    "        optimizer = tf.train.GradientDescentOptimizer(0.5).minimize(loss)\n",
    "\n",
    "    # Accuracy\n",
    "    with tf.name_scope('Accuracy'):\n",
    "        prediction = logits\n",
    "        correct_prediction = tf.equal(tf.argmax(prediction, 1), tf.argmax(tf_train_labels, 1))\n",
    "        accuracy_res = tf.reduce_mean(tf.cast(correct_prediction, tf.float32))\n",
    "        tf.summary.scalar('accuracy_res', accuracy_res)\n",
    "\n"
   ]
  },
  {
   "cell_type": "code",
   "execution_count": 13,
   "metadata": {},
   "outputs": [
    {
     "name": "stdout",
     "output_type": "stream",
     "text": [
      "Initialized\n",
      "Logging Directory : logs/3_2/20180814175632\n",
      "Minibatch loss at step 0: 23.973728\n",
      "Minibatch accuracy: 8.6%\n",
      "Validation accuracy: 13.1%\n",
      "Minibatch loss at step 500: 1.101150\n",
      "Minibatch accuracy: 73.4%\n",
      "Validation accuracy: 72.6%\n",
      "Minibatch loss at step 1000: 1.108867\n",
      "Minibatch accuracy: 73.4%\n",
      "Validation accuracy: 74.8%\n",
      "Minibatch loss at step 1500: 0.806843\n",
      "Minibatch accuracy: 81.2%\n",
      "Validation accuracy: 75.6%\n",
      "Minibatch loss at step 2000: 0.741570\n",
      "Minibatch accuracy: 82.8%\n",
      "Validation accuracy: 76.7%\n",
      "Minibatch loss at step 2500: 0.705916\n",
      "Minibatch accuracy: 80.5%\n",
      "Validation accuracy: 77.5%\n",
      "Minibatch loss at step 3000: 0.773560\n",
      "Minibatch accuracy: 76.6%\n",
      "Validation accuracy: 78.2%\n",
      "Test accuracy: 85.7%\n"
     ]
    }
   ],
   "source": [
    "# Run the model\n",
    "\n",
    "num_steps = 3001\n",
    "\n",
    "with tf.Session(graph=graph) as session:\n",
    "\n",
    "    # Initialize all the variables\n",
    "    # session.run(tf.global_variables_initializer())\n",
    "    tf.global_variables_initializer().run()\n",
    "    print(\"Initialized\")\n",
    "\n",
    "    # Make the tensorboard log writer\n",
    "    session_log_dir = \"logs/3_2/\" + dt.today().strftime('%Y%m%d%H%M%S')\n",
    "    writer = tf.summary.FileWriter(session_log_dir)\n",
    "    print(\"Logging Directory : %s\" % session_log_dir)\n",
    "    \n",
    "    writer.add_graph(session.graph)\n",
    "\n",
    "    # Merge all the tf summary\n",
    "    merged_summary = tf.summary.merge_all()\n",
    "\n",
    "    # Data Set\n",
    "    # Minibatch will be built in loop\n",
    "    valid_feed_dict = {tf_train_dataset: valid_dataset, tf_train_labels: valid_labels}\n",
    "    test_feed_dict = {tf_train_dataset: test_dataset, tf_train_labels: test_labels}\n",
    "\n",
    "    for step in range(num_steps):\n",
    "\n",
    "        # Pick an offset within the training data, which has been randomized.\n",
    "        # Note: we could use better randomization across epochs.\n",
    "        offset = (step * batch_size) % (train_labels.shape[0] - batch_size)\n",
    "\n",
    "        # Generate a minibatch.\n",
    "        batch_data = train_dataset[offset:(offset + batch_size), :]\n",
    "        batch_labels = train_labels[offset:(offset + batch_size), :]\n",
    "\n",
    "        # Prepare a dictionary telling the session where to feed the minibatch.\n",
    "        # The key of the dictionary is the placeholder node of the graph to be fed,\n",
    "        # and the value is the numpy array to feed to it.\n",
    "        train_feed_dict = {tf_train_dataset: batch_data, tf_train_labels: batch_labels}\n",
    "\n",
    "        if step % 5 == 0:\n",
    "            s = session.run(merged_summary, feed_dict=train_feed_dict)\n",
    "            writer.add_summary(s, step)\n",
    "\n",
    "        _, l, train_prediction = session.run([optimizer, loss, prediction], feed_dict=train_feed_dict)\n",
    "\n",
    "        if step % 500 == 0:\n",
    "            # Predictions for the validation, and test data.\n",
    "\n",
    "            valid_prediction = session.run(logits, feed_dict=valid_feed_dict)\n",
    "            print(\"Minibatch loss at step %d: %f\" % (step, l))\n",
    "            print(\"Minibatch accuracy: %.1f%%\" % accuracy(train_prediction, batch_labels))\n",
    "            print(\"Validation accuracy: %.1f%%\" % accuracy(valid_prediction, valid_labels))\n",
    "\n",
    "    test_prediction = session.run(logits, feed_dict=test_feed_dict)\n",
    "    print(\"Test accuracy: %.1f%%\" % accuracy(test_prediction, test_labels))\n"
   ]
  },
  {
   "cell_type": "markdown",
   "metadata": {
    "colab_type": "text",
    "id": "na8xX2yHZzNF"
   },
   "source": [
    "---\n",
    "Problem 2\n",
    "---------\n",
    "Let's demonstrate an extreme case of overfitting. Restrict your training data to just a few batches. What happens?\n",
    "\n",
    "---"
   ]
  },
  {
   "cell_type": "code",
   "execution_count": 9,
   "metadata": {},
   "outputs": [
    {
     "name": "stdout",
     "output_type": "stream",
     "text": [
      "Initialized\n",
      "Logging Directory : logs/3_2/20180815162020\n",
      "Minibatch loss at step 0: 22.245453\n",
      "Minibatch accuracy: 14.1%\n",
      "Validation accuracy: 10.2%\n",
      "Minibatch loss at step 500: 0.866742\n",
      "Minibatch accuracy: 63.3%\n",
      "Validation accuracy: 30.6%\n",
      "Minibatch loss at step 1000: 0.865014\n",
      "Minibatch accuracy: 63.3%\n",
      "Validation accuracy: 31.8%\n",
      "Minibatch loss at step 1500: 0.864489\n",
      "Minibatch accuracy: 63.3%\n",
      "Validation accuracy: 32.3%\n",
      "Minibatch loss at step 2000: 0.864230\n",
      "Minibatch accuracy: 63.3%\n",
      "Validation accuracy: 32.7%\n",
      "Minibatch loss at step 2500: 0.864077\n",
      "Minibatch accuracy: 63.3%\n",
      "Validation accuracy: 33.0%\n",
      "Minibatch loss at step 3000: 0.863976\n",
      "Minibatch accuracy: 63.3%\n",
      "Validation accuracy: 33.3%\n",
      "Test accuracy: 36.2%\n"
     ]
    }
   ],
   "source": [
    "# Run the model\n",
    "\n",
    "num_steps = 3001\n",
    "\n",
    "with tf.Session(graph=graph) as session:\n",
    "\n",
    "    # Initialize all the variables\n",
    "    # session.run(tf.global_variables_initializer())\n",
    "    tf.global_variables_initializer().run()\n",
    "    print(\"Initialized\")\n",
    "\n",
    "    # Make the tensorboard log writer\n",
    "    session_log_dir = \"logs/3_2/\" + dt.today().strftime('%Y%m%d%H%M%S')\n",
    "    writer = tf.summary.FileWriter(session_log_dir)\n",
    "    print(\"Logging Directory : %s\" % session_log_dir)\n",
    "    \n",
    "    writer.add_graph(session.graph)\n",
    "\n",
    "    # Merge all the tf summary\n",
    "    merged_summary = tf.summary.merge_all()\n",
    "\n",
    "    # Data Set\n",
    "    # Minibatch will be built in loop\n",
    "    valid_feed_dict = {tf_train_dataset: valid_dataset, tf_train_labels: valid_labels}\n",
    "    test_feed_dict = {tf_train_dataset: test_dataset, tf_train_labels: test_labels}\n",
    "\n",
    "    for step in range(num_steps):\n",
    "\n",
    "        # Pick an offset within the training data, which has been randomized.\n",
    "        # Note: we could use better randomization across epochs.\n",
    "        # offset = (step * batch_size) % (train_labels.shape[0] - batch_size)\n",
    "        offset = 0\n",
    "\n",
    "        # Generate a minibatch.\n",
    "        batch_data = train_dataset[offset:(offset + batch_size), :]\n",
    "        batch_labels = train_labels[offset:(offset + batch_size), :]\n",
    "\n",
    "        # Prepare a dictionary telling the session where to feed the minibatch.\n",
    "        # The key of the dictionary is the placeholder node of the graph to be fed,\n",
    "        # and the value is the numpy array to feed to it.\n",
    "        train_feed_dict = {tf_train_dataset: batch_data, tf_train_labels: batch_labels}\n",
    "\n",
    "        if step % 5 == 0:\n",
    "            s = session.run(merged_summary, feed_dict=train_feed_dict)\n",
    "            writer.add_summary(s, step)\n",
    "\n",
    "        _, l, train_prediction = session.run([optimizer, loss, prediction], feed_dict=train_feed_dict)\n",
    "\n",
    "        if step % 500 == 0:\n",
    "            # Predictions for the validation, and test data.\n",
    "\n",
    "            valid_prediction = session.run(logits, feed_dict=valid_feed_dict)\n",
    "            print(\"Minibatch loss at step %d: %f\" % (step, l))\n",
    "            print(\"Minibatch accuracy: %.1f%%\" % accuracy(train_prediction, batch_labels))\n",
    "            print(\"Validation accuracy: %.1f%%\" % accuracy(valid_prediction, valid_labels))\n",
    "\n",
    "    test_prediction = session.run(logits, feed_dict=test_feed_dict)\n",
    "    print(\"Test accuracy: %.1f%%\" % accuracy(test_prediction, test_labels))"
   ]
  },
  {
   "cell_type": "markdown",
   "metadata": {
    "colab_type": "text",
    "id": "ww3SCBUdlkRc"
   },
   "source": [
    "---\n",
    "Problem 3\n",
    "---------\n",
    "Introduce Dropout on the hidden layer of the neural network. Remember: Dropout should only be introduced during training, not evaluation, otherwise your evaluation results would be stochastic as well. TensorFlow provides `nn.dropout()` for that, but you have to make sure it's only inserted during training.\n",
    "\n",
    "What happens to our extreme overfitting case?\n",
    "\n",
    "---"
   ]
  },
  {
   "cell_type": "markdown",
   "metadata": {
    "colab_type": "text",
    "id": "-b1hTz3VWZjw"
   },
   "source": [
    "---\n",
    "Problem 4\n",
    "---------\n",
    "\n",
    "Try to get the best performance you can using a multi-layer model! The best reported test accuracy using a deep network is [97.1%](http://yaroslavvb.blogspot.com/2011/09/notmnist-dataset.html?showComment=1391023266211#c8758720086795711595).\n",
    "\n",
    "One avenue you can explore is to add multiple layers.\n",
    "\n",
    "Another one is to use learning rate decay:\n",
    "\n",
    "    global_step = tf.Variable(0)  # count the number of steps taken.\n",
    "    learning_rate = tf.train.exponential_decay(0.5, global_step, ...)\n",
    "    optimizer = tf.train.GradientDescentOptimizer(learning_rate).minimize(loss, global_step=global_step)\n",
    " \n",
    " ---\n"
   ]
  }
 ],
 "metadata": {
  "colab": {
   "default_view": {},
   "name": "3_regularization.ipynb",
   "provenance": [],
   "version": "0.3.2",
   "views": {}
  },
  "kernelspec": {
   "display_name": "Python 3",
   "language": "python",
   "name": "python3"
  },
  "language_info": {
   "codemirror_mode": {
    "name": "ipython",
    "version": 3
   },
   "file_extension": ".py",
   "mimetype": "text/x-python",
   "name": "python",
   "nbconvert_exporter": "python",
   "pygments_lexer": "ipython3",
   "version": "3.6.3"
  }
 },
 "nbformat": 4,
 "nbformat_minor": 1
}
