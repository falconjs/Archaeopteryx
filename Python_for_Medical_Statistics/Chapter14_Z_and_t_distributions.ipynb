{
 "cells": [
  {
   "cell_type": "markdown",
   "metadata": {},
   "source": [
    "Setting up a fancy stylesheet"
   ]
  },
  {
   "cell_type": "code",
   "execution_count": 1,
   "metadata": {
    "collapsed": false
   },
   "outputs": [
    {
     "data": {
      "text/html": [
       "<link href='http://fonts.googleapis.com/css?family=Alegreya+Sans:100,300,400,500,700,800,900,100italic,300italic,400italic,500italic,700italic,800italic,900italic' rel='stylesheet' type='text/css'>\n",
       "<link href='http://fonts.googleapis.com/css?family=Arvo:400,700,400italic' rel='stylesheet' type='text/css'>\n",
       "<link href='http://fonts.googleapis.com/css?family=PT+Mono' rel='stylesheet' type='text/css'>\n",
       "<link href='http://fonts.googleapis.com/css?family=Shadows+Into+Light' rel='stylesheet' type='text/css'>\n",
       "<link href='http://fonts.googleapis.com/css?family=Philosopher:400,700,400italic,700italic' rel='stylesheet' type='text/css'>\n",
       "\n",
       "<style>\n",
       "\n",
       "@font-face {\n",
       "    font-family: \"Computer Modern\";\n",
       "    src: url('http://mirrors.ctan.org/fonts/cm-unicode/fonts/otf/cmunss.otf');\n",
       "}\n",
       "\n",
       "#notebook_panel { /* main background */\n",
       "    background: #ddd;\n",
       "    color: #000000;\n",
       "}\n",
       "\n",
       "\n",
       "div.text_cell_render{\n",
       "    font-family: 'Arvo' sans-serif;\n",
       "    line-height: 130%;\n",
       "    font-size: 115%;\n",
       "    width:1000px;\n",
       "    margin-left:auto;\n",
       "    margin-right:auto;\n",
       "}\n",
       "\n",
       "\n",
       "/* Formatting for header cells */\n",
       ".text_cell_render h1 {\n",
       "    font-family: 'Philosopher', sans-serif;\n",
       "    font-weight: 400;\n",
       "    font-size: 2.2em;\n",
       "    line-height: 100%;\n",
       "    color: rgb(0, 80, 120);\n",
       "    margin-bottom: 0.1em;\n",
       "    margin-top: 0.1em;\n",
       "    display: block;\n",
       "}\t\n",
       ".text_cell_render h2 {\n",
       "    font-family: 'Philosopher', serif;\n",
       "    font-weight: 400;\n",
       "    font-size: 1.9em;\n",
       "    line-height: 100%;\n",
       "    color: rgb(200,100,0);\n",
       "    margin-bottom: 0.1em;\n",
       "    margin-top: 0.1em;\n",
       "    display: block;\n",
       "}\t\n",
       "\n",
       ".text_cell_render h3 {\n",
       "    font-family: 'Philosopher', serif;\n",
       "    margin-top:12px;\n",
       "    margin-bottom: 3px;\n",
       "    font-style: italic;\n",
       "    color: rgb(94,127,192);\n",
       "}\n",
       "\n",
       ".text_cell_render h4 {\n",
       "    font-family: 'Philosopher', serif;\n",
       "}\n",
       "\n",
       ".text_cell_render h5 {\n",
       "    font-family: 'Alegreya Sans', sans-serif;\n",
       "    font-weight: 300;\n",
       "    font-size: 16pt;\n",
       "    color: grey;\n",
       "    font-style: italic;\n",
       "    margin-bottom: .1em;\n",
       "    margin-top: 0.1em;\n",
       "    display: block;\n",
       "}\n",
       "\n",
       ".text_cell_render h6 {\n",
       "    font-family: 'PT Mono', sans-serif;\n",
       "    font-weight: 300;\n",
       "    font-size: 10pt;\n",
       "    color: grey;\n",
       "    margin-bottom: 1px;\n",
       "    margin-top: 1px;\n",
       "}\n",
       "\n",
       ".CodeMirror{\n",
       "        font-family: \"PT Mono\";\n",
       "        font-size: 100%;\n",
       "}\n",
       "\n",
       "</style>\n",
       "\n"
      ],
      "text/plain": [
       "<IPython.core.display.HTML object>"
      ]
     },
     "execution_count": 1,
     "metadata": {},
     "output_type": "execute_result"
    }
   ],
   "source": [
    "from IPython.core.display import HTML\n",
    "css_file = 'style.css'\n",
    "HTML(open(css_file, 'r').read())"
   ]
  },
  {
   "cell_type": "markdown",
   "metadata": {},
   "source": [
    "Setting up the required python &#8482; environment"
   ]
  },
  {
   "cell_type": "code",
   "execution_count": 2,
   "metadata": {
    "collapsed": false
   },
   "outputs": [],
   "source": [
    "import numpy as np\n",
    "import pandas as pd\n",
    "from scipy import stats\n",
    "#from scipy.stats import bayes_mvs\n",
    "#from math import factorial\n",
    "#import scikits.bootstrap as bs\n",
    "import matplotlib.pyplot as plt\n",
    "import seaborn as sns\n",
    "from warnings import filterwarnings\n",
    "\n",
    "%matplotlib inline\n",
    "filterwarnings('ignore')"
   ]
  },
  {
   "cell_type": "markdown",
   "metadata": {},
   "source": [
    "# The Z and t distributions"
   ]
  },
  {
   "cell_type": "markdown",
   "metadata": {},
   "source": [
    "## Introduction"
   ]
  },
  {
   "cell_type": "markdown",
   "metadata": {},
   "source": [
    "<p>It is of utmost importance to understand the difference between the distribution of your dataset (per variable) as opposed to the two most common statistical distributions, the Z and t distributions.  Let's take white cell count (WCC) as an example.  Imagine for a moment that you could measure the WCC of 1 000 000 healthy individuals.  What would the ditribution of values look like?</p>\n",
    "<p>Fist of all, let's be clear that by distribution I refer to the fact that we start counting how many times a specific WCC value comes up.  Certainly some values will come up more commonly than others.  Something deeper is going on here.  You might have guessed it.  Yes, WCC is a continuous variable.  For all practical purposes, the WCC is infinitely divisible.  If we had a very powerful WCC counting apparatus, it could measure the WCC of an individual as 5.5 or 5.56 or 5.564, or 5.5648.  Would we count the occurence of all of these as seperate values?  Not at all.  They form part of a seemless mass.  We can only make sense of ranges of values, say lump (bin) all values between 5.50 and 5.55 in a group (called a bin).  To be sure, there are many, many possible individual values between these two bounds.</p>\n",
    "<p>Again, we would have to ask: Are all of these arbitrary range bins equally likely to occur?</p>\n",
    "<p>Random variables come in patterns, which we call distributions.  Most variables pertaining to healthcare come in the normal form.  This means if we were to get a histogram of the variables, it would be bell-shaped, or have a normal curve.  There are many other continous distributions and also discrete distributions.  The geometric distribution is and examples of a discrete random variable distribution.</p>\n",
    "<p>In the first section below I'll show you how python&#8482; (using the *scipy.stats* library can generate random variables for you to play with.  We'll use the plotting libraries of *pandas*, *matplotlib*, and *seaborn*, to image these variables.</p>"
   ]
  },
  {
   "cell_type": "markdown",
   "metadata": {},
   "source": [
    "## Generating random normal variables"
   ]
  },
  {
   "cell_type": "markdown",
   "metadata": {},
   "source": [
    "<p>In this first section I will create a computer variable called *rv1* and attach to it the normal distribution.  In actual fact, it will be the standard normal distribution.  The standard normal distribution has a mean of zero and a standard deviation of one.  It doesn't do much, but just to show you I'll call the *.mean()*, *.median()*, and *.std()* functions."
   ]
  },
  {
   "cell_type": "code",
   "execution_count": 3,
   "metadata": {
    "collapsed": false
   },
   "outputs": [],
   "source": [
    "rv1 = stats.norm()"
   ]
  },
  {
   "cell_type": "code",
   "execution_count": 4,
   "metadata": {
    "collapsed": false
   },
   "outputs": [
    {
     "data": {
      "text/plain": [
       "0.0"
      ]
     },
     "execution_count": 4,
     "metadata": {},
     "output_type": "execute_result"
    }
   ],
   "source": [
    "rv1.mean()"
   ]
  },
  {
   "cell_type": "code",
   "execution_count": 5,
   "metadata": {
    "collapsed": false
   },
   "outputs": [
    {
     "data": {
      "text/plain": [
       "0.0"
      ]
     },
     "execution_count": 5,
     "metadata": {},
     "output_type": "execute_result"
    }
   ],
   "source": [
    "rv1.median()"
   ]
  },
  {
   "cell_type": "code",
   "execution_count": 6,
   "metadata": {
    "collapsed": false
   },
   "outputs": [
    {
     "data": {
      "text/plain": [
       "1.0"
      ]
     },
     "execution_count": 6,
     "metadata": {},
     "output_type": "execute_result"
    }
   ],
   "source": [
    "rv1.std()"
   ]
  },
  {
   "cell_type": "markdown",
   "metadata": {},
   "source": [
    "<p>Now that wasn't too exiting.  I can ask the *stats* library to generate a whole lot of random variables from the normal distribution.  Here I attach it to a *pandas Series* object and attach it to the computer variable name *rv1_set*.  I then use the *.describe()* function to find out a little more about my new dataset.</p>"
   ]
  },
  {
   "cell_type": "code",
   "execution_count": 7,
   "metadata": {
    "collapsed": false
   },
   "outputs": [
    {
     "data": {
      "text/plain": [
       "count    2000.000000\n",
       "mean        0.005339\n",
       "std         1.001829\n",
       "min        -3.632323\n",
       "25%        -0.645921\n",
       "50%        -0.032196\n",
       "75%         0.658415\n",
       "max         4.241615\n",
       "dtype: float64"
      ]
     },
     "execution_count": 7,
     "metadata": {},
     "output_type": "execute_result"
    }
   ],
   "source": [
    "rv1_values = stats.norm.rvs(size = 2000) # I create 2000 values, all taken from a normal distribution\n",
    "rv1_set = pd.Series(rv1_values) # Making a pandas Series object\n",
    "rv1_set.describe() # Every time you run this cell, a new set of variables will be created"
   ]
  },
  {
   "cell_type": "markdown",
   "metadata": {},
   "source": [
    "<p>Now for the really interesting bit.  Graphing (plotting) the dataset.  I'll use *seaborn*'s *distplot* plot.  It will generate a histogram, which will autogenerate (unless I give it a specific value in the arguments) a bunch of bins (each describes a range of values) and then gives the number of times that a value in my dataset occurs in that range, but expressing it as a probability.  You'll clearly see that we have a bell-shaped curve.</p>\n",
    "<p>The *displot* goes further and constructs what is called a kernel denisty estimate.  A mathematical equation is created to derive a smooth curve of the dataset.</p>"
   ]
  },
  {
   "cell_type": "code",
   "execution_count": 8,
   "metadata": {
    "collapsed": false
   },
   "outputs": [
    {
     "data": {
      "image/png": "[encoded data removed]",
      "text/plain": [
       "<matplotlib.figure.Figure at 0x108a77780>"
      ]
     },
     "metadata": {},
     "output_type": "display_data"
    }
   ],
   "source": [
    "plt.figure(figsize = (10, 8))\n",
    "sns.distplot(rv1_set)\n",
    "plt.show();"
   ]
  },
  {
   "cell_type": "markdown",
   "metadata": {},
   "source": [
    "### The probability density function"
   ]
  },
  {
   "cell_type": "markdown",
   "metadata": {},
   "source": [
    "<p>The kernel density function above is a type of probability density function (see below for Z and t distributions). A probability density function stretches from negative infinity to infinity on the x-axis and includes all of the possible values in a set, with the probability of any value occuring on the y-axis.  The python&#8482; function that I use is *.cdf()*.  It calculates the area under the curve from the left up until a point on the x-axis that I want, which I add as an argument.  Say I want to ask the question: Hwo likely was it to get a value of *-2* or less from a standard normal distribution?  That would be the area under the curve from negative infinity (from the left) up until the *-2* mark.  Here we go!</p>"
   ]
  },
  {
   "cell_type": "code",
   "execution_count": 9,
   "metadata": {
    "collapsed": false
   },
   "outputs": [
    {
     "data": {
      "text/plain": [
       "0.022750131948179195"
      ]
     },
     "execution_count": 9,
     "metadata": {},
     "output_type": "execute_result"
    }
   ],
   "source": [
    "rv1.cdf(-2)"
   ]
  },
  {
   "cell_type": "markdown",
   "metadata": {},
   "source": [
    "<p>The value given is the probability of getting a value in your random dataset of less than *-2*.  Let's ask how likely it is to get a value of more than *0.7*.  Not so easy.  Remember that we calculate the area from the left, so if we plug in *0.7* as an argument, we will get the probability of getting a value of less than *0.7*.  To solve this little conundrum, remember that the total area under the curve is *1.0*.  So we can subtract the *0.7* area value from *1.0* and *voila!* we have the answer.</p>"
   ]
  },
  {
   "cell_type": "code",
   "execution_count": 10,
   "metadata": {
    "collapsed": false
   },
   "outputs": [
    {
     "data": {
      "text/plain": [
       "0.24196365222307303"
      ]
     },
     "execution_count": 10,
     "metadata": {},
     "output_type": "execute_result"
    }
   ],
   "source": [
    "1 - rv1.cdf(0.7)"
   ]
  },
  {
   "cell_type": "markdown",
   "metadata": {},
   "source": [
    "### Other normal distributions"
   ]
  },
  {
   "cell_type": "markdown",
   "metadata": {},
   "source": [
    "<p>I needn't be stuck with the standard normal distribution.  I can generate and play with a set of variables from a normal distribution, with any given mean and standard deviation.</p>\n",
    "<p>Here I take 200 random sample from a normal distribution with a mean of *10* and a standard deviation of *4* and construct the sample values as a *pandas Series* object that I attach to the computer variable *rv2_set*.  I'll then desribe and plot the dataset.</p>"
   ]
  },
  {
   "cell_type": "code",
   "execution_count": 11,
   "metadata": {
    "collapsed": false
   },
   "outputs": [],
   "source": [
    "rv2_set = pd.Series(stats.norm.rvs(loc = 10, scale = 4, size = 200)) # The argument loc is the eman and scale is the standard deviation"
   ]
  },
  {
   "cell_type": "code",
   "execution_count": 12,
   "metadata": {
    "collapsed": false
   },
   "outputs": [
    {
     "data": {
      "text/plain": [
       "count    200.000000\n",
       "mean      10.066117\n",
       "std        3.717157\n",
       "min       -1.600347\n",
       "25%        7.651339\n",
       "50%       10.059294\n",
       "75%       12.793162\n",
       "max       19.223572\n",
       "dtype: float64"
      ]
     },
     "execution_count": 12,
     "metadata": {},
     "output_type": "execute_result"
    }
   ],
   "source": [
    "rv2_set.describe()"
   ]
  },
  {
   "cell_type": "code",
   "execution_count": 13,
   "metadata": {
    "collapsed": false
   },
   "outputs": [
    {
     "data": {
      "image/png": "[encoded data removed]",
      "text/plain": [
       "<matplotlib.figure.Figure at 0x108bf1550>"
      ]
     },
     "metadata": {},
     "output_type": "display_data"
    }
   ],
   "source": [
    "plt.figure(figsize = (10, 8))\n",
    "sns.distplot(rv2_set)\n",
    "plt.show();"
   ]
  },
  {
   "cell_type": "markdown",
   "metadata": {},
   "source": [
    "## A completely random set of values"
   ]
  },
  {
   "cell_type": "markdown",
   "metadata": {},
   "source": [
    "<p>Just to be clear, I can use the *numpy* library to generate a set of random variables, not from any know distribution.  It is never realy, really random, but that's another topic.</p>"
   ]
  },
  {
   "cell_type": "code",
   "execution_count": 14,
   "metadata": {
    "collapsed": false
   },
   "outputs": [
    {
     "data": {
      "image/png": "[encoded data removed]",
      "text/plain": [
       "<matplotlib.figure.Figure at 0x108eb67f0>"
      ]
     },
     "metadata": {},
     "output_type": "display_data"
    }
   ],
   "source": [
    "random_variables = np.random.random(size = 2000)\n",
    "\n",
    "plt.figure(figsize = (10, 8))\n",
    "plt.hist(random_variables, bins = 50)\n",
    "plt.show();"
   ]
  },
  {
   "cell_type": "markdown",
   "metadata": {},
   "source": [
    "## The Z distribution"
   ]
  },
  {
   "cell_type": "markdown",
   "metadata": {},
   "source": [
    "<p>From the lecture on the central limit theorem (CLT) you'll remember that we talked about the mean of all the possible means (remember combination?).  When we plot a histogram of this, we note that it is bell-shaped, or normal.  It also has a probability density function and we can ask the same questions of it.  What is the probability (area under the curve) for getting a value larger than such or such?</p>\n",
    "<p>Now, when we talk about the Z distribution, we are no longer talking about the data from you actual sample set.  It is a distribution of all the possible means.  We use the equation for the Z distribution when we know (or can accurately estimate) population standard deviation and mean.  This happends very rarely.</p>"
   ]
  },
  {
   "cell_type": "markdown",
   "metadata": {},
   "source": [
    "<p>The equation for the probability desnity function of the Z distribuition (normal distribution) is:</p>\n",
    "$$ \\frac { 1 }{ \\sigma \\sqrt { 2\\pi  }  } { e }^{ -{ \\frac { { \\left( x-\\mu  \\right)  }^{ 2 } }{ { 2\\sigma  }^{ 2 } }  } } $$\n",
    "<p>Below is a bit of code to construct a plot from this equation.  You'll note that it is indeed bell-shaped.</p>"
   ]
  },
  {
   "cell_type": "code",
   "execution_count": 15,
   "metadata": {
    "collapsed": false
   },
   "outputs": [
    {
     "data": {
      "image/png": "[encoded data removed]",
      "text/plain": [
       "<matplotlib.figure.Figure at 0x10918a1d0>"
      ]
     },
     "metadata": {},
     "output_type": "display_data"
    }
   ],
   "source": [
    "x = np.linspace(-30, 30, 1000)\n",
    "sigma = 1\n",
    "mu =0\n",
    "pdf_z = (1 / sigma * np.sqrt(2 * np.pi)) * np.exp(-((x - mu) ** 2 / (2 * sigma ** 2)))\n",
    "\n",
    "plt.figure(figsize = (10,8))\n",
    "plt.plot(x, pdf_z, 'b-')\n",
    "plt.show();"
   ]
  },
  {
   "cell_type": "markdown",
   "metadata": {},
   "source": [
    "## The t distribution"
   ]
  },
  {
   "cell_type": "markdown",
   "metadata": {},
   "source": [
    "<p>It is much more common for us to know **nothing** about the population standard deviation.  In this case we have to construct a bell-shaped curve from the data we have at our disposal (our sample data).  The mathematics of this is quite spectacular as you'll see in the equation below.  In essence it construct for us a histogram of all the possible means.</p>\n",
    "<p>It is from this distribution that we calculate probability (area under the curve) for any question we would like answered.  For instance, consider that we have a set of values for a variable for each of two groups.  We calculate the means of each group and want to know if the difference in means is significant.  We could to a t-test for this.  When we do this t-test using the equation below, we (well actually python&#8482;) will calculate a t-distribution for the difference between the means of the two groups that we have in our study.  From this bell-shaped distribution (as guarenteed from the CLT) we can now ask: What was the probability (*p*-value or area under the curve) for finding our specific difference in means?</p>"
   ]
  },
  {
   "cell_type": "markdown",
   "metadata": {},
   "source": [
    "<p>The equation for the probability density function of the t-distribution is:</p>\n",
    "$$ \\frac { \\Gamma \\left( \\frac { \\nu +1 }{ 2 }  \\right)  }{ \\sqrt { \\nu \\pi  } \\Gamma \\left( \\frac { \\nu  }{ 2 }  \\right)  } { \\left( 1+\\frac { { t }^{ 2 } }{ \\nu  }  \\right)  }^{ -\\frac { \\nu +1 }{ 2 }  } $$\n",
    "<p>...where:</p>\n",
    "$$ \\Gamma $$\n",
    "<p>...is the gamma function and</p>\n",
    "$$ \\nu $$\n",
    "<p>...is the degrees of freedom.  I told you it was spectacular!</p>\n",
    "<p>In the example below I will generate *1000* examples from a t distribution and show you what the plot looks like.</p>"
   ]
  },
  {
   "cell_type": "code",
   "execution_count": 16,
   "metadata": {
    "collapsed": false
   },
   "outputs": [],
   "source": [
    "df = 10 # the distribution will loook different for each value given as the degrees of freedom\n",
    "r = stats.t.rvs(df, size = 1000) # Generating 1000 values and attaching it to the computer variable r"
   ]
  },
  {
   "cell_type": "code",
   "execution_count": 17,
   "metadata": {
    "collapsed": false
   },
   "outputs": [
    {
     "data": {
      "image/png": "[encoded data removed]",
      "text/plain": [
       "<matplotlib.figure.Figure at 0x109223390>"
      ]
     },
     "metadata": {},
     "output_type": "display_data"
    }
   ],
   "source": [
    "plt.figure(figsize = (10,8))\n",
    "sns.distplot(r)\n",
    "plt.show();"
   ]
  },
  {
   "cell_type": "markdown",
   "metadata": {},
   "source": [
    "<p>PLEASE note that I only include this last example to illustrate the bell-shaped nature of the curve.  A plot of the t-distribution is not a plot of your actual variable values.  It uses your data (or the difference between you means (and other parameters) to construct a plot (probability density function) of the means of all possible means you could have gotten had you been able to do your study over and over and over again!  Combinations rule!</p>"
   ]
  },
  {
   "cell_type": "code",
   "execution_count": null,
   "metadata": {
    "collapsed": false
   },
   "outputs": [],
   "source": []
  }
 ],
 "metadata": {
  "kernelspec": {
   "display_name": "Python 3",
   "language": "python",
   "name": "python3"
  },
  "language_info": {
   "codemirror_mode": {
    "name": "ipython",
    "version": 3
   },
   "file_extension": ".py",
   "mimetype": "text/x-python",
   "name": "python",
   "nbconvert_exporter": "python",
   "pygments_lexer": "ipython3",
   "version": "3.4.3"
  }
 },
 "nbformat": 4,
 "nbformat_minor": 0
}
