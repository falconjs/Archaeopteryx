{
 "cells": [
  {
   "cell_type": "markdown",
   "metadata": {},
   "source": [
    "Setting up a fancy stylesheet"
   ]
  },
  {
   "cell_type": "code",
   "execution_count": 3,
   "metadata": {},
   "outputs": [
    {
     "data": {
      "text/html": [
       "<link href='http://fonts.googleapis.com/css?family=Alegreya+Sans:100,300,400,500,700,800,900,100italic,300italic,400italic,500italic,700italic,800italic,900italic' rel='stylesheet' type='text/css'>\n",
       "<link href='http://fonts.googleapis.com/css?family=Arvo:400,700,400italic' rel='stylesheet' type='text/css'>\n",
       "<link href='http://fonts.googleapis.com/css?family=PT+Mono' rel='stylesheet' type='text/css'>\n",
       "<link href='http://fonts.googleapis.com/css?family=Shadows+Into+Light' rel='stylesheet' type='text/css'>\n",
       "<link href='http://fonts.googleapis.com/css?family=Philosopher:400,700,400italic,700italic' rel='stylesheet' type='text/css'>\n",
       "\n",
       "<style>\n",
       "\n",
       "@font-face {\n",
       "    font-family: \"Computer Modern\";\n",
       "    src: url('http://mirrors.ctan.org/fonts/cm-unicode/fonts/otf/cmunss.otf');\n",
       "}\n",
       "\n",
       "#notebook_panel { /* main background */\n",
       "    background: #ddd;\n",
       "    color: #000000;\n",
       "}\n",
       "\n",
       "\n",
       "div.text_cell_render{\n",
       "    font-family: 'Arvo' sans-serif;\n",
       "    line-height: 130%;\n",
       "    font-size: 115%;\n",
       "    width:1000px;\n",
       "    margin-left:auto;\n",
       "    margin-right:auto;\n",
       "}\n",
       "\n",
       "\n",
       "/* Formatting for header cells */\n",
       ".text_cell_render h1 {\n",
       "    font-family: 'Philosopher', sans-serif;\n",
       "    font-weight: 400;\n",
       "    font-size: 2.2em;\n",
       "    line-height: 100%;\n",
       "    color: rgb(0, 80, 120);\n",
       "    margin-bottom: 0.1em;\n",
       "    margin-top: 0.1em;\n",
       "    display: block;\n",
       "}\t\n",
       ".text_cell_render h2 {\n",
       "    font-family: 'Philosopher', serif;\n",
       "    font-weight: 400;\n",
       "    font-size: 1.9em;\n",
       "    line-height: 100%;\n",
       "    color: rgb(200,100,0);\n",
       "    margin-bottom: 0.1em;\n",
       "    margin-top: 0.1em;\n",
       "    display: block;\n",
       "}\t\n",
       "\n",
       ".text_cell_render h3 {\n",
       "    font-family: 'Philosopher', serif;\n",
       "    margin-top:12px;\n",
       "    margin-bottom: 3px;\n",
       "    font-style: italic;\n",
       "    color: rgb(94,127,192);\n",
       "}\n",
       "\n",
       ".text_cell_render h4 {\n",
       "    font-family: 'Philosopher', serif;\n",
       "}\n",
       "\n",
       ".text_cell_render h5 {\n",
       "    font-family: 'Alegreya Sans', sans-serif;\n",
       "    font-weight: 300;\n",
       "    font-size: 16pt;\n",
       "    color: grey;\n",
       "    font-style: italic;\n",
       "    margin-bottom: .1em;\n",
       "    margin-top: 0.1em;\n",
       "    display: block;\n",
       "}\n",
       "\n",
       ".text_cell_render h6 {\n",
       "    font-family: 'PT Mono', sans-serif;\n",
       "    font-weight: 300;\n",
       "    font-size: 10pt;\n",
       "    color: grey;\n",
       "    margin-bottom: 1px;\n",
       "    margin-top: 1px;\n",
       "}\n",
       "\n",
       ".CodeMirror{\n",
       "        font-family: \"PT Mono\";\n",
       "        font-size: 100%;\n",
       "}\n",
       "\n",
       "</style>\n",
       "\n"
      ],
      "text/plain": [
       "<IPython.core.display.HTML object>"
      ]
     },
     "execution_count": 3,
     "metadata": {},
     "output_type": "execute_result"
    }
   ],
   "source": [
    "from IPython.core.display import HTML\n",
    "css_file = 'style.css'\n",
    "HTML(open(css_file, 'r').read())"
   ]
  },
  {
   "cell_type": "markdown",
   "metadata": {},
   "source": [
    "Setting up the required python &#8482; environment"
   ]
  },
  {
   "cell_type": "code",
   "execution_count": 2,
   "metadata": {
    "collapsed": true
   },
   "outputs": [],
   "source": [
    "import numpy as np\n",
    "#from scipy.stats import bayes_mvs\n",
    "from math import factorial\n",
    "#import scikits.bootstrap as bs\n",
    "import matplotlib.pyplot as plt\n",
    "import seaborn as sns\n",
    "from warnings import filterwarnings\n",
    "\n",
    "%matplotlib inline\n",
    "sns.set_style('white')\n",
    "sns.set_context('paper', font_scale = 2.0, rc = {'lines.linewidth': 1.5, 'figure.figsize' : (10, 8)})\n",
    "filterwarnings('ignore')"
   ]
  },
  {
   "cell_type": "code",
   "execution_count": 11,
   "metadata": {
    "collapsed": true
   },
   "outputs": [],
   "source": [
    "import numpy as np\n",
    "from math import factorial\n",
    "import matplotlib.pyplot as plt\n",
    "import seaborn as sns\n",
    "from warnings import filterwarnings\n",
    "\n",
    "%matplotlib inline\n",
    "sns.set()\n",
    "sns.set_style('white')\n",
    "sns.set_context('paper', font_scale = 2.0, rc = {'lines.linewidth': 1.5, 'figure.figsize' : (10, 8)})\n",
    "filterwarnings('ignore')"
   ]
  },
  {
   "cell_type": "markdown",
   "metadata": {},
   "source": [
    "# The central limit theorem"
   ]
  },
  {
   "cell_type": "markdown",
   "metadata": {},
   "source": [
    "The central limit theorem (CLT) very simply stated:\n",
    "\n",
    "* Take a large population\n",
    "* Let each member of that population have a known random value for a certain variable \n",
    "* Repetatively take a random sample from that population\n",
    "* Calculate the mean of each sample\n",
    "\n",
    "The CLT now guarentees that a histogram of the sample means will be normally distributed."
   ]
  },
  {
   "cell_type": "markdown",
   "metadata": {},
   "source": [
    "## Understanding combinations"
   ]
  },
  {
   "cell_type": "markdown",
   "metadata": {},
   "source": [
    "Suppose there are five patients, named (for privacy sake), patients *A* through *E*.  How many distinct combinations can you make choosing only a pair of two patients (with, for example, choosing patients *A* and *C*, being the same as choosing *C* and *A*)?\n",
    "Let's have a look:\n",
    "\n",
    "* A and B\n",
    "* A and C\n",
    "* A and D\n",
    "* A and E\n",
    "* B and C\n",
    "* B and D\n",
    "* B and E\n",
    "* C and D\n",
    "* C and E\n",
    "* D and E\n",
    "\n",
    "<p>I count 10.</p>\n",
    "<p>There's a mathematical equation for this.  No need to panic, it's easy.  Suppose the number of patients is *n* and the number you have to choose is *r*.</p>\n",
    "<p>The equation is simply:</p>\n",
    "$$ \\frac { n! }{ r!\\left( n-r \\right) ! }  $$\n",
    "<p>**Factorial** requires simple multiplication.  *Factorial(4)* is expressed as 'four factorial' and is 4 times 3 times 2 times 1, which is 24.  Start with the number given and work your way back to 1.  Just remember *factorial(0) = 1*.</p>\n",
    "<p>The code is easy:</p>"
   ]
  },
  {
   "cell_type": "code",
   "execution_count": null,
   "metadata": {
    "collapsed": true
   },
   "outputs": [],
   "source": [
    "n = 5\n",
    "r = 2\n",
    "\n",
    "combinations = factorial(n) / (factorial(r) * factorial(n - r))\n",
    "print('The number of possible combinations choosing ', r, ' patients from a possible ', n, ' is ', combinations)"
   ]
  },
  {
   "cell_type": "code",
   "execution_count": 6,
   "metadata": {},
   "outputs": [
    {
     "name": "stdout",
     "output_type": "stream",
     "text": [
      "The number of possible combinations choosing  4  patients from a possible  20  is  4845.0\n"
     ]
    }
   ],
   "source": [
    "n = 20\n",
    "r = 4\n",
    "\n",
    "combinations = factorial(n) / (factorial(r) * factorial(n - r))\n",
    "print(\"The number of possible combinations choosing \", r, \" patients from a possible \", n, \" is \", combinations)\n"
   ]
  },
  {
   "cell_type": "markdown",
   "metadata": {},
   "source": [
    "<p>Why is this important to know?  Thought-experiment time.  Suppose there are 1000 patients with acute appendicitis in your town over a given time period.  Now, suppose for your research project you needed to pick 30 of those.  Essentially, the time that you start your project is random.  The 30 you pick is just one combination of many, many combinations (plug in the values in the cell above and see for yourself).  If you calculate the mean of a given variable of your sample, that is just one mean of the many, many you could have had.  Pilling up a histogram of all those means, will end up with a normal distribution.</p>\n",
    "<p>Don't believe me?  Carry on and see below!</p>"
   ]
  },
  {
   "cell_type": "markdown",
   "metadata": {},
   "source": [
    "## The central limit theorem"
   ]
  },
  {
   "cell_type": "markdown",
   "metadata": {},
   "source": [
    "<p>It's now time to bring some knowledge together.  You know that we can represent probabilities as an area.  This is especially elegant if we can represent it with a function, whose area under the curve is one.  In essence, we are saying that the sum of all possibilities (probabilities) is one.</p>\n",
    "<p>If all those possible means are plotted as a histogram, the mean of your research project falls somewhere on that graph.  Now, because the CLT states that this curve will represent a normal distribution, some means will occur much more commonly, whilst others will occur less commonly.</p>\n",
    "<p>Converting your study's mean to an area on this graph will allow you to state a likelihood of having found your particular result.  The CLT allows us to do the mathematics for this conversion.</p>\n",
    "<p>Let's play with the code below.</p>"
   ]
  },
  {
   "cell_type": "code",
   "execution_count": 4,
   "metadata": {
    "collapsed": true
   },
   "outputs": [
    {
     "data": {
      "text/plain": [
       "<matplotlib.axes._subplots.AxesSubplot at 0x108a64e10>"
      ]
     },
     "execution_count": 4,
     "metadata": {},
     "output_type": "execute_result"
    },
    {
     "data": {
      "image/png": "[encoded data removed]",
      "text/plain": [
       "<matplotlib.figure.Figure at 0x10415b668>"
      ]
     },
     "metadata": {},
     "output_type": "display_data"
    }
   ],
   "source": [
    "i = 0 # Introducing computer variable and setting its value to 0\n",
    "ave = [] # Introducing an empty array\n",
    "\n",
    "while i < 10000: # Starting a simple loop which will continue until the statement is no longer true\n",
    "    x = 10 * np.random.random(40) # Choose 40 random values between 0 and 10\n",
    "    # np.random.random() actually chooses random values between 0 and 1 (multiplying by 10 gives 0 to 10)\n",
    "    ave.append(np.mean(x)) # Populate the ave array with the mean of each of your samples of 40\n",
    "    i += 1 # Add 1 to i, which means this will carry on for the size set for the loop\n",
    "\n",
    "\n",
    "sns.distplot(ave, bins = 20); # Make is distribution plot spreading the mean values in bins\n",
    "# Just look at the magic"
   ]
  },
  {
   "cell_type": "code",
   "execution_count": 17,
   "metadata": {},
   "outputs": [
    {
     "data": {
      "text/plain": [
       "<matplotlib.axes._subplots.AxesSubplot at 0x13aa56a0>"
      ]
     },
     "execution_count": 17,
     "metadata": {},
     "output_type": "execute_result"
    },
    {
     "data": {
      "image/png": "[encoded data removed]",
      "text/plain": [
       "<matplotlib.figure.Figure at 0x13ac8b70>"
      ]
     },
     "metadata": {},
     "output_type": "display_data"
    }
   ],
   "source": [
    "i = 0\n",
    "ave = []\n",
    "\n",
    "while i < 10000: \n",
    "    x = np.random.random(40)\n",
    "    ave.append(np.mean(x))\n",
    "    i += 1\n",
    "\n",
    "sns.set()\n",
    "sns.set_context('paper', font_scale = 2.0, rc = {'lines.linewidth': 1.5, 'figure.figsize' : (8, 8)})\n",
    "sns.distplot(ave, bins = 20)\n",
    "    "
   ]
  },
  {
   "cell_type": "markdown",
   "metadata": {},
   "source": [
    "<p>Indeed, plotting a historgram of 10 000 means is bell-shaped.  This is irrespective of whether the actual variable (*x* above) was normally distributed.  Just look at the plot below.  It shows a distribution of the actual randomly selected values.   Also, watch the lecture on Z and t distributions.  It will tell you a lot more about distributions.</p>"
   ]
  },
  {
   "cell_type": "code",
   "execution_count": 10,
   "metadata": {},
   "outputs": [
    {
     "data": {
      "image/png": "[encoded data removed]",
      "text/plain": [
       "<matplotlib.figure.Figure at 0x137aca58>"
      ]
     },
     "metadata": {},
     "output_type": "display_data"
    }
   ],
   "source": [
    "x = np.random.random(10000)\n",
    "\n",
    "sns.distplot(x, bins = 50, kde = True);"
   ]
  },
  {
   "cell_type": "markdown",
   "metadata": {},
   "source": [
    "<p>So even if the original said variable in the population takes on random values, taking repetative samples and calculating the mean of each sample, and finally plotting a histogram (frequency distribution) of the means (how many times each specific mean occurs) will result in a normal (bell-shaped) distribution.</p>"
   ]
  },
  {
   "cell_type": "code",
   "execution_count": null,
   "metadata": {
    "collapsed": true
   },
   "outputs": [],
   "source": []
  }
 ],
 "metadata": {
  "kernelspec": {
   "display_name": "Python 3",
   "language": "python",
   "name": "python3"
  },
  "language_info": {
   "codemirror_mode": {
    "name": "ipython",
    "version": 3
   },
   "file_extension": ".py",
   "mimetype": "text/x-python",
   "name": "python",
   "nbconvert_exporter": "python",
   "pygments_lexer": "ipython3",
   "version": "3.6.3"
  }
 },
 "nbformat": 4,
 "nbformat_minor": 1
}
