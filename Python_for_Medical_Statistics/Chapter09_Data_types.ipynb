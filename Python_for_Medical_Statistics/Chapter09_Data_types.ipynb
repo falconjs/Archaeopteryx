{
 "cells": [
  {
   "cell_type": "markdown",
   "metadata": {},
   "source": [
    "Setting up a fancy stylesheet"
   ]
  },
  {
   "cell_type": "code",
   "execution_count": 1,
   "metadata": {
    "collapsed": false
   },
   "outputs": [
    {
     "data": {
      "text/html": [
       "<link href='http://fonts.googleapis.com/css?family=Alegreya+Sans:100,300,400,500,700,800,900,100italic,300italic,400italic,500italic,700italic,800italic,900italic' rel='stylesheet' type='text/css'>\n",
       "<link href='http://fonts.googleapis.com/css?family=Arvo:400,700,400italic' rel='stylesheet' type='text/css'>\n",
       "<link href='http://fonts.googleapis.com/css?family=PT+Mono' rel='stylesheet' type='text/css'>\n",
       "<link href='http://fonts.googleapis.com/css?family=Shadows+Into+Light' rel='stylesheet' type='text/css'>\n",
       "<link href='http://fonts.googleapis.com/css?family=Philosopher:400,700,400italic,700italic' rel='stylesheet' type='text/css'>\n",
       "\n",
       "<style>\n",
       "\n",
       "@font-face {\n",
       "    font-family: \"Computer Modern\";\n",
       "    src: url('http://mirrors.ctan.org/fonts/cm-unicode/fonts/otf/cmunss.otf');\n",
       "}\n",
       "\n",
       "#notebook_panel { /* main background */\n",
       "    background: #ddd;\n",
       "    color: #000000;\n",
       "}\n",
       "\n",
       "\n",
       "div.text_cell_render{\n",
       "    font-family: 'Arvo' sans-serif;\n",
       "    line-height: 130%;\n",
       "    font-size: 115%;\n",
       "    width:1000px;\n",
       "    margin-left:auto;\n",
       "    margin-right:auto;\n",
       "}\n",
       "\n",
       "\n",
       "/* Formatting for header cells */\n",
       ".text_cell_render h1 {\n",
       "    font-family: 'Philosopher', sans-serif;\n",
       "    font-weight: 400;\n",
       "    font-size: 2.2em;\n",
       "    line-height: 100%;\n",
       "    color: rgb(0, 80, 120);\n",
       "    margin-bottom: 0.1em;\n",
       "    margin-top: 0.1em;\n",
       "    display: block;\n",
       "}\t\n",
       ".text_cell_render h2 {\n",
       "    font-family: 'Philosopher', serif;\n",
       "    font-weight: 400;\n",
       "    font-size: 1.9em;\n",
       "    line-height: 100%;\n",
       "    color: rgb(200,100,0);\n",
       "    margin-bottom: 0.1em;\n",
       "    margin-top: 0.1em;\n",
       "    display: block;\n",
       "}\t\n",
       "\n",
       ".text_cell_render h3 {\n",
       "    font-family: 'Philosopher', serif;\n",
       "    margin-top:12px;\n",
       "    margin-bottom: 3px;\n",
       "    font-style: italic;\n",
       "    color: rgb(94,127,192);\n",
       "}\n",
       "\n",
       ".text_cell_render h4 {\n",
       "    font-family: 'Philosopher', serif;\n",
       "}\n",
       "\n",
       ".text_cell_render h5 {\n",
       "    font-family: 'Alegreya Sans', sans-serif;\n",
       "    font-weight: 300;\n",
       "    font-size: 16pt;\n",
       "    color: grey;\n",
       "    font-style: italic;\n",
       "    margin-bottom: .1em;\n",
       "    margin-top: 0.1em;\n",
       "    display: block;\n",
       "}\n",
       "\n",
       ".text_cell_render h6 {\n",
       "    font-family: 'PT Mono', sans-serif;\n",
       "    font-weight: 300;\n",
       "    font-size: 10pt;\n",
       "    color: grey;\n",
       "    margin-bottom: 1px;\n",
       "    margin-top: 1px;\n",
       "}\n",
       "\n",
       ".CodeMirror{\n",
       "        font-family: \"PT Mono\";\n",
       "        font-size: 100%;\n",
       "}\n",
       "\n",
       "</style>\n",
       "\n"
      ],
      "text/plain": [
       "<IPython.core.display.HTML object>"
      ]
     },
     "execution_count": 1,
     "metadata": {},
     "output_type": "execute_result"
    }
   ],
   "source": [
    "from IPython.core.display import HTML\n",
    "css_file = 'style.css'\n",
    "HTML(open(css_file, 'r').read())"
   ]
  },
  {
   "cell_type": "markdown",
   "metadata": {},
   "source": [
    "# Data types"
   ]
  },
  {
   "cell_type": "markdown",
   "metadata": {},
   "source": [
    "## Introduction"
   ]
  },
  {
   "cell_type": "markdown",
   "metadata": {},
   "source": [
    "<p>In order to conduct a study, information is captured in a spreadsheet or in a database.  Examples of this include demographic data such as patient gender and age, or specific medical laboratory values such as leukocyte count.  Each of these are referred to as variables.  Variables can be divided into two main groups, called *categorical* and *numerical* and the start of this chapter deals with this form of classification.  It greatly influences the type of statistical analysis that can be performed.</p>\n",
    "<p>Later in the chapter, I introduce another classification system.  Again, there are two main types, named *discrete* and *continuous*.</p>"
   ]
  },
  {
   "cell_type": "markdown",
   "metadata": {},
   "source": [
    "## Categorical and numerical data types"
   ]
  },
  {
   "cell_type": "markdown",
   "metadata": {},
   "source": [
    "<p>*Categorical data* is data that either represents words, or if numbers, have no mathematical value.  Cathegorical data is further divided into *nominal* and *ordinal* data types.<p>\n",
    "<p>A good example of the nominal categorical data type is disease names.  Disease names can be grouped and counted, but no mathematical procedure can be performed on the names themselves.</p>\n",
    "<p>Ordinal categorical data types also represent words, but in this instance, they can be ranked.  The Likert scale, used for surveys, is a good example.  The subjects completing the survey may be asked to rate their opinion to a statement by selecting from a list either: strongly disagree, disagree, neither agree nor disagree, agree, or finally, strongly agree.  There is definitely some order to this categorical type.  It can even be expressed as numbers, for instance subjects can be asked to rate how much they agree with a statement, with the choices being one to 10.  It should be clear that although numbers can be used, no mathematical operation can be performed with this data.  It would be pointless to suggest that a subject who chooses four, agrees twice as much as one who chooses two.  It is incorrect to calculate the mean or standard deviation from this data!</p>\n",
    "<p>Numerical data is likewise divided into two sub-types.  They are *interval* and *ratio*.  As the names imply, both of these consist of numeric values only.  Degrees Celsius is good example of interval numeric data.  There is a clear and consistent difference between values, such as 37.1 and 36.5 deg C.  It is distinguished from the ratio numerical data type, though in that no zero exists.  It might be true that zero deg C exists, but it is not a true zero.  Only the Kelvin temperature scale has a true zero.  It is thus wrong to suggest that 20 deg C is twice as warm as 10 deg C! \n",
    "Any variable with a true zero such as leukocyte count, blood pressure, and many others, are ratio numeric data types."
   ]
  },
  {
   "cell_type": "markdown",
   "metadata": {},
   "source": [
    "## Discrete and continuous data types"
   ]
  },
  {
   "cell_type": "markdown",
   "metadata": {},
   "source": [
    "<p>Another way to look at data variables, is to make the distinction between discrete and continuous types.  Data variables are said to be discrete when the actual values are not sub-divisible.  A smallest unit of increment exists and cannot be divided any further.  It is useful to introduce the concept of discrete data types by way of examples.  The simplest non-medical example of a discrete data type is the flip of a coin.  The values can only be heads or tails.  Another famous example is the rolling of a die.  We will take a look at the probabilities associated with the ouctomes of the rolling of dice in a later chapter.</p>\n",
    "<p>With only two outcomes, the sample space of the flip of a coin is said to be *binomial*, a type of discrete variables. Examples from medical research would include the presence of a complication.  If a patient has undergone a procedure or received some form of treatment, a complication of that procedure or treatment may or may not occur.  Only one of two outcomes is possible, hence the distribution of the possible outcomes, called the frequency distribution, is binomial.  Please be careful, though.  It is not because the values are integers that make them discrete.  Some variables with decimals can also be discrete, as long as they have a finite smallest increment between them that is no longer divisible.  Thruth be told, it is sometimes somewhat arbitrary!</p>\n",
    "<p>For continuous data types there are no gaps in between values.  This might take a while to get use to.  Consider leukocyte count, which when expressed in cells per liter, has a range in the order of *10<sup>9</sup>*.  Now, although each cell is a whole and cannot be subdivided and still leave a complete cell, the shear numbers that are involved in clinical practice, make “the gaps” almost infinitely divisible and leukocyte count is considered to be continuous.\n",
    "Even money can be difficult to come to terms with as a continuous variable.  A single cent cannot be further divided.  It must be understood, though, that when financial institutions work with large sums of money and have to calculate percentages of interest, fraction of cents are involved.  They cannot simply disappear.  Eventually a lot of money will disappear and that’s not good.  Therefor, money is also a continuous variable.</p>"
   ]
  },
  {
   "cell_type": "code",
   "execution_count": null,
   "metadata": {
    "collapsed": false
   },
   "outputs": [],
   "source": []
  }
 ],
 "metadata": {
  "kernelspec": {
   "display_name": "Python 3",
   "language": "python",
   "name": "python3"
  },
  "language_info": {
   "codemirror_mode": {
    "name": "ipython",
    "version": 3
   },
   "file_extension": ".py",
   "mimetype": "text/x-python",
   "name": "python",
   "nbconvert_exporter": "python",
   "pygments_lexer": "ipython3",
   "version": "3.4.3"
  }
 },
 "nbformat": 4,
 "nbformat_minor": 0
}
