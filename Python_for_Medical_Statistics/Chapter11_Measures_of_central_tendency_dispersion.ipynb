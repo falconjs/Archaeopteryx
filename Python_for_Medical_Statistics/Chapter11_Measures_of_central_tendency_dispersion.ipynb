{
 "cells": [
  {
   "cell_type": "markdown",
   "metadata": {},
   "source": [
    "Setting up a fancy stylesheet"
   ]
  },
  {
   "cell_type": "code",
   "execution_count": 1,
   "metadata": {
    "collapsed": false
   },
   "outputs": [
    {
     "data": {
      "text/html": [
       "<link href='http://fonts.googleapis.com/css?family=Alegreya+Sans:100,300,400,500,700,800,900,100italic,300italic,400italic,500italic,700italic,800italic,900italic' rel='stylesheet' type='text/css'>\n",
       "<link href='http://fonts.googleapis.com/css?family=Arvo:400,700,400italic' rel='stylesheet' type='text/css'>\n",
       "<link href='http://fonts.googleapis.com/css?family=PT+Mono' rel='stylesheet' type='text/css'>\n",
       "<link href='http://fonts.googleapis.com/css?family=Shadows+Into+Light' rel='stylesheet' type='text/css'>\n",
       "<link href='http://fonts.googleapis.com/css?family=Philosopher:400,700,400italic,700italic' rel='stylesheet' type='text/css'>\n",
       "\n",
       "<style>\n",
       "\n",
       "@font-face {\n",
       "    font-family: \"Computer Modern\";\n",
       "    src: url('http://mirrors.ctan.org/fonts/cm-unicode/fonts/otf/cmunss.otf');\n",
       "}\n",
       "\n",
       "#notebook_panel { /* main background */\n",
       "    background: #ddd;\n",
       "    color: #000000;\n",
       "}\n",
       "\n",
       "\n",
       "div.text_cell_render{\n",
       "    font-family: 'Arvo' sans-serif;\n",
       "    line-height: 130%;\n",
       "    font-size: 115%;\n",
       "    width:1000px;\n",
       "    margin-left:auto;\n",
       "    margin-right:auto;\n",
       "}\n",
       "\n",
       "\n",
       "/* Formatting for header cells */\n",
       ".text_cell_render h1 {\n",
       "    font-family: 'Philosopher', sans-serif;\n",
       "    font-weight: 400;\n",
       "    font-size: 2.2em;\n",
       "    line-height: 100%;\n",
       "    color: rgb(0, 80, 120);\n",
       "    margin-bottom: 0.1em;\n",
       "    margin-top: 0.1em;\n",
       "    display: block;\n",
       "}\t\n",
       ".text_cell_render h2 {\n",
       "    font-family: 'Philosopher', serif;\n",
       "    font-weight: 400;\n",
       "    font-size: 1.9em;\n",
       "    line-height: 100%;\n",
       "    color: rgb(200,100,0);\n",
       "    margin-bottom: 0.1em;\n",
       "    margin-top: 0.1em;\n",
       "    display: block;\n",
       "}\t\n",
       "\n",
       ".text_cell_render h3 {\n",
       "    font-family: 'Philosopher', serif;\n",
       "    margin-top:12px;\n",
       "    margin-bottom: 3px;\n",
       "    font-style: italic;\n",
       "    color: rgb(94,127,192);\n",
       "}\n",
       "\n",
       ".text_cell_render h4 {\n",
       "    font-family: 'Philosopher', serif;\n",
       "}\n",
       "\n",
       ".text_cell_render h5 {\n",
       "    font-family: 'Alegreya Sans', sans-serif;\n",
       "    font-weight: 300;\n",
       "    font-size: 16pt;\n",
       "    color: grey;\n",
       "    font-style: italic;\n",
       "    margin-bottom: .1em;\n",
       "    margin-top: 0.1em;\n",
       "    display: block;\n",
       "}\n",
       "\n",
       ".text_cell_render h6 {\n",
       "    font-family: 'PT Mono', sans-serif;\n",
       "    font-weight: 300;\n",
       "    font-size: 10pt;\n",
       "    color: grey;\n",
       "    margin-bottom: 1px;\n",
       "    margin-top: 1px;\n",
       "}\n",
       "\n",
       ".CodeMirror{\n",
       "        font-family: \"PT Mono\";\n",
       "        font-size: 100%;\n",
       "}\n",
       "\n",
       "</style>\n",
       "\n"
      ],
      "text/plain": [
       "<IPython.core.display.HTML object>"
      ]
     },
     "execution_count": 1,
     "metadata": {},
     "output_type": "execute_result"
    }
   ],
   "source": [
    "from IPython.core.display import HTML\n",
    "css_file = 'style.css'\n",
    "HTML(open(css_file, 'r').read())"
   ]
  },
  {
   "cell_type": "markdown",
   "metadata": {},
   "source": [
    "Setting up the required python &#8482; environment"
   ]
  },
  {
   "cell_type": "code",
   "execution_count": 2,
   "metadata": {
    "collapsed": false
   },
   "outputs": [],
   "source": [
    "import pandas as pd\n",
    "import numpy as np\n",
    "import matplotlib.pyplot as plt\n",
    "import seaborn as sns\n",
    "from warnings import filterwarnings\n",
    "#from scipy import mean\n",
    "#from scipy.stats import chi2_contingency, ranksums, bayes_mvs, ttest_ind, ranksums\n",
    "#import scikits.bootstrap as bs\n",
    "\n",
    "%matplotlib inline\n",
    "sns.set_style('whitegrid')\n",
    "sns.set_context('paper', font_scale = 2.0, rc = {'lines.linewidth': 1.5, 'figure.figsize' : (10, 8)})\n",
    "filterwarnings('ignore')"
   ]
  },
  {
   "cell_type": "markdown",
   "metadata": {},
   "source": [
    "# Measures of central tendency and dispersion"
   ]
  },
  {
   "cell_type": "markdown",
   "metadata": {},
   "source": [
    "## Introduction"
   ]
  },
  {
   "cell_type": "markdown",
   "metadata": {},
   "source": [
    "In this notebook we will take a look at the most common statistical tools<br>\n",
    "* Measures of central tendency\n",
    "    - Mean (average)\n",
    "    - Median\n",
    "    - Mode\n",
    "* Measures of dispersion\n",
    "    - Range (minimum and maximum\n",
    "    - Standard deviation\n",
    "    - Variance\n",
    "    - Quantiles and percentiles"
   ]
  },
  {
   "cell_type": "markdown",
   "metadata": {},
   "source": [
    "## Importing our data"
   ]
  },
  {
   "cell_type": "code",
   "execution_count": 3,
   "metadata": {
    "collapsed": false
   },
   "outputs": [],
   "source": [
    "data = pd.read_csv('MOOC_Mock.csv')"
   ]
  },
  {
   "cell_type": "markdown",
   "metadata": {},
   "source": [
    "## Measures of central tendency"
   ]
  },
  {
   "cell_type": "markdown",
   "metadata": {},
   "source": [
    "The various forms of central tendency are methods that try to represent a group of values with a single value, representative of the whole group.  In order for such a number to be representative, it must reflect some tendency in that group.  For the three methods here, namely, mean, median, and mode, the attempt is to represent some central value in the group. "
   ]
  },
  {
   "cell_type": "markdown",
   "metadata": {},
   "source": [
    "### Mean"
   ]
  },
  {
   "cell_type": "markdown",
   "metadata": {},
   "source": [
    "The *mean* value of a group of values, or the *average* value, is a very simple concept and can easily be calculated by adding all the values in the group and dividing that sum by the number of values in the group. \n",
    "\n",
    "It is child’s play to consider the mean of four and six, since four plus six is ten and dividing ten by two (since the group consists of two values), is five.\n",
    "\n",
    "The mean is an excellent way to represent all your data point for a single variable in one single value.  In this regard it is most useful when the variable is a ratio type numerical variable.  Example would be mean white cell count, systolic blood pressure, age, and many, many more."
   ]
  },
  {
   "cell_type": "markdown",
   "metadata": {},
   "source": [
    "### Median"
   ]
  },
  {
   "cell_type": "markdown",
   "metadata": {},
   "source": [
    "*Median* is another way to represent central tendency and it searches for a value for which half of the numbers are smaller than and the other half are larger than the calculated value.\n",
    "\n",
    "The immediate question that arises is: \"That's fine for an odd number of values, but what happens if there are an even number of values?\".  That's easy to fix.  Simply takes the average of the middle two values.  Here is an example:\n",
    "\n",
    "Values:  *9, 11, 12, 13, 14, 16*.  There are six values.  Clearly the middle two would be *12* and *13*.  Their mean being *12.5*.  The median would be *12.5*, since half of the values are less than *12.5* in value and half are more than *12.5* in value.\n",
    "\n",
    "There are two common uses for median as opposed to mean:\n",
    "* If some of your data points are out of keeping with the rest.  Say you have values of *10, 11, 9, 14, , 9, 10, 30, 43*.  Clearly the values of *30*, and *43* are way outside of the rest.  Calculating amean would be a misrepresentation of the data if you think about it.\n",
    "* The second use is more subtle.  Imagine calculating the Modified Alvarado Score (MAS) for patients with suspected appendicitis.  These data points are integers and do not represent continuous variables.  Would it be correct to represent all the MAS-values as a mean.  That woudl seem ever so slightly odd.  *Median* would be much better here.  We are dealing with ordinal categorical data points after all."
   ]
  },
  {
   "cell_type": "markdown",
   "metadata": {},
   "source": [
    "### Mode"
   ]
  },
  {
   "cell_type": "markdown",
   "metadata": {},
   "source": [
    "The last form of central tendency is the *mode*.  In medical statistics it is most often used for non-numeric values, such as disease names.\n",
    "\n",
    "It simply represent the value that appears most in a data set."
   ]
  },
  {
   "cell_type": "markdown",
   "metadata": {},
   "source": [
    "## Measures of dispersion"
   ]
  },
  {
   "cell_type": "markdown",
   "metadata": {},
   "source": [
    "Now that we can represent our set of data point for a variable as a single value, the next step is to give some indication of the spread of data.\n",
    "\n",
    "In this sense, data values can bunch up close to the average, or values can be further distributed.  In a simple example, both the sets of three values *9, 10, 11* and *2, 10, 18* have the same mean *10*, but the data values are much further spread in the second set."
   ]
  },
  {
   "cell_type": "markdown",
   "metadata": {},
   "source": [
    "### Range"
   ]
  },
  {
   "cell_type": "markdown",
   "metadata": {},
   "source": [
    "The range is the simplest way to describe the spread in the data and merely refers to the smallest and largest values in data set.  With these values stated, the range is the largest value minus the smallest value.\n",
    "\n",
    "It is quite useful when describing the age of your sample population."
   ]
  },
  {
   "cell_type": "markdown",
   "metadata": {},
   "source": [
    "### Variance and standard deviation"
   ]
  },
  {
   "cell_type": "markdown",
   "metadata": {},
   "source": [
    "The method of expressing how large a dispersion or spread is, is referred to as the *variance*, or by the square root of the variance, called the *standard deviation*.\n",
    "\n",
    "It should be clear that the standard deviation is merely the square root of the variance.  It is simpler to explain the standard deviation.  Imagine all the data values in a data set are represented by dots on a straight line, i.e. the familiar x-axis from graphs at school.  A dot can also be placed on this line representing the mean value.  Now the distance between each point and the mean is taken and then averaged, so as to get an average distance for how far all the points are from the mean.\n",
    "\n",
    "It is vitally important to have the following concepts well and truly understood.  Some values will be below (lower) than the mean and some will be above (higher) than the mean.  The standard deviation represents the average distance all the lower points are away from the mean and the average distance all the higher points are away, by a single value!\n",
    "\n",
    "Quick note: the equations for population and sample standard deviation are slightly different.\n",
    "\n",
    "Here is a quick look at what we have described up until now:"
   ]
  },
  {
   "cell_type": "code",
   "execution_count": 4,
   "metadata": {
    "collapsed": false
   },
   "outputs": [
    {
     "data": {
      "image/png": "[encoded data removed]",
      "text/plain": [
       "<matplotlib.figure.Figure at 0x108b7da20>"
      ]
     },
     "metadata": {},
     "output_type": "display_data"
    }
   ],
   "source": [
    "WCC = [10.1, 12.4, 13.1, 14.6, 9.9, 10.3, 11.1, 12.9, 10.9, 12.7]\n",
    "y = 10 * [0]\n",
    "\n",
    "meanWCC = np.mean(WCC)\n",
    "stdWCC = np.std(WCC)\n",
    "\n",
    "plt.figure()\n",
    "plt.plot(WCC, y, 'go', markersize = 18)\n",
    "plt.plot(meanWCC, 0, 'rd', markersize = 18)\n",
    "plt.plot(meanWCC - stdWCC, 0, 'bs', markersize = 14)\n",
    "plt.plot(meanWCC + stdWCC, 0, 'bs', markersize = 16)\n",
    "#plt.plot(np.median(WCC), 0, 'bd')\n",
    "plt.show();"
   ]
  },
  {
   "cell_type": "markdown",
   "metadata": {},
   "source": [
    "### Quartiles and percentiles"
   ]
  },
  {
   "cell_type": "markdown",
   "metadata": {},
   "source": [
    "Another form of grouping relates to *quartiles* and *percentiles*.  As the name suggest, *quartiles* divide the group of values into four equal quarters and it is possible to calculate what values in the group represents these cut-offs.  These watershed values are named zero to four.  The zeroth value is the same as the minimum value and the fourth quartile value is the same as the maximum value.  The first quartile represent the upper edge of the bottom quarter of values.  It simply builds from here.  The second quartile value represents to upper edge of the second from bottom quarter of values.  Note, though, that two quarters make a half, and as would be suspected, the second quartile value would be the top edge of the bottom half of all the values, in other words, the *median*.  The third quartile value, would then represent the upper mark of the next quarter set of values, or actually the median of only the top half of all the values.\n",
    "\n",
    "Analogous to the quartile functions are the *percentile* functions.  They return a value from the group of values based on an argument given to the function.  This argument can range from zero to one, representing 0% up to 100%.  This argument divides the group of values into what is in effect 100 equal groups.  It is important to note that this encompasses the quartile values, as, for instance, the first quartile would be the 0.25th percentile."
   ]
  },
  {
   "cell_type": "markdown",
   "metadata": {},
   "source": [
    "## Calculating some measure of central tendency and dispersion"
   ]
  },
  {
   "cell_type": "code",
   "execution_count": 5,
   "metadata": {
    "collapsed": false
   },
   "outputs": [
    {
     "data": {
      "text/html": [
       "<div>\n",
       "<table border=\"1\" class=\"dataframe\">\n",
       "  <thead>\n",
       "    <tr style=\"text-align: right;\">\n",
       "      <th></th>\n",
       "      <th>File</th>\n",
       "      <th>Age</th>\n",
       "      <th>Gender</th>\n",
       "      <th>Delay</th>\n",
       "      <th>Stay</th>\n",
       "      <th>ICU</th>\n",
       "      <th>RVD</th>\n",
       "      <th>CD4</th>\n",
       "      <th>HR</th>\n",
       "      <th>Temp</th>\n",
       "      <th>CRP</th>\n",
       "      <th>WCC</th>\n",
       "      <th>HB</th>\n",
       "      <th>Rupture</th>\n",
       "      <th>Histo</th>\n",
       "      <th>Comp</th>\n",
       "      <th>MASS</th>\n",
       "    </tr>\n",
       "  </thead>\n",
       "  <tbody>\n",
       "    <tr>\n",
       "      <th>0</th>\n",
       "      <td>1</td>\n",
       "      <td>38</td>\n",
       "      <td>Female</td>\n",
       "      <td>3</td>\n",
       "      <td>6</td>\n",
       "      <td>No</td>\n",
       "      <td>No</td>\n",
       "      <td>NaN</td>\n",
       "      <td>97</td>\n",
       "      <td>35.2</td>\n",
       "      <td>NaN</td>\n",
       "      <td>10.49</td>\n",
       "      <td>10.4</td>\n",
       "      <td>No</td>\n",
       "      <td>Yes</td>\n",
       "      <td>Yes</td>\n",
       "      <td>5</td>\n",
       "    </tr>\n",
       "    <tr>\n",
       "      <th>1</th>\n",
       "      <td>2</td>\n",
       "      <td>32</td>\n",
       "      <td>Male</td>\n",
       "      <td>6</td>\n",
       "      <td>10</td>\n",
       "      <td>No</td>\n",
       "      <td>Yes</td>\n",
       "      <td>57</td>\n",
       "      <td>109</td>\n",
       "      <td>38.8</td>\n",
       "      <td>45.3</td>\n",
       "      <td>7.08</td>\n",
       "      <td>19.8</td>\n",
       "      <td>No</td>\n",
       "      <td>No</td>\n",
       "      <td>Yes</td>\n",
       "      <td>8</td>\n",
       "    </tr>\n",
       "    <tr>\n",
       "      <th>2</th>\n",
       "      <td>3</td>\n",
       "      <td>19</td>\n",
       "      <td>Female</td>\n",
       "      <td>1</td>\n",
       "      <td>16</td>\n",
       "      <td>No</td>\n",
       "      <td>No</td>\n",
       "      <td>NaN</td>\n",
       "      <td>120</td>\n",
       "      <td>36.3</td>\n",
       "      <td>10.7</td>\n",
       "      <td>13.00</td>\n",
       "      <td>8.7</td>\n",
       "      <td>No</td>\n",
       "      <td>No</td>\n",
       "      <td>No</td>\n",
       "      <td>3</td>\n",
       "    </tr>\n",
       "  </tbody>\n",
       "</table>\n",
       "</div>"
      ],
      "text/plain": [
       "   File  Age  Gender  Delay  Stay ICU  RVD  CD4   HR  Temp   CRP    WCC    HB  \\\n",
       "0     1   38  Female      3     6  No   No  NaN   97  35.2   NaN  10.49  10.4   \n",
       "1     2   32    Male      6    10  No  Yes   57  109  38.8  45.3   7.08  19.8   \n",
       "2     3   19  Female      1    16  No   No  NaN  120  36.3  10.7  13.00   8.7   \n",
       "\n",
       "  Rupture Histo Comp  MASS  \n",
       "0      No   Yes  Yes     5  \n",
       "1      No    No  Yes     8  \n",
       "2      No    No   No     3  "
      ]
     },
     "execution_count": 5,
     "metadata": {},
     "output_type": "execute_result"
    }
   ],
   "source": [
    "data.head(3) #Looking at the header columns and first 3 rows (default = 5)"
   ]
  },
  {
   "cell_type": "markdown",
   "metadata": {},
   "source": [
    "### Using the *.describe* function"
   ]
  },
  {
   "cell_type": "markdown",
   "metadata": {},
   "source": [
    "Identifying a column and adding the *.describe* function is a quick way to get a glimpse at our data."
   ]
  },
  {
   "cell_type": "code",
   "execution_count": 6,
   "metadata": {
    "collapsed": false
   },
   "outputs": [
    {
     "data": {
      "text/plain": [
       "count    150.000000\n",
       "mean      30.733333\n",
       "std       10.920498\n",
       "min       18.000000\n",
       "25%       22.000000\n",
       "50%       28.000000\n",
       "75%       35.000000\n",
       "max       67.000000\n",
       "Name: Age, dtype: float64"
      ]
     },
     "execution_count": 6,
     "metadata": {},
     "output_type": "execute_result"
    }
   ],
   "source": [
    "data['Age'].describe() #Identifying the Age column and calling the describe function lists the following"
   ]
  },
  {
   "cell_type": "markdown",
   "metadata": {},
   "source": [
    "We note that there are a *150* data points in the **Age** columns, with amean of *20.9* years.  The *std* stands for standard deviation, the *min* for the minimum value and the *max* for the maximum value.\n",
    "\n",
    "The percentages are the quartiles, wthe the 50% marked being the *median*.\n",
    "\n",
    "We could now report that the mean age of our sample group was 20.9 years with a range from 4 to 64 years."
   ]
  },
  {
   "cell_type": "code",
   "execution_count": 7,
   "metadata": {
    "collapsed": false
   },
   "outputs": [
    {
     "data": {
      "text/plain": [
       "count    150.000000\n",
       "mean       3.206667\n",
       "std        2.241454\n",
       "min        0.000000\n",
       "25%        1.000000\n",
       "50%        3.000000\n",
       "75%        5.000000\n",
       "max        7.000000\n",
       "Name: Delay, dtype: float64"
      ]
     },
     "execution_count": 7,
     "metadata": {},
     "output_type": "execute_result"
    }
   ],
   "source": [
    "data['Delay'].describe()"
   ]
  },
  {
   "cell_type": "code",
   "execution_count": 8,
   "metadata": {
    "collapsed": false
   },
   "outputs": [
    {
     "data": {
      "text/plain": [
       "count    150.000000\n",
       "mean      10.886667\n",
       "std        5.413799\n",
       "min        2.000000\n",
       "25%        6.000000\n",
       "50%       11.000000\n",
       "75%       15.000000\n",
       "max       21.000000\n",
       "Name: Stay, dtype: float64"
      ]
     },
     "execution_count": 8,
     "metadata": {},
     "output_type": "execute_result"
    }
   ],
   "source": [
    "data['Stay'].describe()"
   ]
  },
  {
   "cell_type": "code",
   "execution_count": null,
   "metadata": {
    "collapsed": false
   },
   "outputs": [],
   "source": []
  }
 ],
 "metadata": {
  "kernelspec": {
   "display_name": "Python 3",
   "language": "python",
   "name": "python3"
  },
  "language_info": {
   "codemirror_mode": {
    "name": "ipython",
    "version": 3
   },
   "file_extension": ".py",
   "mimetype": "text/x-python",
   "name": "python",
   "nbconvert_exporter": "python",
   "pygments_lexer": "ipython3",
   "version": "3.4.3"
  }
 },
 "nbformat": 4,
 "nbformat_minor": 0
}
