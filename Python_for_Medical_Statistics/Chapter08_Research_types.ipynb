{
 "cells": [
  {
   "cell_type": "markdown",
   "metadata": {},
   "source": [
    "Setting up a fancy stylesheet"
   ]
  },
  {
   "cell_type": "code",
   "execution_count": 1,
   "metadata": {
    "collapsed": false
   },
   "outputs": [
    {
     "data": {
      "text/html": [
       "<link href='http://fonts.googleapis.com/css?family=Alegreya+Sans:100,300,400,500,700,800,900,100italic,300italic,400italic,500italic,700italic,800italic,900italic' rel='stylesheet' type='text/css'>\n",
       "<link href='http://fonts.googleapis.com/css?family=Arvo:400,700,400italic' rel='stylesheet' type='text/css'>\n",
       "<link href='http://fonts.googleapis.com/css?family=PT+Mono' rel='stylesheet' type='text/css'>\n",
       "<link href='http://fonts.googleapis.com/css?family=Shadows+Into+Light' rel='stylesheet' type='text/css'>\n",
       "<link href='http://fonts.googleapis.com/css?family=Philosopher:400,700,400italic,700italic' rel='stylesheet' type='text/css'>\n",
       "\n",
       "<style>\n",
       "\n",
       "@font-face {\n",
       "    font-family: \"Computer Modern\";\n",
       "    src: url('http://mirrors.ctan.org/fonts/cm-unicode/fonts/otf/cmunss.otf');\n",
       "}\n",
       "\n",
       "#notebook_panel { /* main background */\n",
       "    background: #ddd;\n",
       "    color: #000000;\n",
       "}\n",
       "\n",
       "\n",
       "div.text_cell_render{\n",
       "    font-family: 'Arvo' sans-serif;\n",
       "    line-height: 130%;\n",
       "    font-size: 115%;\n",
       "    width:1000px;\n",
       "    margin-left:auto;\n",
       "    margin-right:auto;\n",
       "}\n",
       "\n",
       "\n",
       "/* Formatting for header cells */\n",
       ".text_cell_render h1 {\n",
       "    font-family: 'Philosopher', sans-serif;\n",
       "    font-weight: 400;\n",
       "    font-size: 2.2em;\n",
       "    line-height: 100%;\n",
       "    color: rgb(0, 80, 120);\n",
       "    margin-bottom: 0.1em;\n",
       "    margin-top: 0.1em;\n",
       "    display: block;\n",
       "}\t\n",
       ".text_cell_render h2 {\n",
       "    font-family: 'Philosopher', serif;\n",
       "    font-weight: 400;\n",
       "    font-size: 1.9em;\n",
       "    line-height: 100%;\n",
       "    color: rgb(200,100,0);\n",
       "    margin-bottom: 0.1em;\n",
       "    margin-top: 0.1em;\n",
       "    display: block;\n",
       "}\t\n",
       "\n",
       ".text_cell_render h3 {\n",
       "    font-family: 'Philosopher', serif;\n",
       "    margin-top:12px;\n",
       "    margin-bottom: 3px;\n",
       "    font-style: italic;\n",
       "    color: rgb(94,127,192);\n",
       "}\n",
       "\n",
       ".text_cell_render h4 {\n",
       "    font-family: 'Philosopher', serif;\n",
       "}\n",
       "\n",
       ".text_cell_render h5 {\n",
       "    font-family: 'Alegreya Sans', sans-serif;\n",
       "    font-weight: 300;\n",
       "    font-size: 16pt;\n",
       "    color: grey;\n",
       "    font-style: italic;\n",
       "    margin-bottom: .1em;\n",
       "    margin-top: 0.1em;\n",
       "    display: block;\n",
       "}\n",
       "\n",
       ".text_cell_render h6 {\n",
       "    font-family: 'PT Mono', sans-serif;\n",
       "    font-weight: 300;\n",
       "    font-size: 10pt;\n",
       "    color: grey;\n",
       "    margin-bottom: 1px;\n",
       "    margin-top: 1px;\n",
       "}\n",
       "\n",
       ".CodeMirror{\n",
       "        font-family: \"PT Mono\";\n",
       "        font-size: 100%;\n",
       "}\n",
       "\n",
       "</style>\n",
       "\n"
      ],
      "text/plain": [
       "<IPython.core.display.HTML object>"
      ]
     },
     "execution_count": 1,
     "metadata": {},
     "output_type": "execute_result"
    }
   ],
   "source": [
    "from IPython.core.display import HTML\n",
    "css_file = 'style.css'\n",
    "HTML(open(css_file, 'r').read())"
   ]
  },
  {
   "cell_type": "markdown",
   "metadata": {},
   "source": [
    "# Research types"
   ]
  },
  {
   "cell_type": "markdown",
   "metadata": {},
   "source": [
    "## Introduction"
   ]
  },
  {
   "cell_type": "markdown",
   "metadata": {},
   "source": [
    "<p>This lecture is devoted to the topic of study design.  One of the most important factors in both reading and evaluating published literature and in designing your own research is a thorough understanding of the variety in study types.  Indeed, the choice of study type has a direct bearing on the findings, its importance and relevance.</p>\n",
    "<p>As with most scientific endeavors, the classification of study type is varied and different schemes exist to classify designs.  One logical approach is to divide designs into two main groups: *observational* and *experimental*.  In observational studies, subjects or variables are merely observed and in experimental studies, an intervention is performed.  From this basic difference a scheme to different study design can follow.</p>\n",
    "<p>I'll conclude with two study types that fall outside of the chosen classification system: *meta-analysis* and *reviews*.\n",
    "</p>"
   ]
  },
  {
   "cell_type": "markdown",
   "metadata": {},
   "source": [
    "## Classification"
   ]
  },
  {
   "cell_type": "markdown",
   "metadata": {},
   "source": [
    "<p>Observational studies consist of four main types: *case-series*, *case-control*, *cross-sectional*, and *cohort* studies.</p>\n",
    "<p>Experimental studies are much easier to identify, as they directly state the form of intervention, whether it be the administration of a drug or the performance of procedure.  In the case where experimental studies involve humans as test subjects, the term *clinical trial* is more commonly used.  Experimental trials are further divided depending on the type of control that is used for comparison: *trials with independent concurrent controls*, *trials with self-controls* (dependent groups), *trials with external controls*, and *uncontrolled trials*.</p>"
   ]
  },
  {
   "cell_type": "markdown",
   "metadata": {},
   "source": [
    "## Case series"
   ]
  },
  {
   "cell_type": "markdown",
   "metadata": {},
   "source": [
    "<p>This is perhaps the simplest of all study types and reports a simple descriptive account of a characteristic observed in a group of subjects.  A good example would be a *clinical audit*, merely measuring various variables of a particular subject group over a defined period.</p>\n",
    "<p>No research hypothesis exists and these studies are usually used to identify interesting observations for more detailed research or future planning.</p>\n",
    "<p>Note that the actual data collection (for this and other types) can be performed either in *retrospect*, where we take the files and hunt for values for chosen variables, or in *prospect*, where we decide beforehand what variables we want documented and collect these during the management of every patient.</p>"
   ]
  },
  {
   "cell_type": "markdown",
   "metadata": {},
   "source": [
    "## Case-control series"
   ]
  },
  {
   "cell_type": "markdown",
   "metadata": {},
   "source": [
    "<p>A case-control study starts with the presence (or absence) of an outcome and looks rearwards in time comparing subjects with and without the particular outcome in an attempt to find risk factors or characteristics that differ between the groups.  It is important to note that the two groups are identified at the start of the study and data points on various variables are then collected retrospectively.</p>\n",
    "<p>Do not confuse this with the terms prospective and retrospective.  Let me explain.  Nothing prevents you from setting up a database for any particular group or disease or whatever in your department or unit.  You may have no plans yet for any research.  What you are looking for is a set of variables, which you want completed for every patient.  This type of data collection is done prospectively.  On the other hand, you might have not had this forethought and simply go to the free-form notes in the patient files.  This data collection is done retrospectively.</p>\n",
    "<p>Back to case-control serieds.  A good example would be to look at a group of patients who has had a particular procedure, with two varying outcomes.  The fact that both groups had the same intervention differentiates this from an experimental study.  Individuals with one outcome are separated from those with another outcome and data is collected on decided variables.  The measurements are compared, to look for any differences.</p>\n",
    "<p>The main disadvantage of this type of study is a concept termed confounding.  It refers to a fact that a specific causative agent or parameter is difficult to identify.  A good illustrative example would be that of the intake of meat in patients who suffer a myocardial infarction.  It might be found that these patients have a high level of meat intake, but this is no proof that the meat was the causative agent.  Meat-eaters might also have a high incidence of smoking, drinking, poor exercise regimes, and many others.</p>\n",
    "<p>In a *nested case-control study*, cases and controls are taken from a prospective cohort study.  The cases develop a certain effect and the controls don’t.</p>"
   ]
  },
  {
   "cell_type": "markdown",
   "metadata": {},
   "source": [
    "## Cross-sectional series"
   ]
  },
  {
   "cell_type": "markdown",
   "metadata": {},
   "source": [
    "<p>Many types of studies can be classified as cross-sectional and these include surveys, epidemiological studies, and prevalence studies.  The outstanding identifying factor in the heterogenous groups is that an observation was made at a particular point in time, as opposed to over a period of time.  To complicate matters ever so slightly, this type of study can be incorporated in other designs.  It can, for example, be used as part of case-control or cohort studies.</p>\n",
    "<p>A common use for cross-sectional studies is investigating correlation, whether between cause and effect or accuracy of diagnostic techniques, to name but two examples.  As with case-control studies, cross-sectional studies also suffer from confounding and when cause and effect are under investigation, it is often impossible to prove that the cause actually is that and indeed came before the effect.</p>"
   ]
  },
  {
   "cell_type": "markdown",
   "metadata": {},
   "source": [
    "## Cohort series"
   ]
  },
  {
   "cell_type": "markdown",
   "metadata": {},
   "source": [
    "<p>Here, it is important to define a *cohort* as a group of individuals (with a common trait such as a disease or risk factor) who remain part of that group over an extended time period.  Subjects with the specific characteristic is identified at the start of the study and followed with measurement of various variables in a prospective manner.  The time period does not necessarily have to be that long.  Some prospective follow-ups after an intervention can last for a few days, for instance after a surgical procedure, termed outcome assessment.</p>\n",
    "<p>Cohort and case-control studies are differentiated by their direction of inquiry, with the former always collecting data from a starting point, moving forward in time and the latter starting from a point in time and collecting data points that was noted before that point.</p>"
   ]
  },
  {
   "cell_type": "markdown",
   "metadata": {},
   "source": [
    "## Trials with independent concurrent controls"
   ]
  },
  {
   "cell_type": "markdown",
   "metadata": {},
   "source": [
    "<p>Moving on to experimental trials, this first type includes trials that group patient who have and have not had an intervention.  These are usually termed the experimental and the control groups.  An attempt is made to have no other differences between the groups other than the intervention.  This is usually impossible with common differences in age, gender, body habitus, and many others present.  Subgroups can then usually be formed so as to keep the differences to a non-clinically significant level.</p>\n",
    "<p>What separates this type of study from other experimental studies is the fact that data points are collected on both groups at the same time, i.e., they run concurrently.</p>\n",
    "<p>When both the subject and the observer are unaware of which group the subject belongs to, the term *double-blinded* is used.  If only the subject is unaware, it is termed a *blinded* study.</p>\n",
    "<p>The pinnacle of clinical research is usually seen to be the randomized controlled trial, that is grouped under this heading of independent concurrent trials, with the double-blinded form being the pinnacle of medical research.  It is often the strongest form of evidence to prove causation.</p>"
   ]
  },
  {
   "cell_type": "markdown",
   "metadata": {},
   "source": [
    "## Trials with self-controls"
   ]
  },
  {
   "cell_type": "markdown",
   "metadata": {},
   "source": [
    "<p>Here, the test subjects form their own controls.  These studies are similar to cohort studies, expect for the fact that an intervention took place.</p>\n",
    "<p>The most elegant subtype here is the cross-over study.  Two groups are formed each with their own intervention.  Most commonly one group will receive a placebo.  A period where no intervention takes place follows and then restarted, but interchanged between the individuals in the two groups.</p>"
   ]
  },
  {
   "cell_type": "markdown",
   "metadata": {},
   "source": [
    "## Trials with external controls"
   ]
  },
  {
   "cell_type": "markdown",
   "metadata": {},
   "source": [
    "<p>An appropriate example would be the use of previously published groups as controls for analysing against a current intervention group.  These are termed *historical controls*.  It is commonly used in oncological research where an effective treatment does not yet exist.</p>\n",
    "<p>The risk exists in the choice of the control group, a choice that may influence and exacerbate the findings of the outcome of the statistical analysis.</p>"
   ]
  },
  {
   "cell_type": "markdown",
   "metadata": {},
   "source": [
    "## Uncontrolled trials"
   ]
  },
  {
   "cell_type": "markdown",
   "metadata": {},
   "source": [
    "<p>In these studies an intervention takes place, but there are no controls.  The hypothesis is that there will be varying outcomes and reasons for these can be elucidated from the data.  No attempt is made to evaluate the intervention itself, as it is not being compared to either a placebo or an alternative form of intervention.</p>"
   ]
  },
  {
   "cell_type": "markdown",
   "metadata": {},
   "source": [
    "## Meta-analysis"
   ]
  },
  {
   "cell_type": "markdown",
   "metadata": {},
   "source": [
    "<p>A *meta-analysis* uses pre-existing research and combines their results to permit an overall conclusion.  It is especially helpful if the individual studies that make up the analysis are of inadequate size or power.</p>"
   ]
  },
  {
   "cell_type": "markdown",
   "metadata": {},
   "source": [
    "## Reviews"
   ]
  },
  {
   "cell_type": "markdown",
   "metadata": {},
   "source": [
    "<p>As in the case of a meta-analysis various papers are included based on a particular factor.  The discussion around this amalgamation, though, remains qualitative and no quantitative assessment and summary of findings are included.</p>"
   ]
  },
  {
   "cell_type": "code",
   "execution_count": null,
   "metadata": {
    "collapsed": false
   },
   "outputs": [],
   "source": []
  }
 ],
 "metadata": {
  "kernelspec": {
   "display_name": "Python 3",
   "language": "python",
   "name": "python3"
  },
  "language_info": {
   "codemirror_mode": {
    "name": "ipython",
    "version": 3
   },
   "file_extension": ".py",
   "mimetype": "text/x-python",
   "name": "python",
   "nbconvert_exporter": "python",
   "pygments_lexer": "ipython3",
   "version": "3.4.3"
  }
 },
 "nbformat": 4,
 "nbformat_minor": 0
}
