{
 "cells": [
  {
   "cell_type": "markdown",
   "metadata": {},
   "source": [
    "Setting up a fancy stylesheet"
   ]
  },
  {
   "cell_type": "code",
   "execution_count": 1,
   "metadata": {
    "collapsed": false
   },
   "outputs": [
    {
     "data": {
      "text/html": [
       "<link href='http://fonts.googleapis.com/css?family=Alegreya+Sans:100,300,400,500,700,800,900,100italic,300italic,400italic,500italic,700italic,800italic,900italic' rel='stylesheet' type='text/css'>\n",
       "<link href='http://fonts.googleapis.com/css?family=Arvo:400,700,400italic' rel='stylesheet' type='text/css'>\n",
       "<link href='http://fonts.googleapis.com/css?family=PT+Mono' rel='stylesheet' type='text/css'>\n",
       "<link href='http://fonts.googleapis.com/css?family=Shadows+Into+Light' rel='stylesheet' type='text/css'>\n",
       "<link href='http://fonts.googleapis.com/css?family=Philosopher:400,700,400italic,700italic' rel='stylesheet' type='text/css'>\n",
       "\n",
       "<style>\n",
       "\n",
       "@font-face {\n",
       "    font-family: \"Computer Modern\";\n",
       "    src: url('http://mirrors.ctan.org/fonts/cm-unicode/fonts/otf/cmunss.otf');\n",
       "}\n",
       "\n",
       "#notebook_panel { /* main background */\n",
       "    background: #ddd;\n",
       "    color: #000000;\n",
       "}\n",
       "\n",
       "\n",
       "div.text_cell_render{\n",
       "    font-family: 'Arvo' sans-serif;\n",
       "    line-height: 130%;\n",
       "    font-size: 115%;\n",
       "    width:1000px;\n",
       "    margin-left:auto;\n",
       "    margin-right:auto;\n",
       "}\n",
       "\n",
       "\n",
       "/* Formatting for header cells */\n",
       ".text_cell_render h1 {\n",
       "    font-family: 'Philosopher', sans-serif;\n",
       "    font-weight: 400;\n",
       "    font-size: 2.2em;\n",
       "    line-height: 100%;\n",
       "    color: rgb(0, 80, 120);\n",
       "    margin-bottom: 0.1em;\n",
       "    margin-top: 0.1em;\n",
       "    display: block;\n",
       "}\t\n",
       ".text_cell_render h2 {\n",
       "    font-family: 'Philosopher', serif;\n",
       "    font-weight: 400;\n",
       "    font-size: 1.9em;\n",
       "    line-height: 100%;\n",
       "    color: rgb(200,100,0);\n",
       "    margin-bottom: 0.1em;\n",
       "    margin-top: 0.1em;\n",
       "    display: block;\n",
       "}\t\n",
       "\n",
       ".text_cell_render h3 {\n",
       "    font-family: 'Philosopher', serif;\n",
       "    margin-top:12px;\n",
       "    margin-bottom: 3px;\n",
       "    font-style: italic;\n",
       "    color: rgb(94,127,192);\n",
       "}\n",
       "\n",
       ".text_cell_render h4 {\n",
       "    font-family: 'Philosopher', serif;\n",
       "}\n",
       "\n",
       ".text_cell_render h5 {\n",
       "    font-family: 'Alegreya Sans', sans-serif;\n",
       "    font-weight: 300;\n",
       "    font-size: 16pt;\n",
       "    color: grey;\n",
       "    font-style: italic;\n",
       "    margin-bottom: .1em;\n",
       "    margin-top: 0.1em;\n",
       "    display: block;\n",
       "}\n",
       "\n",
       ".text_cell_render h6 {\n",
       "    font-family: 'PT Mono', sans-serif;\n",
       "    font-weight: 300;\n",
       "    font-size: 10pt;\n",
       "    color: grey;\n",
       "    margin-bottom: 1px;\n",
       "    margin-top: 1px;\n",
       "}\n",
       "\n",
       ".CodeMirror{\n",
       "        font-family: \"PT Mono\";\n",
       "        font-size: 100%;\n",
       "}\n",
       "\n",
       "</style>\n",
       "\n"
      ],
      "text/plain": [
       "<IPython.core.display.HTML object>"
      ]
     },
     "execution_count": 1,
     "metadata": {},
     "output_type": "execute_result"
    }
   ],
   "source": [
    "from IPython.core.display import HTML\n",
    "css_file = 'style.css'\n",
    "HTML(open(css_file, 'r').read())"
   ]
  },
  {
   "cell_type": "markdown",
   "metadata": {},
   "source": [
    "# Audience and aim"
   ]
  },
  {
   "cell_type": "markdown",
   "metadata": {},
   "source": [
    "## General information"
   ]
  },
  {
   "cell_type": "markdown",
   "metadata": {},
   "source": [
    "<p>This massive open online course (MOOC) was conceived during a call for proposals made by the executive of the University of Cape Town (UCT) in 2013.  At that time, the continent of Africa was devoid of any tertiary education content on the large, international MOOC platforms.  As leading ranked university on the continent, it was perhaps seen as the duty of the university to contribute to this field.  </p>\n",
    "<p>More so, Groote Schuur Hospital (GSH) is home of the clinical services of the Faculty of Health Sciences at UCT.Even after nearly 50 years, it is still well-known for the first human heart transplant, and therefore was inevitably going to play its role.</p>\n",
    "<p>This course, was therefore proposed and designed in the Department of Surgery at GSH.  As recipient of the 2014 Open Education Consortium Individual Educator of the Year award for the development of open educational resources, I personally felt both compelled and hugely excited to bring this course to life.</p>"
   ]
  },
  {
   "cell_type": "markdown",
   "metadata": {},
   "source": [
    "## Audience"
   ]
  },
  {
   "cell_type": "markdown",
   "metadata": {},
   "source": [
    "<p>In this second decade of the twentieth century, technology has awarded us the gift of new forms of teaching and learning.  As an outstanding example, we have the MOOC, which you are currently partaking in.  The first term, massive, provides, in itself, a massive challenge.  In the traditional classroom, teacher and student are bound by many common ideals, mindsets and goals, which are all well ring-fenced in an individual facility.</p>\n",
    "<p>In contrast to this, the MOOC has to be designed to fulfill many needs as well as be applicable in many scenarios.  Herein, , can also lie a strength.  In the previous lecture, reference was made to the fact that both novice researchers (in a first-world setting) as well as potential researchers (in under-resourced areas) could find benefit from this course.  This lecture will elaborate on the intended audience.</p>\n",
    "<p>It is a well-established fact that a large proportion of healthcare research is conducted in the first-world. Resources are, to some extent, widely available.  These resources include funding, which forms part of a self-perpetuating and well-maintained ecosystem.  More research ensures continued funding, which in turn, allows for the continuation of research.</p>\n",
    "<p>With the abundance in research there comes experienced researchers.  These individuals and groups are well placed to establish a hierarchy for the training of new researchers.  Time, effort and money are all available, not only to teach newcomers, but also to market the idea of conducting research.  </p>\n",
    "<p>More financial resources also bring more personnel.  Healthcare provision is understood to stand on three pillars: service delivery, teaching, and research.  With a larger pool of human resources, more time is available to individuals to concentrate on research and to induct newcomers into the field.</p>\n",
    "<p>However, with this excellence in research, there comes competition in the workplace.  Those who wish to embark on healthcare research have a lot to live up to.  The expectations are indeed enormous and the bar is set extremely high.  A subset of the intended audience for this course then, is those who intend to get a head-start in this process.   No doubt, most of them will have resources available at their home institutions, but as with most online courses, the intent is not to replace, but to augment and provide yet another learning and teaching opportunity.</p>\n",
    "<p>The healthcare research spectrum is wide indeed, and leaning towards the opposite side is the 'under-resourced' setting.  In many cases none or very little research activity is noted.  Experienced individuals are scarce and many of them are lost to better equipped facilities and countries.</p>\n",
    "<p>Monetary resources are much more difficult to come by in these areas.  This has the effect of reducing the personnel available to work in healthcare, taking those involved away from research and concentrating on service delivery and, to a lesser, extent, teaching.  Perhaps under appreciated is the fact that no culture exists to market research under these circumstances.  This point has been raised twice now, with the explicit aim of emphasizing the need to sell the prospect of becoming involved in research.  In many instances service delivery becomes the only way for individuals to attain job security and thereofore an income.</p>\n",
    "<p>All of this is compounded by the burden of disease which is prevalent in many of these settings.  Long delays ensue and the natural progression of disease is seen to a much larger extent than in the first-world.  Not only do patients present late in the course of their disease, but the disease profile as such, does not reflect that of the first-world.  With the latter engaged in the research of diseases of relative importance to them. Hence the emphasis is not always placed on diseases that affect a large proposition of humanity.</p>\n",
    "<p>Lastly, addressing specifically the individual for whom this course was developed, consideration must be given to the modern view-point of interdisciplinary and integrated healthcare.  A great many individuals and groups are involved in modern healthcare delivery, irrespective of the setting.  From laboratory scientist to healthcare manager; from medical specialist, to assistant nurse; and from pharmacist to physiotherapist, every role-player will find some benefit to this course.</p>"
   ]
  },
  {
   "cell_type": "markdown",
   "metadata": {},
   "source": [
    "## Aim"
   ]
  },
  {
   "cell_type": "markdown",
   "metadata": {},
   "source": [
    "<p>The aim of this course is quite simply to provide a structural foundation for the first steps in healthcare research.  A foundation which is structured such that it is independent of where in the spectrum of the audience a participant might be and independent of the caregiver group he or she may represent.</p>\n",
    "<p>In order to contribute effectively to the effort of healthcare research, this structural foundation requires some essential ingredients.  This ranges from the obvious (which involves at least a basic understanding of statistics), to more practical issues.</p>\n",
    "<p>To commence any research, a research question must exist.  This involves the identification of a problem that requires a solution or, at least, an answer.  It is important to understand how to identify these questions.  An essential step in formulating a proper question is the need to identify other research that has been conducted in this field. The ability to write a literature review is a skill that all healthcare providers should possess.</p>\n",
    "<p>From research questions which arise, the need to gather data evolves.  This is not a trivial task and requires deep thought.  Not only are the logistics important, but the actual data to be collected must contain within it, the solution to the research question.  Data should be collectable in an accurate and reproducible way, whist simultaneously not being duplicate.</p>\n",
    "<p>Collecting data in the setting of healthcare very often involves personal patient information and it is absolutely essential to understand the ethical ways of obtaining, storing, and using this data.</p>\n",
    "<p>The actual vehicle of data capturing must be understood.  In this modern era, many devices and software tools not only allow for accurate data capturing, but allow for the analysis of the data.  It is important to have at least some understanding of the tools available as well as be comfortable in the use of some of them.</p>\n",
    "<p>Once the data is analyzed it becomes important to share the results with peers and the wider community.  A skill essential in this regard is the writing of a manuscript for presentation or submission either in the form of an abstract or a full-text article.</p>\n",
    "<p>This course, then, aims to take you through this process.</p>"
   ]
  },
  {
   "cell_type": "markdown",
   "metadata": {},
   "source": [
    "# Motivation for this lecture series"
   ]
  },
  {
   "cell_type": "markdown",
   "metadata": {},
   "source": [
    "<p>Welcome to this series on conducting healthcare research.</p>\n",
    "<p>Whilst the main study material for this course is provided in the form of video lectures, it is my aim to provide you, the participants, with as many educational resources as possible.  It is clear that some learners prefer the ability to watch video lectures and find maximum pedagogical benefit from this type of resource, rich in visual and auditory input, whilst others benefit most from the written word.  For most of us, our personal preference lies somewhere in between.  I trust, then, that this text will be of some use.</p>\n",
    "<p>To further enrich the learning experience, the text is provided within an active coding environment.  You could thus choose to simply stick to the written word, or you can partake in the actual analysis of data using code.</p>\n",
    "Although we can in no way compare to research performed in the hard sciences, such as particle physics, we have made huge strides by the introduction of evidence-based research, clinical management, and teaching.</p>"
   ]
  },
  {
   "cell_type": "markdown",
   "metadata": {},
   "source": [
    "## Healthcare as a science"
   ]
  },
  {
   "cell_type": "markdown",
   "metadata": {},
   "source": [
    "<p>Research in the health sciences is taking the first steps towards becoming a true scientific endeavor, such as physics.  Many of us are old enough to, with some fondness, remember the days of the preeminent statesman-like professor, on whose words we hung.  Eminence-based medicine has a rich and prolific history, indeed.</p>\n",
    "<p>As previously mentioned, when considering physics, it is important to take cognizance of the long lead-time it has over healthcare research.  The strides made in the former field began at the start of the twentieth century, when Rutherford’s postgraduate students first noted evidence for the nuclear form of the atom.  Bohr gave us the structure of electron orbits based on the work of Planck and Einstein, from which grew our fundamental understanding (or lack thereof) of the quantum world.</p>\n",
    "<p>Not only does physics have a much longer research history, which has lead to a deep and wonderful understanding of the inner workings of our universe, but it also benefits from the size of available data to work with.  We need only consider the work done at the Large Hadron Collider in Switzerland.  The shear volume of data is so large, that most of it has to be discarded.  Even so, they have to make use of distributed computing, with interconnected computers all over the world, to store and evaluate data.</p>\n",
    "<p>Contrast this to the sample sizes seen, on average, in a typical healthcare research paper.  We are bound by arbitrary values of two standard deviations as a measure of significance, whilst our learned colleagues in physics can set the bar orders of magnitude higher.</p>\n",
    "<p>Turning full-circle we need to remember that our understanding of disease is still very primitive.  We design studies by trying to isolate a characteristic to use in comparing various groups.  It is a serious matter to consider the fact that these characteristics are seldom ‘singular’.  If we knew more we would probably discover a large and rich causal structure belying our characteristic of choice and if we could design studies to investigate these, our patient care would improve.</p>\n",
    "<p>Consider the following scenario:  A researcher looks into breast carcinoma and groups patients according to stage.  An intervention is shown to have a significant difference between a set of groups.  These groups were constructed from the presence of tumor size and nodal and distal spread.  In the analysis, statistical outliers will invariably be noted.  Patients whose reactions to the intervention stand in contrast to that of their group.  Alas, they are often lost in our analysis.</p>\n",
    "<p>Yet, we have enough knowledge now to know that tumor size and disease spread has a deeper causal layer, involving genetics as an example.  The rich interaction between genetic mutations in tumor genes and the patient’s defense system, with resulting sensitivity to chemotherapeutic agents are much more important to investigate.  For this, though, we need adequate sample sizes, something physicists will always have over us.</p>\n",
    "<p>Akin to their efforts however,we are metaphorically, digging deeper.  In order for us to continue this process, it is important to widen the research capabilities of those involved in healthcare.  This can be achieved in a variety of ways.  Considering those of us who are to take up positions in healthcare in well-resourced environments, it is perhaps prudent to provide courses such as this to those who wish to get get a head-start in the process before being formally introduced to the topic during their early education.  For others, perhaps in more austere circumstances, the luxury of well-funded research units with experienced colleagues is not available.  Workers in these cricumstances, though, are usually blessed with riches in available clinical data.  They might be in the position to solve many of our outstanding research questions if provided with the tools to commence their own research.</p>\n",
    "<p>One of the major steps towards improving our science then, is to enable all healtcare workers to understand data analysis.  This is the true motivation for this course.  It is my sincerest wish then, that someone out there will find value in this course as they embark on a career in healthcare research that will benefit us all.</p>"
   ]
  },
  {
   "cell_type": "code",
   "execution_count": null,
   "metadata": {
    "collapsed": false
   },
   "outputs": [],
   "source": []
  }
 ],
 "metadata": {
  "kernelspec": {
   "display_name": "Python 3",
   "language": "python",
   "name": "python3"
  },
  "language_info": {
   "codemirror_mode": {
    "name": "ipython",
    "version": 3
   },
   "file_extension": ".py",
   "mimetype": "text/x-python",
   "name": "python",
   "nbconvert_exporter": "python",
   "pygments_lexer": "ipython3",
   "version": "3.4.3"
  }
 },
 "nbformat": 4,
 "nbformat_minor": 0
}
