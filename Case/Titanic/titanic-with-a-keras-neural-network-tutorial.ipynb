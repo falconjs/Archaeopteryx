{
 "cells": [
  {
   "cell_type": "markdown",
   "metadata": {
    "_uuid": "5adae90bcaed7a0bf4725a7c82fa216e8099f7bd"
   },
   "source": [
    "# **Titanic with a Keras Neural Network tutorial ! 🧠**"
   ]
  },
  {
   "cell_type": "markdown",
   "metadata": {
    "_uuid": "25b5c0086ed0b380daec0b2b378f21d7f09b0ae7"
   },
   "source": [
    "### Hi Kagglers ! 👋👋👋\n",
    "\n",
    "### Welcome on this tutorial ! This is aimed for beginners but whatever your level you could read it, and if you find a way to improve it i encourage you to fork this notebook and contribute by adding a better solution :D\n",
    "\n",
    "### Let's go !"
   ]
  },
  {
   "cell_type": "markdown",
   "metadata": {
    "_uuid": "4c2e8b8de8ae6e359fa4444d4bbfc71c29ae69e8"
   },
   "source": [
    "![](https://i.ytimg.com/vi/yuMNWt6S0ZA/maxresdefault.jpg)"
   ]
  },
  {
   "cell_type": "markdown",
   "metadata": {
    "_uuid": "e42db9294ba8b1137ebb9df86c46c3c38de7627e"
   },
   "source": [
    "### In this notebook, we are going to predict wether a passenger of the famous boat will survive or not ! By doing this, we will go through several topics and fundamental techniques of machine learning. Here is a list of these techniques and some additional resources that you can consult to find out more: \n",
    "\n",
    "- [EDA | Data exploration](https://medium.com/python-pandemonium/introduction-to-exploratory-data-analysis-in-python-8b6bcb55c190)\n",
    "- [Features engineering](https://adataanalyst.com/machine-learning/comprehensive-guide-feature-engineering/)\n",
    "- [Evaluating a model over one training | metrics](https://machinelearningmastery.com/metrics-evaluate-machine-learning-algorithms-python/)\n",
    "- [Evaluating a model over several trainings | k-fold cross validation](https://towardsdatascience.com/train-test-split-and-cross-validation-in-python-80b61beca4b6)\n",
    "- [Neural network with keras](https://elitedatascience.com/keras-tutorial-deep-learning-in-python)"
   ]
  },
  {
   "cell_type": "markdown",
   "metadata": {
    "_uuid": "36ce2f5c196e4773aff267a85a1a908b92c6168f"
   },
   "source": [
    "## **Imports and useful functions**"
   ]
  },
  {
   "cell_type": "code",
   "execution_count": 1,
   "metadata": {
    "_cell_guid": "b1076dfc-b9ad-4769-8c92-a6c4dae69d19",
    "_uuid": "8f2839f25d086af736a60e9eeb907d3b93b6e0e5"
   },
   "outputs": [
    {
     "name": "stderr",
     "output_type": "stream",
     "text": [
      "Using TensorFlow backend.\n"
     ]
    }
   ],
   "source": [
    "import pandas as pd\n",
    "import matplotlib\n",
    "import pydot\n",
    "import re\n",
    "\n",
    "%matplotlib inline\n",
    "import matplotlib\n",
    "import matplotlib.pyplot as plt\n",
    "plt.rcParams['axes.labelsize'] = 14\n",
    "plt.rcParams['xtick.labelsize'] = 12\n",
    "plt.rcParams['ytick.labelsize'] = 12\n",
    "\n",
    "import numpy as np\n",
    "import sklearn\n",
    "import seaborn as sns\n",
    "\n",
    "# Ignore warnings\n",
    "import warnings\n",
    "warnings.filterwarnings('ignore')\n",
    "\n",
    "import keras\n",
    "from keras.models import Sequential\n",
    "from keras.layers import Dense, Dropout\n",
    "from keras.wrappers.scikit_learn import KerasClassifier\n",
    "\n",
    "from sklearn import metrics\n",
    "from sklearn.linear_model import LogisticRegression\n",
    "from sklearn.ensemble import RandomForestClassifier\n",
    "from sklearn.tree import export_graphviz, DecisionTreeClassifier\n",
    "from sklearn.preprocessing import StandardScaler\n",
    "from sklearn.model_selection import cross_val_score, train_test_split, GridSearchCV"
   ]
  },
  {
   "cell_type": "code",
   "execution_count": 2,
   "metadata": {
    "_cell_guid": "79c7e3d0-c299-4dcb-8224-4455121ee9b0",
    "_uuid": "d629ff2d2480ee46fbb7e2d37f6b5fab8052498a"
   },
   "outputs": [],
   "source": [
    "#path of datasets\n",
    "path_train = '../input/train.csv'\n",
    "path_test = '../input/test.csv'\n",
    "\n",
    "def display_confusion_matrix(sample_test, prediction, score=None):\n",
    "    cm = metrics.confusion_matrix(sample_test, prediction)\n",
    "    plt.figure(figsize=(9,9))\n",
    "    sns.heatmap(cm, annot=True, fmt=\".3f\", linewidths=.5, square=True, cmap='Blues_r')\n",
    "    plt.ylabel('Actual label')\n",
    "    plt.xlabel('Predicted label')\n",
    "    if score:\n",
    "        all_sample_title = 'Accuracy Score: {0}'.format(score)\n",
    "        plt.title(all_sample_title, size = 15)\n",
    "    print(metrics.classification_report(sample_test, prediction))\n",
    "    \n",
    "def visualize_tree(tree, feature_names):\n",
    "    with open(\"dt.dot\", 'w') as f:\n",
    "        export_graphviz(tree, out_file=f,\n",
    "                        feature_names=feature_names)\n",
    "    command = [\"dot\", \"-Tpng\", \"dt.dot\", \"-o\", \"dt.png\"]\n",
    "    try:\n",
    "        subprocess.check_call(command)\n",
    "    except:\n",
    "        exit(\"Could not run dot, ie graphviz, to \"\n",
    "             \"produce visualization\")\n",
    "        \n",
    "# Create table for missing data analysis\n",
    "def draw_missing_data_table(df):\n",
    "    total = df.isnull().sum().sort_values(ascending=False)\n",
    "    percent = (df.isnull().sum()/df.isnull().count()).sort_values(ascending=False)\n",
    "    missing_data = pd.concat([total, percent], axis=1, keys=['Total', 'Percent'])\n",
    "    return missing_data"
   ]
  },
  {
   "cell_type": "markdown",
   "metadata": {
    "_uuid": "789084c52a3741a4bdab8c1feff3bbf81be5fc8d"
   },
   "source": [
    "## **1. Data exploration**"
   ]
  },
  {
   "cell_type": "code",
   "execution_count": 3,
   "metadata": {
    "_uuid": "87e46869bf36e52e65b540541789129ee6aed3d8"
   },
   "outputs": [
    {
     "data": {
      "text/html": [
       "<div>\n",
       "<style scoped>\n",
       "    .dataframe tbody tr th:only-of-type {\n",
       "        vertical-align: middle;\n",
       "    }\n",
       "\n",
       "    .dataframe tbody tr th {\n",
       "        vertical-align: top;\n",
       "    }\n",
       "\n",
       "    .dataframe thead th {\n",
       "        text-align: right;\n",
       "    }\n",
       "</style>\n",
       "<table border=\"1\" class=\"dataframe\">\n",
       "  <thead>\n",
       "    <tr style=\"text-align: right;\">\n",
       "      <th></th>\n",
       "      <th>PassengerId</th>\n",
       "      <th>Survived</th>\n",
       "      <th>Pclass</th>\n",
       "      <th>Name</th>\n",
       "      <th>Sex</th>\n",
       "      <th>Age</th>\n",
       "      <th>SibSp</th>\n",
       "      <th>Parch</th>\n",
       "      <th>Ticket</th>\n",
       "      <th>Fare</th>\n",
       "      <th>Cabin</th>\n",
       "      <th>Embarked</th>\n",
       "    </tr>\n",
       "  </thead>\n",
       "  <tbody>\n",
       "    <tr>\n",
       "      <th>0</th>\n",
       "      <td>1</td>\n",
       "      <td>0</td>\n",
       "      <td>3</td>\n",
       "      <td>Braund, Mr. Owen Harris</td>\n",
       "      <td>male</td>\n",
       "      <td>22.0</td>\n",
       "      <td>1</td>\n",
       "      <td>0</td>\n",
       "      <td>A/5 21171</td>\n",
       "      <td>7.2500</td>\n",
       "      <td>NaN</td>\n",
       "      <td>S</td>\n",
       "    </tr>\n",
       "    <tr>\n",
       "      <th>1</th>\n",
       "      <td>2</td>\n",
       "      <td>1</td>\n",
       "      <td>1</td>\n",
       "      <td>Cumings, Mrs. John Bradley (Florence Briggs Th...</td>\n",
       "      <td>female</td>\n",
       "      <td>38.0</td>\n",
       "      <td>1</td>\n",
       "      <td>0</td>\n",
       "      <td>PC 17599</td>\n",
       "      <td>71.2833</td>\n",
       "      <td>C85</td>\n",
       "      <td>C</td>\n",
       "    </tr>\n",
       "    <tr>\n",
       "      <th>2</th>\n",
       "      <td>3</td>\n",
       "      <td>1</td>\n",
       "      <td>3</td>\n",
       "      <td>Heikkinen, Miss. Laina</td>\n",
       "      <td>female</td>\n",
       "      <td>26.0</td>\n",
       "      <td>0</td>\n",
       "      <td>0</td>\n",
       "      <td>STON/O2. 3101282</td>\n",
       "      <td>7.9250</td>\n",
       "      <td>NaN</td>\n",
       "      <td>S</td>\n",
       "    </tr>\n",
       "    <tr>\n",
       "      <th>3</th>\n",
       "      <td>4</td>\n",
       "      <td>1</td>\n",
       "      <td>1</td>\n",
       "      <td>Futrelle, Mrs. Jacques Heath (Lily May Peel)</td>\n",
       "      <td>female</td>\n",
       "      <td>35.0</td>\n",
       "      <td>1</td>\n",
       "      <td>0</td>\n",
       "      <td>113803</td>\n",
       "      <td>53.1000</td>\n",
       "      <td>C123</td>\n",
       "      <td>S</td>\n",
       "    </tr>\n",
       "    <tr>\n",
       "      <th>4</th>\n",
       "      <td>5</td>\n",
       "      <td>0</td>\n",
       "      <td>3</td>\n",
       "      <td>Allen, Mr. William Henry</td>\n",
       "      <td>male</td>\n",
       "      <td>35.0</td>\n",
       "      <td>0</td>\n",
       "      <td>0</td>\n",
       "      <td>373450</td>\n",
       "      <td>8.0500</td>\n",
       "      <td>NaN</td>\n",
       "      <td>S</td>\n",
       "    </tr>\n",
       "  </tbody>\n",
       "</table>\n",
       "</div>"
      ],
      "text/plain": [
       "   PassengerId  Survived  Pclass    ...        Fare Cabin  Embarked\n",
       "0            1         0       3    ...      7.2500   NaN         S\n",
       "1            2         1       1    ...     71.2833   C85         C\n",
       "2            3         1       3    ...      7.9250   NaN         S\n",
       "3            4         1       1    ...     53.1000  C123         S\n",
       "4            5         0       3    ...      8.0500   NaN         S\n",
       "\n",
       "[5 rows x 12 columns]"
      ]
     },
     "execution_count": 3,
     "metadata": {},
     "output_type": "execute_result"
    }
   ],
   "source": [
    "#create dataframe for training dataset and print ten first rows as preview\n",
    "train_df_raw = pd.read_csv(path_train)\n",
    "train_df_raw.head()"
   ]
  },
  {
   "cell_type": "code",
   "execution_count": 4,
   "metadata": {
    "_uuid": "996505836b43d054f175c48e2229993930d6de3d"
   },
   "outputs": [
    {
     "data": {
      "text/html": [
       "<div>\n",
       "<style scoped>\n",
       "    .dataframe tbody tr th:only-of-type {\n",
       "        vertical-align: middle;\n",
       "    }\n",
       "\n",
       "    .dataframe tbody tr th {\n",
       "        vertical-align: top;\n",
       "    }\n",
       "\n",
       "    .dataframe thead th {\n",
       "        text-align: right;\n",
       "    }\n",
       "</style>\n",
       "<table border=\"1\" class=\"dataframe\">\n",
       "  <thead>\n",
       "    <tr style=\"text-align: right;\">\n",
       "      <th></th>\n",
       "      <th>PassengerId</th>\n",
       "      <th>Survived</th>\n",
       "      <th>Pclass</th>\n",
       "      <th>Age</th>\n",
       "      <th>SibSp</th>\n",
       "      <th>Parch</th>\n",
       "      <th>Fare</th>\n",
       "    </tr>\n",
       "  </thead>\n",
       "  <tbody>\n",
       "    <tr>\n",
       "      <th>count</th>\n",
       "      <td>891.000000</td>\n",
       "      <td>891.000000</td>\n",
       "      <td>891.000000</td>\n",
       "      <td>714.000000</td>\n",
       "      <td>891.000000</td>\n",
       "      <td>891.000000</td>\n",
       "      <td>891.000000</td>\n",
       "    </tr>\n",
       "    <tr>\n",
       "      <th>mean</th>\n",
       "      <td>446.000000</td>\n",
       "      <td>0.383838</td>\n",
       "      <td>2.308642</td>\n",
       "      <td>29.699118</td>\n",
       "      <td>0.523008</td>\n",
       "      <td>0.381594</td>\n",
       "      <td>32.204208</td>\n",
       "    </tr>\n",
       "    <tr>\n",
       "      <th>std</th>\n",
       "      <td>257.353842</td>\n",
       "      <td>0.486592</td>\n",
       "      <td>0.836071</td>\n",
       "      <td>14.526497</td>\n",
       "      <td>1.102743</td>\n",
       "      <td>0.806057</td>\n",
       "      <td>49.693429</td>\n",
       "    </tr>\n",
       "    <tr>\n",
       "      <th>min</th>\n",
       "      <td>1.000000</td>\n",
       "      <td>0.000000</td>\n",
       "      <td>1.000000</td>\n",
       "      <td>0.420000</td>\n",
       "      <td>0.000000</td>\n",
       "      <td>0.000000</td>\n",
       "      <td>0.000000</td>\n",
       "    </tr>\n",
       "    <tr>\n",
       "      <th>25%</th>\n",
       "      <td>223.500000</td>\n",
       "      <td>0.000000</td>\n",
       "      <td>2.000000</td>\n",
       "      <td>20.125000</td>\n",
       "      <td>0.000000</td>\n",
       "      <td>0.000000</td>\n",
       "      <td>7.910400</td>\n",
       "    </tr>\n",
       "    <tr>\n",
       "      <th>50%</th>\n",
       "      <td>446.000000</td>\n",
       "      <td>0.000000</td>\n",
       "      <td>3.000000</td>\n",
       "      <td>28.000000</td>\n",
       "      <td>0.000000</td>\n",
       "      <td>0.000000</td>\n",
       "      <td>14.454200</td>\n",
       "    </tr>\n",
       "    <tr>\n",
       "      <th>75%</th>\n",
       "      <td>668.500000</td>\n",
       "      <td>1.000000</td>\n",
       "      <td>3.000000</td>\n",
       "      <td>38.000000</td>\n",
       "      <td>1.000000</td>\n",
       "      <td>0.000000</td>\n",
       "      <td>31.000000</td>\n",
       "    </tr>\n",
       "    <tr>\n",
       "      <th>max</th>\n",
       "      <td>891.000000</td>\n",
       "      <td>1.000000</td>\n",
       "      <td>3.000000</td>\n",
       "      <td>80.000000</td>\n",
       "      <td>8.000000</td>\n",
       "      <td>6.000000</td>\n",
       "      <td>512.329200</td>\n",
       "    </tr>\n",
       "  </tbody>\n",
       "</table>\n",
       "</div>"
      ],
      "text/plain": [
       "       PassengerId    Survived     ...           Parch        Fare\n",
       "count   891.000000  891.000000     ...      891.000000  891.000000\n",
       "mean    446.000000    0.383838     ...        0.381594   32.204208\n",
       "std     257.353842    0.486592     ...        0.806057   49.693429\n",
       "min       1.000000    0.000000     ...        0.000000    0.000000\n",
       "25%     223.500000    0.000000     ...        0.000000    7.910400\n",
       "50%     446.000000    0.000000     ...        0.000000   14.454200\n",
       "75%     668.500000    1.000000     ...        0.000000   31.000000\n",
       "max     891.000000    1.000000     ...        6.000000  512.329200\n",
       "\n",
       "[8 rows x 7 columns]"
      ]
     },
     "execution_count": 4,
     "metadata": {},
     "output_type": "execute_result"
    }
   ],
   "source": [
    "# Compute some basical statistics on the dataset\n",
    "train_df_raw.describe()"
   ]
  },
  {
   "cell_type": "code",
   "execution_count": 5,
   "metadata": {
    "_uuid": "fef3c1d1492d727777d1504d8617e4e87f111aa3"
   },
   "outputs": [
    {
     "name": "stdout",
     "output_type": "stream",
     "text": [
      "<class 'pandas.core.frame.DataFrame'>\n",
      "RangeIndex: 891 entries, 0 to 890\n",
      "Data columns (total 12 columns):\n",
      "PassengerId    891 non-null int64\n",
      "Survived       891 non-null int64\n",
      "Pclass         891 non-null int64\n",
      "Name           891 non-null object\n",
      "Sex            891 non-null object\n",
      "Age            714 non-null float64\n",
      "SibSp          891 non-null int64\n",
      "Parch          891 non-null int64\n",
      "Ticket         891 non-null object\n",
      "Fare           891 non-null float64\n",
      "Cabin          204 non-null object\n",
      "Embarked       889 non-null object\n",
      "dtypes: float64(2), int64(5), object(5)\n",
      "memory usage: 83.6+ KB\n"
     ]
    }
   ],
   "source": [
    "train_df_raw.info()"
   ]
  },
  {
   "cell_type": "code",
   "execution_count": 6,
   "metadata": {
    "_uuid": "acd9bb6a9386a83128d7a8787e5c42ef2f5b2c90"
   },
   "outputs": [
    {
     "data": {
      "text/html": [
       "<div>\n",
       "<style scoped>\n",
       "    .dataframe tbody tr th:only-of-type {\n",
       "        vertical-align: middle;\n",
       "    }\n",
       "\n",
       "    .dataframe tbody tr th {\n",
       "        vertical-align: top;\n",
       "    }\n",
       "\n",
       "    .dataframe thead th {\n",
       "        text-align: right;\n",
       "    }\n",
       "</style>\n",
       "<table border=\"1\" class=\"dataframe\">\n",
       "  <thead>\n",
       "    <tr style=\"text-align: right;\">\n",
       "      <th></th>\n",
       "      <th>Total</th>\n",
       "      <th>Percent</th>\n",
       "    </tr>\n",
       "  </thead>\n",
       "  <tbody>\n",
       "    <tr>\n",
       "      <th>Cabin</th>\n",
       "      <td>687</td>\n",
       "      <td>0.771044</td>\n",
       "    </tr>\n",
       "    <tr>\n",
       "      <th>Age</th>\n",
       "      <td>177</td>\n",
       "      <td>0.198653</td>\n",
       "    </tr>\n",
       "    <tr>\n",
       "      <th>Embarked</th>\n",
       "      <td>2</td>\n",
       "      <td>0.002245</td>\n",
       "    </tr>\n",
       "    <tr>\n",
       "      <th>Fare</th>\n",
       "      <td>0</td>\n",
       "      <td>0.000000</td>\n",
       "    </tr>\n",
       "    <tr>\n",
       "      <th>Ticket</th>\n",
       "      <td>0</td>\n",
       "      <td>0.000000</td>\n",
       "    </tr>\n",
       "    <tr>\n",
       "      <th>Parch</th>\n",
       "      <td>0</td>\n",
       "      <td>0.000000</td>\n",
       "    </tr>\n",
       "    <tr>\n",
       "      <th>SibSp</th>\n",
       "      <td>0</td>\n",
       "      <td>0.000000</td>\n",
       "    </tr>\n",
       "    <tr>\n",
       "      <th>Sex</th>\n",
       "      <td>0</td>\n",
       "      <td>0.000000</td>\n",
       "    </tr>\n",
       "    <tr>\n",
       "      <th>Name</th>\n",
       "      <td>0</td>\n",
       "      <td>0.000000</td>\n",
       "    </tr>\n",
       "    <tr>\n",
       "      <th>Pclass</th>\n",
       "      <td>0</td>\n",
       "      <td>0.000000</td>\n",
       "    </tr>\n",
       "    <tr>\n",
       "      <th>Survived</th>\n",
       "      <td>0</td>\n",
       "      <td>0.000000</td>\n",
       "    </tr>\n",
       "    <tr>\n",
       "      <th>PassengerId</th>\n",
       "      <td>0</td>\n",
       "      <td>0.000000</td>\n",
       "    </tr>\n",
       "  </tbody>\n",
       "</table>\n",
       "</div>"
      ],
      "text/plain": [
       "             Total   Percent\n",
       "Cabin          687  0.771044\n",
       "Age            177  0.198653\n",
       "Embarked         2  0.002245\n",
       "Fare             0  0.000000\n",
       "Ticket           0  0.000000\n",
       "Parch            0  0.000000\n",
       "SibSp            0  0.000000\n",
       "Sex              0  0.000000\n",
       "Name             0  0.000000\n",
       "Pclass           0  0.000000\n",
       "Survived         0  0.000000\n",
       "PassengerId      0  0.000000"
      ]
     },
     "execution_count": 6,
     "metadata": {},
     "output_type": "execute_result"
    }
   ],
   "source": [
    "draw_missing_data_table(train_df_raw)"
   ]
  },
  {
   "cell_type": "markdown",
   "metadata": {
    "_uuid": "b549fc22c8c19a09c1d347c101a337fabf79562a"
   },
   "source": [
    "### There is 77% of missing data in the cabin column, it's way too much for this column to be exploitable, so we'll remove it from the dataframe. For the age, we will either interpolate missing values or we will fill it with the median. There is only two missing values for the embarked column, let's replace them by the most recurrent value of Embarqued variable :"
   ]
  },
  {
   "cell_type": "code",
   "execution_count": 7,
   "metadata": {
    "_uuid": "3ca9ea1a78543bed5ccd2f931747bdc5a97f9c2f"
   },
   "outputs": [
    {
     "data": {
      "text/plain": [
       "S    644\n",
       "C    168\n",
       "Q     77\n",
       "Name: Embarked, dtype: int64"
      ]
     },
     "execution_count": 7,
     "metadata": {},
     "output_type": "execute_result"
    }
   ],
   "source": [
    "train_df_raw['Embarked'].value_counts()"
   ]
  },
  {
   "cell_type": "code",
   "execution_count": 8,
   "metadata": {
    "_uuid": "191dd9ee84b0dcdd283b71bfc53e84f8d49f60da"
   },
   "outputs": [
    {
     "data": {
      "image/png": "[encoded data removed]",
      "text/plain": [
       "<Figure size 1440x1080 with 6 Axes>"
      ]
     },
     "metadata": {},
     "output_type": "display_data"
    }
   ],
   "source": [
    "# Let's plot some histograms to have a previzualisation of some of the data ...\n",
    "train_df_raw.drop(['PassengerId'], 1).hist(bins=50, figsize=(20,15))\n",
    "plt.show()"
   ]
  },
  {
   "cell_type": "markdown",
   "metadata": {
    "_uuid": "840c201359244d09dbcd378dafd8ebf0a42427c5"
   },
   "source": [
    "### With this first exploration, we can see that :\n",
    "\n",
    "* Only aproximately 35% of passengers survived ...\n",
    "* More than the half of passengers are in the lowest class (pclass = 3)\n",
    "* Most of the fare tickets are below 50\n",
    "* Majority of passengers are alone (sibsp and parch)"
   ]
  },
  {
   "cell_type": "markdown",
   "metadata": {
    "_uuid": "c86c5e54aeeb83b785747f2cdd7d276a694b691c"
   },
   "source": [
    "## **2. Features engineering**"
   ]
  },
  {
   "cell_type": "markdown",
   "metadata": {
    "_uuid": "28e6b3018acd01225ede443588836a2a6dccc14b"
   },
   "source": [
    "### My advice is to group all the transformations to be done on the dataset in a single function. This way, you can apply the same changes to the training dataset and the test dataset easily. Moreover, if you want to add a modification, you'll have to do it only in the function!"
   ]
  },
  {
   "cell_type": "code",
   "execution_count": 9,
   "metadata": {
    "_uuid": "e1cfd800c2f51bbb7a04f1c390e8f5647ef7becf"
   },
   "outputs": [],
   "source": [
    "def preprocess_data(df):\n",
    "    \n",
    "    processed_df = df\n",
    "    \n",
    "    # Drop useless columns\n",
    "    processed_df = processed_df.drop(['PassengerId'], 1)\n",
    "    \n",
    "    # Deal with missing values\n",
    "    processed_df['Embarked'].fillna('S', inplace=True)\n",
    "    processed_df['Age'].fillna(processed_df['Age'].mean(), inplace=True)\n",
    "    processed_df['Age'] = processed_df['Age'].astype(int)\n",
    "    processed_df['Fare'] = processed_df['Fare'].interpolate()\n",
    "    processed_df['Cabin'].fillna('U', inplace=True)\n",
    "    \n",
    "    # feature engineering on columns\n",
    "    processed_df['Title'] = pd.Series((name.split('.')[0].split(',')[1].strip() for name in train_df_raw['Name']), index=train_df_raw.index)\n",
    "    processed_df['Title'] = processed_df['Title'].replace(['Lady', 'the Countess','Countess','Capt', 'Col','Don', 'Dr', 'Major', 'Rev', 'Sir', 'Jonkheer', 'Dona'], 'Rare')\n",
    "    processed_df['Title'] = processed_df['Title'].replace(['Mlle', 'Ms'], 'Miss')\n",
    "    processed_df['Title'] = processed_df['Title'].replace('Mme', 'Mrs')\n",
    "    processed_df['Title'] = processed_df['Title'].map({\"Mr\": 1, \"Miss\": 2, \"Mrs\": 3, \"Master\": 4, \"Rare\": 5})\n",
    "    \n",
    "    processed_df['Sex'] = processed_df['Sex'].map({'male': 0, 'female': 1})\n",
    "    processed_df['Embarked'] = processed_df['Embarked'].map({'S': 0, 'C': 1, 'Q': 2})\n",
    "    \n",
    "    processed_df['Familly_size'] = processed_df['SibSp'] + processed_df['Parch'] + 1\n",
    "    processed_df['IsAlone'] = np.where(processed_df['Familly_size']!=1, 0, 1)\n",
    "    \n",
    "    #Creation of a deck column corresponding to the letter contained in the cabin value\n",
    "    processed_df['Cabin'] = processed_df['Cabin'].str[:1]\n",
    "    processed_df['Cabin'] = processed_df['Cabin'].map({cabin: p for p, cabin in enumerate(set(cab for cab in processed_df['Cabin']))})\n",
    "    \n",
    "    processed_df = processed_df.drop(['Name', 'Ticket'], 1)    \n",
    "    \n",
    "    return processed_df"
   ]
  },
  {
   "cell_type": "markdown",
   "metadata": {
    "_uuid": "75a781ff2a645d7a68489debed35e4e8e71a5b7e"
   },
   "source": [
    "## **3. Try several models on train dataset**"
   ]
  },
  {
   "cell_type": "code",
   "execution_count": 10,
   "metadata": {
    "_uuid": "5938ee5f0e21505fe0766caceab370c3be0cfd3f",
    "scrolled": true
   },
   "outputs": [
    {
     "data": {
      "text/html": [
       "<div>\n",
       "<style scoped>\n",
       "    .dataframe tbody tr th:only-of-type {\n",
       "        vertical-align: middle;\n",
       "    }\n",
       "\n",
       "    .dataframe tbody tr th {\n",
       "        vertical-align: top;\n",
       "    }\n",
       "\n",
       "    .dataframe thead th {\n",
       "        text-align: right;\n",
       "    }\n",
       "</style>\n",
       "<table border=\"1\" class=\"dataframe\">\n",
       "  <thead>\n",
       "    <tr style=\"text-align: right;\">\n",
       "      <th></th>\n",
       "      <th>Pclass</th>\n",
       "      <th>Sex</th>\n",
       "      <th>Age</th>\n",
       "      <th>SibSp</th>\n",
       "      <th>Parch</th>\n",
       "      <th>Fare</th>\n",
       "      <th>Cabin</th>\n",
       "      <th>Embarked</th>\n",
       "      <th>Title</th>\n",
       "      <th>Familly_size</th>\n",
       "      <th>IsAlone</th>\n",
       "    </tr>\n",
       "  </thead>\n",
       "  <tbody>\n",
       "    <tr>\n",
       "      <th>331</th>\n",
       "      <td>-1.566107</td>\n",
       "      <td>-0.737695</td>\n",
       "      <td>1.188306</td>\n",
       "      <td>-0.474545</td>\n",
       "      <td>-0.473674</td>\n",
       "      <td>-0.074583</td>\n",
       "      <td>-1.180472</td>\n",
       "      <td>-0.568837</td>\n",
       "      <td>-0.707550</td>\n",
       "      <td>-0.560975</td>\n",
       "      <td>0.811922</td>\n",
       "    </tr>\n",
       "    <tr>\n",
       "      <th>733</th>\n",
       "      <td>-0.369365</td>\n",
       "      <td>-0.737695</td>\n",
       "      <td>-0.503160</td>\n",
       "      <td>-0.474545</td>\n",
       "      <td>-0.473674</td>\n",
       "      <td>-0.386671</td>\n",
       "      <td>0.294704</td>\n",
       "      <td>-0.568837</td>\n",
       "      <td>-0.707550</td>\n",
       "      <td>-0.560975</td>\n",
       "      <td>0.811922</td>\n",
       "    </tr>\n",
       "    <tr>\n",
       "      <th>382</th>\n",
       "      <td>0.827377</td>\n",
       "      <td>-0.737695</td>\n",
       "      <td>0.188804</td>\n",
       "      <td>-0.474545</td>\n",
       "      <td>-0.473674</td>\n",
       "      <td>-0.488854</td>\n",
       "      <td>0.294704</td>\n",
       "      <td>-0.568837</td>\n",
       "      <td>-0.707550</td>\n",
       "      <td>-0.560975</td>\n",
       "      <td>0.811922</td>\n",
       "    </tr>\n",
       "    <tr>\n",
       "      <th>704</th>\n",
       "      <td>0.827377</td>\n",
       "      <td>-0.737695</td>\n",
       "      <td>-0.272505</td>\n",
       "      <td>0.432793</td>\n",
       "      <td>-0.473674</td>\n",
       "      <td>-0.490280</td>\n",
       "      <td>0.294704</td>\n",
       "      <td>-0.568837</td>\n",
       "      <td>-0.707550</td>\n",
       "      <td>0.059160</td>\n",
       "      <td>-1.231645</td>\n",
       "    </tr>\n",
       "    <tr>\n",
       "      <th>813</th>\n",
       "      <td>0.827377</td>\n",
       "      <td>1.355574</td>\n",
       "      <td>-1.810201</td>\n",
       "      <td>3.154809</td>\n",
       "      <td>2.008933</td>\n",
       "      <td>-0.018709</td>\n",
       "      <td>0.294704</td>\n",
       "      <td>-0.568837</td>\n",
       "      <td>0.263832</td>\n",
       "      <td>3.159833</td>\n",
       "      <td>-1.231645</td>\n",
       "    </tr>\n",
       "  </tbody>\n",
       "</table>\n",
       "</div>"
      ],
      "text/plain": [
       "       Pclass       Sex       Age    ...        Title  Familly_size   IsAlone\n",
       "331 -1.566107 -0.737695  1.188306    ...    -0.707550     -0.560975  0.811922\n",
       "733 -0.369365 -0.737695 -0.503160    ...    -0.707550     -0.560975  0.811922\n",
       "382  0.827377 -0.737695  0.188804    ...    -0.707550     -0.560975  0.811922\n",
       "704  0.827377 -0.737695 -0.272505    ...    -0.707550      0.059160 -1.231645\n",
       "813  0.827377  1.355574 -1.810201    ...     0.263832      3.159833 -1.231645\n",
       "\n",
       "[5 rows x 11 columns]"
      ]
     },
     "execution_count": 10,
     "metadata": {},
     "output_type": "execute_result"
    }
   ],
   "source": [
    "# Let's divide the train dataset in two datasets to evaluate perfomance of machine learning models used\n",
    "train_df = train_df_raw.copy()\n",
    "X = train_df.drop(['Survived'], 1)\n",
    "Y = train_df['Survived']\n",
    "\n",
    "X = preprocess_data(X)\n",
    "sc = StandardScaler()\n",
    "X = pd.DataFrame(sc.fit_transform(X.values), index=X.index, columns=X.columns)\n",
    "    \n",
    "# Split dataset for prediction\n",
    "X_train, X_test, Y_train, Y_test = train_test_split(X, Y, test_size=0.2, random_state=42)\n",
    "\n",
    "X_train.head()"
   ]
  },
  {
   "cell_type": "markdown",
   "metadata": {
    "_uuid": "7b2b9905f1c16b2f6b3ac529b99e12c6b1c9bc5c"
   },
   "source": [
    "### **1.1 Logistic regression**"
   ]
  },
  {
   "cell_type": "markdown",
   "metadata": {
    "_uuid": "da0395ac5c3fe94a72d13069058a1987fa85394d"
   },
   "source": [
    "### Logistic regression is the \"hello world\" of machine learning algorithms. It is very simple to understand how it works, [here](https://towardsdatascience.com/understanding-logistic-regression-9b02c2aec102) is a good article which cover theory of this algorithm."
   ]
  },
  {
   "cell_type": "code",
   "execution_count": 11,
   "metadata": {
    "_uuid": "2bf8ea63bf50087b31df2ee3fc3d20456852e29d"
   },
   "outputs": [
    {
     "name": "stdout",
     "output_type": "stream",
     "text": [
      "              precision    recall  f1-score   support\n",
      "\n",
      "           0       0.82      0.82      0.82       105\n",
      "           1       0.74      0.74      0.74        74\n",
      "\n",
      "   micro avg       0.79      0.79      0.79       179\n",
      "   macro avg       0.78      0.78      0.78       179\n",
      "weighted avg       0.79      0.79      0.79       179\n",
      "\n"
     ]
    },
    {
     "data": {
      "image/png": "[encoded data removed]",
      "text/plain": [
       "<Figure size 648x648 with 2 Axes>"
      ]
     },
     "metadata": {},
     "output_type": "display_data"
    }
   ],
   "source": [
    "# Create and train model on train data sample\n",
    "logisticRegr = LogisticRegression(random_state=42)\n",
    "logisticRegr.fit(X_train, Y_train)\n",
    "\n",
    "# Predict for test data sample\n",
    "logistic_prediction = logisticRegr.predict(X_test)\n",
    "\n",
    "# Compute error between predicted data and true response and display it in confusion matrix\n",
    "score = metrics.accuracy_score(Y_test, logistic_prediction)\n",
    "display_confusion_matrix(Y_test, logistic_prediction, score=score)"
   ]
  },
  {
   "cell_type": "markdown",
   "metadata": {
    "_uuid": "dd2b871e06a3fbb2bf367c4a59227883c51f94db"
   },
   "source": [
    "### **1.2 Decision tree**"
   ]
  },
  {
   "cell_type": "markdown",
   "metadata": {
    "_uuid": "ed2a8e4dcbb5dfe1d8c9e64e5521b0ae13552d32"
   },
   "source": [
    "### Decision tree is a quite intuitive model, easy to vizualize and interpret. Here, we are even going to display our tree to improve our understanding on how the algorithm manage to classify our samples:\n",
    "\n",
    "### To find out more about decision trees: [DT](https://medium.com/@chiragsehra42/decision-trees-explained-easily-28f23241248)\n"
   ]
  },
  {
   "cell_type": "code",
   "execution_count": 12,
   "metadata": {
    "_uuid": "e210227806175d3fec8fb54c7398693af57e19cb"
   },
   "outputs": [
    {
     "name": "stdout",
     "output_type": "stream",
     "text": [
      "              precision    recall  f1-score   support\n",
      "\n",
      "           0       0.84      0.84      0.84       105\n",
      "           1       0.77      0.77      0.77        74\n",
      "\n",
      "   micro avg       0.81      0.81      0.81       179\n",
      "   macro avg       0.80      0.80      0.80       179\n",
      "weighted avg       0.81      0.81      0.81       179\n",
      "\n"
     ]
    },
    {
     "data": {
      "image/png": "[encoded data removed]",
      "text/plain": [
       "<Figure size 648x648 with 2 Axes>"
      ]
     },
     "metadata": {},
     "output_type": "display_data"
    }
   ],
   "source": [
    "# Create and train model on train data sample\n",
    "dt = DecisionTreeClassifier(min_samples_split=15, min_samples_leaf=20, random_state=42)\n",
    "dt.fit(X_train, Y_train)\n",
    "\n",
    "# Predict for test data sample\n",
    "dt_prediction = dt.predict(X_test)\n",
    "\n",
    "# Compute error between predicted data and true response and display it in confusion matrix\n",
    "score = metrics.accuracy_score(Y_test, dt_prediction)\n",
    "display_confusion_matrix(Y_test, dt_prediction, score=score)\n"
   ]
  },
  {
   "cell_type": "code",
   "execution_count": 13,
   "metadata": {
    "_uuid": "c2a344ec6566d6839fbd0351c9285bfcffc2f9d9"
   },
   "outputs": [],
   "source": [
    "visualize_tree(dt, X_test.columns)\n",
    "! dot -Tpng dt.dot > dt.png"
   ]
  },
  {
   "cell_type": "markdown",
   "metadata": {
    "_uuid": "67ec7b6b647ef967313f9271c3c2fd0fa553d97a"
   },
   "source": [
    "![title](dt.png)"
   ]
  },
  {
   "cell_type": "markdown",
   "metadata": {
    "_uuid": "60e4d7b8c520451c78acfc54b95fca1c73b97939"
   },
   "source": [
    "### **1.3 Random forest**"
   ]
  },
  {
   "cell_type": "markdown",
   "metadata": {
    "_uuid": "ced6dcc5ecc42fb911e387e98023f32830ca9674"
   },
   "source": [
    "### Random forest is a robust & practical algorithm based on decision trees. It outperforms almost always the two previous algorithm we saw. If you want to find out more about this model, [here](https://medium.com/@williamkoehrsen/random-forest-simple-explanation-377895a60d2d) is a good start."
   ]
  },
  {
   "cell_type": "code",
   "execution_count": 14,
   "metadata": {
    "_uuid": "cf210ec43c5ada014f3d666d84c8227b10fa7291"
   },
   "outputs": [
    {
     "name": "stdout",
     "output_type": "stream",
     "text": [
      "              precision    recall  f1-score   support\n",
      "\n",
      "           0       0.83      0.87      0.85       105\n",
      "           1       0.80      0.76      0.78        74\n",
      "\n",
      "   micro avg       0.82      0.82      0.82       179\n",
      "   macro avg       0.82      0.81      0.81       179\n",
      "weighted avg       0.82      0.82      0.82       179\n",
      "\n"
     ]
    },
    {
     "data": {
      "image/png": "[encoded data removed]",
      "text/plain": [
       "<Figure size 648x648 with 2 Axes>"
      ]
     },
     "metadata": {},
     "output_type": "display_data"
    }
   ],
   "source": [
    "# Create and train model on train data sample\n",
    "rf = RandomForestClassifier(n_estimators=100, random_state=42)\n",
    "rf.fit(X_train, Y_train)\n",
    "\n",
    "# Predict for test data sample\n",
    "rf_prediction = rf.predict(X_test)\n",
    "\n",
    "# Compute error between predicted data and true response and display it in confusion matrix\n",
    "score = metrics.accuracy_score(Y_test, rf_prediction)\n",
    "display_confusion_matrix(Y_test, rf_prediction, score=score)"
   ]
  },
  {
   "cell_type": "markdown",
   "metadata": {
    "_uuid": "6f15e098541b4ce5c2e21331fb18d0afa39d8535"
   },
   "source": [
    "### **1.4 Artificial neural network**"
   ]
  },
  {
   "cell_type": "markdown",
   "metadata": {
    "_uuid": "a95defc65c4ffe5a5c493f32803bc81d6b5ac8e0"
   },
   "source": [
    "### To build our neural network, we are going to use Keras. Keras is a high level API for tensorflow, which is a tensor-manipulation framework made by google. It allows to build neural networks by assembling blocks (which are the layers of our neural network). For more details, [here](https://elitedatascience.com/keras-tutorial-deep-learning-in-python) is a great keras tutorial. "
   ]
  },
  {
   "cell_type": "code",
   "execution_count": 15,
   "metadata": {
    "_uuid": "49788e798f8d64f6196cdbb5e962e603f114783c"
   },
   "outputs": [],
   "source": [
    "def build_ann(optimizer='adam'):\n",
    "    # Initializing our ANN\n",
    "    ann = Sequential()\n",
    "    # Adding the input layer and the first hidden layer of our ANN with dropout\n",
    "    ann.add(Dense(units=32, kernel_initializer='glorot_normal', activation='relu', input_shape = (11,)))\n",
    "    ann.add(Dropout(p=0.5)) # Dropout will disable some neurons (here 50% of all neurons) to avoid overfitting\n",
    "    # Add another layer, it is not necessary to pass the shape because there is a layer before\n",
    "    ann.add(Dense(units=64, kernel_initializer='glorot_normal', activation='relu'))\n",
    "    ann.add(Dropout(p=0.5))\n",
    "    ann.add(Dense(units=128, kernel_initializer='glorot_normal', activation='relu'))\n",
    "    ann.add(Dropout(p=0.5))\n",
    "    ann.add(Dense(units=164, kernel_initializer='glorot_normal', activation='relu'))\n",
    "    ann.add(Dropout(p=0.5))\n",
    "    ann.add(Dense(units=16, kernel_initializer='glorot_normal', activation='relu'))\n",
    "    # Adding the output layer\n",
    "    ann.add(Dense(units=1, kernel_initializer='glorot_normal', activation='sigmoid'))\n",
    "    \n",
    "    # Compilling the ANN\n",
    "    ann.compile(optimizer=optimizer, loss='binary_crossentropy', metrics=['accuracy'])\n",
    "    \n",
    "    return ann"
   ]
  },
  {
   "cell_type": "code",
   "execution_count": 16,
   "metadata": {
    "_kg_hide-output": true,
    "_uuid": "1e8cee7939bb3558604b0dda1675933ae4291bb4",
    "scrolled": false
   },
   "outputs": [
    {
     "name": "stdout",
     "output_type": "stream",
     "text": [
      "Epoch 1/100\n",
      "712/712 [==============================] - 1s 2ms/step - loss: 0.6852 - acc: 0.5885\n",
      "Epoch 2/100\n",
      "712/712 [==============================] - 0s 281us/step - loss: 0.6359 - acc: 0.6629\n",
      "Epoch 3/100\n",
      "712/712 [==============================] - 0s 312us/step - loss: 0.6151 - acc: 0.6882\n",
      "Epoch 4/100\n",
      "712/712 [==============================] - 0s 312us/step - loss: 0.5787 - acc: 0.7289\n",
      "Epoch 5/100\n",
      "712/712 [==============================] - 0s 323us/step - loss: 0.5714 - acc: 0.7388\n",
      "Epoch 6/100\n",
      "712/712 [==============================] - 0s 333us/step - loss: 0.5548 - acc: 0.7458\n",
      "Epoch 7/100\n",
      "712/712 [==============================] - 0s 290us/step - loss: 0.5222 - acc: 0.7795\n",
      "Epoch 8/100\n",
      "712/712 [==============================] - 0s 290us/step - loss: 0.4977 - acc: 0.7865\n",
      "Epoch 9/100\n",
      "712/712 [==============================] - 0s 343us/step - loss: 0.5147 - acc: 0.7893\n",
      "Epoch 10/100\n",
      "712/712 [==============================] - 0s 316us/step - loss: 0.4988 - acc: 0.7949\n",
      "Epoch 11/100\n",
      "712/712 [==============================] - 0s 255us/step - loss: 0.5064 - acc: 0.7963\n",
      "Epoch 12/100\n",
      "712/712 [==============================] - 0s 209us/step - loss: 0.4875 - acc: 0.7935\n",
      "Epoch 13/100\n",
      "712/712 [==============================] - 0s 223us/step - loss: 0.4916 - acc: 0.7949\n",
      "Epoch 14/100\n",
      "712/712 [==============================] - 0s 196us/step - loss: 0.4967 - acc: 0.8020\n",
      "Epoch 15/100\n",
      "712/712 [==============================] - 0s 204us/step - loss: 0.4570 - acc: 0.7992\n",
      "Epoch 16/100\n",
      "712/712 [==============================] - 0s 234us/step - loss: 0.4663 - acc: 0.8160\n",
      "Epoch 17/100\n",
      "712/712 [==============================] - 0s 217us/step - loss: 0.4689 - acc: 0.7992\n",
      "Epoch 18/100\n",
      "712/712 [==============================] - 0s 216us/step - loss: 0.4619 - acc: 0.8174\n",
      "Epoch 19/100\n",
      "712/712 [==============================] - 0s 195us/step - loss: 0.4401 - acc: 0.8146\n",
      "Epoch 20/100\n",
      "712/712 [==============================] - 0s 201us/step - loss: 0.4369 - acc: 0.8244\n",
      "Epoch 21/100\n",
      "712/712 [==============================] - 0s 230us/step - loss: 0.4662 - acc: 0.8202\n",
      "Epoch 22/100\n",
      "712/712 [==============================] - 0s 214us/step - loss: 0.4686 - acc: 0.8006\n",
      "Epoch 23/100\n",
      "712/712 [==============================] - 0s 216us/step - loss: 0.4780 - acc: 0.8034\n",
      "Epoch 24/100\n",
      "712/712 [==============================] - 0s 228us/step - loss: 0.4475 - acc: 0.8062\n",
      "Epoch 25/100\n",
      "712/712 [==============================] - 0s 213us/step - loss: 0.4316 - acc: 0.8329\n",
      "Epoch 26/100\n",
      "712/712 [==============================] - 0s 234us/step - loss: 0.4677 - acc: 0.8104\n",
      "Epoch 27/100\n",
      "712/712 [==============================] - 0s 222us/step - loss: 0.4390 - acc: 0.8160\n",
      "Epoch 28/100\n",
      "712/712 [==============================] - 0s 227us/step - loss: 0.4472 - acc: 0.8146\n",
      "Epoch 29/100\n",
      "712/712 [==============================] - 0s 231us/step - loss: 0.4379 - acc: 0.8160\n",
      "Epoch 30/100\n",
      "712/712 [==============================] - 0s 232us/step - loss: 0.4481 - acc: 0.8020\n",
      "Epoch 31/100\n",
      "712/712 [==============================] - 0s 225us/step - loss: 0.4368 - acc: 0.8188\n",
      "Epoch 32/100\n",
      "712/712 [==============================] - 0s 214us/step - loss: 0.4449 - acc: 0.8076\n",
      "Epoch 33/100\n",
      "712/712 [==============================] - 0s 229us/step - loss: 0.4451 - acc: 0.8230\n",
      "Epoch 34/100\n",
      "712/712 [==============================] - 0s 229us/step - loss: 0.4540 - acc: 0.8146\n",
      "Epoch 35/100\n",
      "712/712 [==============================] - 0s 220us/step - loss: 0.4364 - acc: 0.8315\n",
      "Epoch 36/100\n",
      "712/712 [==============================] - 0s 250us/step - loss: 0.4447 - acc: 0.8244\n",
      "Epoch 37/100\n",
      "712/712 [==============================] - 0s 248us/step - loss: 0.4288 - acc: 0.8315\n",
      "Epoch 38/100\n",
      "712/712 [==============================] - 0s 224us/step - loss: 0.4353 - acc: 0.8343\n",
      "Epoch 39/100\n",
      "712/712 [==============================] - 0s 218us/step - loss: 0.4281 - acc: 0.8315\n",
      "Epoch 40/100\n",
      "712/712 [==============================] - 0s 253us/step - loss: 0.4178 - acc: 0.8287\n",
      "Epoch 41/100\n",
      "712/712 [==============================] - 0s 217us/step - loss: 0.4471 - acc: 0.8230\n",
      "Epoch 42/100\n",
      "712/712 [==============================] - 0s 235us/step - loss: 0.4283 - acc: 0.8315\n",
      "Epoch 43/100\n",
      "712/712 [==============================] - 0s 215us/step - loss: 0.4474 - acc: 0.8104\n",
      "Epoch 44/100\n",
      "712/712 [==============================] - 0s 228us/step - loss: 0.4288 - acc: 0.8301\n",
      "Epoch 45/100\n",
      "712/712 [==============================] - 0s 219us/step - loss: 0.4412 - acc: 0.8343\n",
      "Epoch 46/100\n",
      "712/712 [==============================] - 0s 237us/step - loss: 0.4392 - acc: 0.8230\n",
      "Epoch 47/100\n",
      "712/712 [==============================] - 0s 226us/step - loss: 0.4232 - acc: 0.8385\n",
      "Epoch 48/100\n",
      "712/712 [==============================] - 0s 221us/step - loss: 0.4152 - acc: 0.8329\n",
      "Epoch 49/100\n",
      "712/712 [==============================] - 0s 225us/step - loss: 0.4268 - acc: 0.8385\n",
      "Epoch 50/100\n",
      "712/712 [==============================] - 0s 236us/step - loss: 0.4406 - acc: 0.8371\n",
      "Epoch 51/100\n",
      "712/712 [==============================] - 0s 219us/step - loss: 0.4369 - acc: 0.8244\n",
      "Epoch 52/100\n",
      "712/712 [==============================] - 0s 227us/step - loss: 0.4442 - acc: 0.8244\n",
      "Epoch 53/100\n",
      "712/712 [==============================] - 0s 204us/step - loss: 0.4396 - acc: 0.8371\n",
      "Epoch 54/100\n",
      "712/712 [==============================] - 0s 231us/step - loss: 0.4282 - acc: 0.8385\n",
      "Epoch 55/100\n",
      "712/712 [==============================] - 0s 213us/step - loss: 0.4064 - acc: 0.8329\n",
      "Epoch 56/100\n",
      "712/712 [==============================] - 0s 211us/step - loss: 0.4190 - acc: 0.8399\n",
      "Epoch 57/100\n",
      "712/712 [==============================] - 0s 210us/step - loss: 0.4196 - acc: 0.8371\n",
      "Epoch 58/100\n",
      "712/712 [==============================] - 0s 213us/step - loss: 0.4382 - acc: 0.8427\n",
      "Epoch 59/100\n",
      "712/712 [==============================] - 0s 210us/step - loss: 0.4122 - acc: 0.8441\n",
      "Epoch 60/100\n",
      "712/712 [==============================] - 0s 207us/step - loss: 0.4257 - acc: 0.8343\n",
      "Epoch 61/100\n",
      "712/712 [==============================] - 0s 231us/step - loss: 0.4199 - acc: 0.8272\n",
      "Epoch 62/100\n",
      "712/712 [==============================] - 0s 206us/step - loss: 0.4081 - acc: 0.8441\n",
      "Epoch 63/100\n",
      "712/712 [==============================] - 0s 229us/step - loss: 0.4001 - acc: 0.8497\n",
      "Epoch 64/100\n",
      "712/712 [==============================] - 0s 201us/step - loss: 0.4098 - acc: 0.8371\n",
      "Epoch 65/100\n",
      "712/712 [==============================] - 0s 216us/step - loss: 0.4221 - acc: 0.8357\n",
      "Epoch 66/100\n",
      "712/712 [==============================] - 0s 209us/step - loss: 0.4077 - acc: 0.8357\n",
      "Epoch 67/100\n",
      "712/712 [==============================] - 0s 225us/step - loss: 0.4180 - acc: 0.8427\n",
      "Epoch 68/100\n",
      "712/712 [==============================] - 0s 220us/step - loss: 0.4300 - acc: 0.8258\n",
      "Epoch 69/100\n",
      "712/712 [==============================] - 0s 214us/step - loss: 0.4015 - acc: 0.8441\n",
      "Epoch 70/100\n",
      "712/712 [==============================] - 0s 215us/step - loss: 0.4112 - acc: 0.8455\n",
      "Epoch 71/100\n",
      "712/712 [==============================] - 0s 219us/step - loss: 0.4238 - acc: 0.8315\n",
      "Epoch 72/100\n",
      "712/712 [==============================] - 0s 199us/step - loss: 0.4272 - acc: 0.8371\n",
      "Epoch 73/100\n",
      "712/712 [==============================] - 0s 198us/step - loss: 0.4172 - acc: 0.8399\n",
      "Epoch 74/100\n",
      "712/712 [==============================] - 0s 198us/step - loss: 0.4125 - acc: 0.8287\n",
      "Epoch 75/100\n",
      "712/712 [==============================] - 0s 226us/step - loss: 0.4301 - acc: 0.8258\n",
      "Epoch 76/100\n",
      "712/712 [==============================] - 0s 191us/step - loss: 0.4095 - acc: 0.8497\n",
      "Epoch 77/100\n",
      "712/712 [==============================] - 0s 202us/step - loss: 0.4056 - acc: 0.8441\n",
      "Epoch 78/100\n",
      "712/712 [==============================] - 0s 197us/step - loss: 0.4206 - acc: 0.8385\n",
      "Epoch 79/100\n",
      "712/712 [==============================] - 0s 199us/step - loss: 0.4172 - acc: 0.8427\n",
      "Epoch 80/100\n",
      "712/712 [==============================] - 0s 201us/step - loss: 0.4294 - acc: 0.8244\n",
      "Epoch 81/100\n",
      "712/712 [==============================] - 0s 209us/step - loss: 0.4133 - acc: 0.8413\n",
      "Epoch 82/100\n",
      "712/712 [==============================] - 0s 226us/step - loss: 0.4066 - acc: 0.8455\n",
      "Epoch 83/100\n",
      "712/712 [==============================] - 0s 210us/step - loss: 0.4156 - acc: 0.8343\n",
      "Epoch 84/100\n",
      "712/712 [==============================] - 0s 214us/step - loss: 0.4197 - acc: 0.8315\n",
      "Epoch 85/100\n",
      "712/712 [==============================] - 0s 227us/step - loss: 0.3945 - acc: 0.8315\n",
      "Epoch 86/100\n",
      "712/712 [==============================] - 0s 211us/step - loss: 0.4196 - acc: 0.8258\n",
      "Epoch 87/100\n",
      "712/712 [==============================] - 0s 212us/step - loss: 0.4039 - acc: 0.8385\n",
      "Epoch 88/100\n",
      "712/712 [==============================] - 0s 214us/step - loss: 0.4187 - acc: 0.8399\n",
      "Epoch 89/100\n",
      "712/712 [==============================] - 0s 204us/step - loss: 0.3993 - acc: 0.8427\n",
      "Epoch 90/100\n",
      "712/712 [==============================] - 0s 208us/step - loss: 0.4175 - acc: 0.8329\n",
      "Epoch 91/100\n",
      "712/712 [==============================] - 0s 207us/step - loss: 0.4077 - acc: 0.8371\n",
      "Epoch 92/100\n",
      "712/712 [==============================] - 0s 201us/step - loss: 0.4065 - acc: 0.8315\n",
      "Epoch 93/100\n",
      "712/712 [==============================] - 0s 199us/step - loss: 0.4040 - acc: 0.8343\n",
      "Epoch 94/100\n",
      "712/712 [==============================] - 0s 198us/step - loss: 0.4114 - acc: 0.8399\n",
      "Epoch 95/100\n",
      "712/712 [==============================] - 0s 216us/step - loss: 0.4226 - acc: 0.8441\n",
      "Epoch 96/100\n",
      "712/712 [==============================] - 0s 207us/step - loss: 0.4180 - acc: 0.8413\n",
      "Epoch 97/100\n",
      "712/712 [==============================] - 0s 198us/step - loss: 0.4072 - acc: 0.8385\n",
      "Epoch 98/100\n",
      "712/712 [==============================] - 0s 202us/step - loss: 0.4059 - acc: 0.8399\n",
      "Epoch 99/100\n",
      "712/712 [==============================] - 0s 208us/step - loss: 0.4059 - acc: 0.8399\n",
      "Epoch 100/100\n",
      "712/712 [==============================] - 0s 219us/step - loss: 0.4033 - acc: 0.8343\n"
     ]
    },
    {
     "data": {
      "text/plain": [
       "<keras.callbacks.History at 0x7f7543822828>"
      ]
     },
     "execution_count": 16,
     "metadata": {},
     "output_type": "execute_result"
    }
   ],
   "source": [
    "ann = build_ann()\n",
    "# Training the ANN\n",
    "ann.fit(X_train, Y_train, batch_size=10, epochs=100)"
   ]
  },
  {
   "cell_type": "code",
   "execution_count": 17,
   "metadata": {
    "_uuid": "eb05fa8c0fa699a048e13145f66ffc534b4edb46"
   },
   "outputs": [
    {
     "name": "stdout",
     "output_type": "stream",
     "text": [
      "              precision    recall  f1-score   support\n",
      "\n",
      "           0       0.82      0.86      0.84       105\n",
      "           1       0.78      0.73      0.76        74\n",
      "\n",
      "   micro avg       0.80      0.80      0.80       179\n",
      "   macro avg       0.80      0.79      0.80       179\n",
      "weighted avg       0.80      0.80      0.80       179\n",
      "\n"
     ]
    },
    {
     "data": {
      "image/png": "[encoded data removed]",
      "text/plain": [
       "<Figure size 648x648 with 2 Axes>"
      ]
     },
     "metadata": {},
     "output_type": "display_data"
    }
   ],
   "source": [
    "# Predicting the Test set results\n",
    "ann_prediction = ann.predict(X_test)\n",
    "ann_prediction = (ann_prediction > 0.5) # convert probabilities to binary output\n",
    "\n",
    "# Compute error between predicted data and true response and display it in confusion matrix\n",
    "score = metrics.accuracy_score(Y_test, ann_prediction)\n",
    "display_confusion_matrix(Y_test, ann_prediction, score=score)"
   ]
  },
  {
   "cell_type": "markdown",
   "metadata": {
    "_uuid": "70d6befb811b652a224f94d6cdb463973d596eb8"
   },
   "source": [
    "## **4. Finding the best model using k-folds cross validation**"
   ]
  },
  {
   "cell_type": "markdown",
   "metadata": {
    "_uuid": "c29b4c99606f9ed35031369693f110eec4ffccc7"
   },
   "source": [
    "### The precision we calculated above does not mean anything. In fact, if we execute each cell again, we could have sightly different accuracy, because we trained again our models ! We need to verify which model has the best accuracy over several training steps ! We can do it using cross validation method, which consists of dividing out training set in k parts (folds) and evaluating k times using successively each part as the test set and the 9 other parts as the training set. Therefore, we can compute a mean error over the 10 trainings of our model:"
   ]
  },
  {
   "cell_type": "markdown",
   "metadata": {
    "_uuid": "9aede644cb0d0fc1380d6b34fb7960c92a13b829"
   },
   "source": [
    "![](https://www.researchgate.net/profile/Kiret_Dhindsa/publication/323969239/figure/fig10/AS:607404244873216@1521827865007/The-K-fold-cross-validation-scheme-133-Each-of-the-K-partitions-is-used-as-a-test.png)"
   ]
  },
  {
   "cell_type": "markdown",
   "metadata": {
    "_uuid": "9d1d2563afff9ffa9a375c24980d6854a0f109d2"
   },
   "source": [
    "### Let's check which one of our previously implemented model is the best one with this method. We will not only compute the mean but also the variance, because a good model needs to have the lowest possible variance in addition to have a low bias:"
   ]
  },
  {
   "cell_type": "markdown",
   "metadata": {
    "_uuid": "540f93a290ecb92ff877636d529e3a5ddb985ba7"
   },
   "source": [
    "![](https://www.machinelearningtutorial.net/wp-content/uploads/2017/01/bias-variance-tradeoff.svg)"
   ]
  },
  {
   "cell_type": "code",
   "execution_count": 18,
   "metadata": {
    "_uuid": "e361932236fa3df0ed3b06c13d6a87e8cec30c73"
   },
   "outputs": [],
   "source": [
    "accuracies_logreg = cross_val_score(estimator=logisticRegr, X=X_train, y=Y_train, cv=10, n_jobs=-1)\n",
    "accuracies_tree = cross_val_score(estimator=dt, X=X_train, y=Y_train, cv=10, n_jobs=-1)\n",
    "accuracies_rf = cross_val_score(estimator=rf, X=X_train, y=Y_train, cv=10, n_jobs=-1)\n",
    "accuracies_ann = cross_val_score(estimator=KerasClassifier(build_fn=build_ann, batch_size=10, epochs=100, verbose=0),\n",
    "                                 X=X_train, y=Y_train, cv=10, n_jobs=-1)"
   ]
  },
  {
   "cell_type": "code",
   "execution_count": 19,
   "metadata": {
    "_uuid": "77a6eea7f2c167d5ded1edfde3b18b0e27e1c245",
    "scrolled": true
   },
   "outputs": [
    {
     "name": "stdout",
     "output_type": "stream",
     "text": [
      "Mean accuracy: {'lg': 0.8160485133020344, 'dt': 0.8147389894925106, 'rf': 0.803608316566063, 'ann': 0.8272300419276682} \n",
      "Variance: {'lg': 0.05686962089966161, 'dt': 0.051218460274826204, 'rf': 0.05877331020535597, 'ann': 0.05162398106897395}\n"
     ]
    }
   ],
   "source": [
    "accuracies = {'lg': accuracies_logreg, 'dt': accuracies_tree, 'rf': accuracies_rf, 'ann': accuracies_ann}\n",
    "mean = {model: acc.mean() for model, acc in accuracies.items()}\n",
    "variance = {model: acc.std() for model, acc in accuracies.items()}\n",
    "print('Mean accuracy:', mean, '\\nVariance:', variance)"
   ]
  },
  {
   "cell_type": "code",
   "execution_count": 20,
   "metadata": {
    "_uuid": "26ef433d5b364a740465a893328f0c1f2be1d4f6"
   },
   "outputs": [
    {
     "data": {
      "image/png": "[encoded data removed]",
      "text/plain": [
       "<Figure size 1440x360 with 1 Axes>"
      ]
     },
     "metadata": {},
     "output_type": "display_data"
    }
   ],
   "source": [
    "plt.figure(figsize=(20,5))\n",
    "plt.plot(accuracies['lg'])\n",
    "plt.plot(accuracies['dt'])\n",
    "plt.plot(accuracies['rf'])\n",
    "plt.plot(accuracies['ann'])\n",
    "plt.title('Models Accuracy')\n",
    "plt.ylabel('Accuracy')\n",
    "plt.xlabel('Trained fold')\n",
    "plt.xticks([k for k in range(10)])\n",
    "plt.legend(['logreg', 'tree', 'randomforest', 'ANN'], loc='upper left')\n",
    "plt.show()"
   ]
  },
  {
   "cell_type": "markdown",
   "metadata": {
    "_uuid": "b73877f1d931c0a8095920c27316d13a3e23eb20"
   },
   "source": [
    "### Our artificial neural network seems to be the best model : it has the best accuracy and the lowest variance ! Let's make a prediction on test dataset now and submit it on kaggle !"
   ]
  },
  {
   "cell_type": "markdown",
   "metadata": {
    "_uuid": "06c3acf429d8d09968c07e8c1c06f88875bb62db"
   },
   "source": [
    "## 5. Apply the best model on test dataset and submit on kaggle "
   ]
  },
  {
   "cell_type": "code",
   "execution_count": 21,
   "metadata": {
    "_uuid": "962229f11da6b327557f53e048f0a55068f6dc4a"
   },
   "outputs": [],
   "source": [
    "test_df_raw = pd.read_csv(path_test)\n",
    "test = test_df_raw.copy()\n",
    "test = preprocess_data(test)\n",
    "test = pd.DataFrame(sc.fit_transform(test.values), index=test.index, columns=test.columns)"
   ]
  },
  {
   "cell_type": "code",
   "execution_count": 22,
   "metadata": {
    "_kg_hide-output": true,
    "_uuid": "499d60687a2a8ce30edbdf17e2f3ed89d7d9e7bc"
   },
   "outputs": [
    {
     "name": "stdout",
     "output_type": "stream",
     "text": [
      "Epoch 1/100\n",
      "891/891 [==============================] - 1s 892us/step - loss: 0.6798 - acc: 0.5915\n",
      "Epoch 2/100\n",
      "891/891 [==============================] - 0s 206us/step - loss: 0.6231 - acc: 0.6487\n",
      "Epoch 3/100\n",
      "891/891 [==============================] - 0s 215us/step - loss: 0.5969 - acc: 0.6902\n",
      "Epoch 4/100\n",
      "891/891 [==============================] - 0s 211us/step - loss: 0.5817 - acc: 0.7262\n",
      "Epoch 5/100\n",
      "891/891 [==============================] - 0s 209us/step - loss: 0.5509 - acc: 0.7643\n",
      "Epoch 6/100\n",
      "891/891 [==============================] - 0s 201us/step - loss: 0.5318 - acc: 0.7632\n",
      "Epoch 7/100\n",
      "891/891 [==============================] - 0s 200us/step - loss: 0.5052 - acc: 0.7800\n",
      "Epoch 8/100\n",
      "891/891 [==============================] - 0s 205us/step - loss: 0.4708 - acc: 0.7912\n",
      "Epoch 9/100\n",
      "891/891 [==============================] - 0s 208us/step - loss: 0.5181 - acc: 0.7856\n",
      "Epoch 10/100\n",
      "891/891 [==============================] - 0s 209us/step - loss: 0.4764 - acc: 0.7890\n",
      "Epoch 11/100\n",
      "891/891 [==============================] - 0s 202us/step - loss: 0.4445 - acc: 0.8081\n",
      "Epoch 12/100\n",
      "891/891 [==============================] - 0s 212us/step - loss: 0.4762 - acc: 0.8013\n",
      "Epoch 13/100\n",
      "891/891 [==============================] - 0s 206us/step - loss: 0.4714 - acc: 0.7957\n",
      "Epoch 14/100\n",
      "891/891 [==============================] - 0s 213us/step - loss: 0.4603 - acc: 0.8070\n",
      "Epoch 15/100\n",
      "891/891 [==============================] - 0s 207us/step - loss: 0.4686 - acc: 0.8092\n",
      "Epoch 16/100\n",
      "891/891 [==============================] - 0s 218us/step - loss: 0.4718 - acc: 0.8137\n",
      "Epoch 17/100\n",
      "891/891 [==============================] - 0s 209us/step - loss: 0.4704 - acc: 0.8114\n",
      "Epoch 18/100\n",
      "891/891 [==============================] - 0s 206us/step - loss: 0.4482 - acc: 0.8126\n",
      "Epoch 19/100\n",
      "891/891 [==============================] - 0s 219us/step - loss: 0.4509 - acc: 0.7980\n",
      "Epoch 20/100\n",
      "891/891 [==============================] - 0s 212us/step - loss: 0.4545 - acc: 0.8171\n",
      "Epoch 21/100\n",
      "891/891 [==============================] - 0s 195us/step - loss: 0.4418 - acc: 0.8316\n",
      "Epoch 22/100\n",
      "891/891 [==============================] - 0s 203us/step - loss: 0.4425 - acc: 0.8227\n",
      "Epoch 23/100\n",
      "891/891 [==============================] - 0s 200us/step - loss: 0.4495 - acc: 0.8070\n",
      "Epoch 24/100\n",
      "891/891 [==============================] - 0s 204us/step - loss: 0.4531 - acc: 0.8126\n",
      "Epoch 25/100\n",
      "891/891 [==============================] - 0s 202us/step - loss: 0.4315 - acc: 0.8350\n",
      "Epoch 26/100\n",
      "891/891 [==============================] - 0s 214us/step - loss: 0.4456 - acc: 0.8328\n",
      "Epoch 27/100\n",
      "891/891 [==============================] - 0s 209us/step - loss: 0.4464 - acc: 0.8148\n",
      "Epoch 28/100\n",
      "891/891 [==============================] - 0s 202us/step - loss: 0.4204 - acc: 0.8418\n",
      "Epoch 29/100\n",
      "891/891 [==============================] - 0s 200us/step - loss: 0.4414 - acc: 0.8283\n",
      "Epoch 30/100\n",
      "891/891 [==============================] - 0s 213us/step - loss: 0.4285 - acc: 0.8328\n",
      "Epoch 31/100\n",
      "891/891 [==============================] - 0s 222us/step - loss: 0.4110 - acc: 0.8440\n",
      "Epoch 32/100\n",
      "891/891 [==============================] - 0s 198us/step - loss: 0.4231 - acc: 0.8350\n",
      "Epoch 33/100\n",
      "891/891 [==============================] - 0s 207us/step - loss: 0.4274 - acc: 0.8283\n",
      "Epoch 34/100\n",
      "891/891 [==============================] - 0s 202us/step - loss: 0.4252 - acc: 0.8272\n",
      "Epoch 35/100\n",
      "891/891 [==============================] - 0s 208us/step - loss: 0.4220 - acc: 0.8272\n",
      "Epoch 36/100\n",
      "891/891 [==============================] - 0s 205us/step - loss: 0.4282 - acc: 0.8272\n",
      "Epoch 37/100\n",
      "891/891 [==============================] - 0s 200us/step - loss: 0.4270 - acc: 0.8283\n",
      "Epoch 38/100\n",
      "891/891 [==============================] - 0s 207us/step - loss: 0.4171 - acc: 0.8238\n",
      "Epoch 39/100\n",
      "891/891 [==============================] - 0s 209us/step - loss: 0.4289 - acc: 0.8215\n",
      "Epoch 40/100\n",
      "891/891 [==============================] - 0s 208us/step - loss: 0.4327 - acc: 0.8373\n",
      "Epoch 41/100\n",
      "891/891 [==============================] - 0s 206us/step - loss: 0.4189 - acc: 0.8215\n",
      "Epoch 42/100\n",
      "891/891 [==============================] - 0s 205us/step - loss: 0.4156 - acc: 0.8316\n",
      "Epoch 43/100\n",
      "891/891 [==============================] - 0s 207us/step - loss: 0.4171 - acc: 0.8283\n",
      "Epoch 44/100\n",
      "891/891 [==============================] - 0s 215us/step - loss: 0.4385 - acc: 0.8283\n",
      "Epoch 45/100\n",
      "891/891 [==============================] - 0s 215us/step - loss: 0.4209 - acc: 0.8328\n",
      "Epoch 46/100\n",
      "891/891 [==============================] - 0s 206us/step - loss: 0.4241 - acc: 0.8350\n",
      "Epoch 47/100\n",
      "891/891 [==============================] - 0s 204us/step - loss: 0.4170 - acc: 0.8429\n",
      "Epoch 48/100\n",
      "891/891 [==============================] - 0s 206us/step - loss: 0.4195 - acc: 0.8238\n",
      "Epoch 49/100\n",
      "891/891 [==============================] - 0s 214us/step - loss: 0.4207 - acc: 0.8339\n",
      "Epoch 50/100\n",
      "891/891 [==============================] - 0s 219us/step - loss: 0.4257 - acc: 0.8260\n",
      "Epoch 51/100\n",
      "891/891 [==============================] - 0s 217us/step - loss: 0.4280 - acc: 0.8328\n",
      "Epoch 52/100\n",
      "891/891 [==============================] - 0s 224us/step - loss: 0.3968 - acc: 0.8328\n",
      "Epoch 53/100\n",
      "891/891 [==============================] - 0s 207us/step - loss: 0.4241 - acc: 0.8294\n",
      "Epoch 54/100\n",
      "891/891 [==============================] - 0s 204us/step - loss: 0.4231 - acc: 0.8373\n",
      "Epoch 55/100\n",
      "891/891 [==============================] - 0s 202us/step - loss: 0.4162 - acc: 0.8249\n",
      "Epoch 56/100\n",
      "891/891 [==============================] - 0s 216us/step - loss: 0.4118 - acc: 0.8339\n",
      "Epoch 57/100\n",
      "891/891 [==============================] - 0s 222us/step - loss: 0.4105 - acc: 0.8373\n",
      "Epoch 58/100\n",
      "891/891 [==============================] - 0s 212us/step - loss: 0.4284 - acc: 0.8260\n",
      "Epoch 59/100\n",
      "891/891 [==============================] - 0s 209us/step - loss: 0.4129 - acc: 0.8384\n",
      "Epoch 60/100\n",
      "891/891 [==============================] - 0s 204us/step - loss: 0.4237 - acc: 0.8350\n",
      "Epoch 61/100\n",
      "891/891 [==============================] - 0s 201us/step - loss: 0.4346 - acc: 0.8272\n",
      "Epoch 62/100\n",
      "891/891 [==============================] - 0s 198us/step - loss: 0.4156 - acc: 0.8316\n",
      "Epoch 63/100\n",
      "891/891 [==============================] - 0s 207us/step - loss: 0.4150 - acc: 0.8373\n",
      "Epoch 64/100\n",
      "891/891 [==============================] - 0s 236us/step - loss: 0.4169 - acc: 0.8283\n",
      "Epoch 65/100\n",
      "891/891 [==============================] - 0s 221us/step - loss: 0.4029 - acc: 0.8440\n",
      "Epoch 66/100\n",
      "891/891 [==============================] - 0s 205us/step - loss: 0.4222 - acc: 0.8328\n",
      "Epoch 67/100\n",
      "891/891 [==============================] - 0s 215us/step - loss: 0.4102 - acc: 0.8305\n",
      "Epoch 68/100\n",
      "891/891 [==============================] - 0s 206us/step - loss: 0.4172 - acc: 0.8418\n",
      "Epoch 69/100\n",
      "891/891 [==============================] - 0s 209us/step - loss: 0.4074 - acc: 0.8418\n",
      "Epoch 70/100\n",
      "891/891 [==============================] - 0s 208us/step - loss: 0.4026 - acc: 0.8373\n",
      "Epoch 71/100\n",
      "891/891 [==============================] - 0s 211us/step - loss: 0.4127 - acc: 0.8294\n",
      "Epoch 72/100\n",
      "891/891 [==============================] - 0s 209us/step - loss: 0.4026 - acc: 0.8361\n",
      "Epoch 73/100\n",
      "891/891 [==============================] - 0s 221us/step - loss: 0.4116 - acc: 0.8384\n",
      "Epoch 74/100\n",
      "891/891 [==============================] - 0s 213us/step - loss: 0.4117 - acc: 0.8406\n",
      "Epoch 75/100\n",
      "891/891 [==============================] - 0s 218us/step - loss: 0.4112 - acc: 0.8373\n",
      "Epoch 76/100\n",
      "891/891 [==============================] - 0s 221us/step - loss: 0.4104 - acc: 0.8373\n",
      "Epoch 77/100\n",
      "891/891 [==============================] - 0s 207us/step - loss: 0.4093 - acc: 0.8474\n",
      "Epoch 78/100\n",
      "891/891 [==============================] - 0s 216us/step - loss: 0.4025 - acc: 0.8406\n",
      "Epoch 79/100\n",
      "891/891 [==============================] - 0s 215us/step - loss: 0.3991 - acc: 0.8541\n",
      "Epoch 80/100\n",
      "891/891 [==============================] - 0s 224us/step - loss: 0.4038 - acc: 0.8395\n",
      "Epoch 81/100\n",
      "891/891 [==============================] - 0s 216us/step - loss: 0.4104 - acc: 0.8339\n",
      "Epoch 82/100\n",
      "891/891 [==============================] - 0s 211us/step - loss: 0.4170 - acc: 0.8384\n",
      "Epoch 83/100\n",
      "891/891 [==============================] - 0s 223us/step - loss: 0.4025 - acc: 0.8395\n",
      "Epoch 84/100\n",
      "891/891 [==============================] - 0s 215us/step - loss: 0.4088 - acc: 0.8395\n",
      "Epoch 85/100\n",
      "891/891 [==============================] - 0s 209us/step - loss: 0.4076 - acc: 0.8451\n",
      "Epoch 86/100\n",
      "891/891 [==============================] - 0s 212us/step - loss: 0.4031 - acc: 0.8316\n",
      "Epoch 87/100\n",
      "891/891 [==============================] - 0s 211us/step - loss: 0.4145 - acc: 0.8350\n",
      "Epoch 88/100\n",
      "891/891 [==============================] - 0s 241us/step - loss: 0.4004 - acc: 0.8373\n",
      "Epoch 89/100\n",
      "891/891 [==============================] - 0s 226us/step - loss: 0.4025 - acc: 0.8283\n",
      "Epoch 90/100\n",
      "891/891 [==============================] - 0s 202us/step - loss: 0.4103 - acc: 0.8418\n",
      "Epoch 91/100\n",
      "891/891 [==============================] - 0s 224us/step - loss: 0.3996 - acc: 0.8462\n",
      "Epoch 92/100\n",
      "891/891 [==============================] - 0s 210us/step - loss: 0.3945 - acc: 0.8485\n",
      "Epoch 93/100\n",
      "891/891 [==============================] - 0s 202us/step - loss: 0.3829 - acc: 0.8418\n",
      "Epoch 94/100\n",
      "891/891 [==============================] - 0s 211us/step - loss: 0.4044 - acc: 0.8339\n",
      "Epoch 95/100\n",
      "891/891 [==============================] - 0s 207us/step - loss: 0.3971 - acc: 0.8373\n",
      "Epoch 96/100\n",
      "891/891 [==============================] - 0s 202us/step - loss: 0.4032 - acc: 0.8395\n",
      "Epoch 97/100\n",
      "891/891 [==============================] - 0s 206us/step - loss: 0.3927 - acc: 0.8406\n",
      "Epoch 98/100\n",
      "891/891 [==============================] - 0s 218us/step - loss: 0.3866 - acc: 0.8552\n",
      "Epoch 99/100\n",
      "891/891 [==============================] - 0s 213us/step - loss: 0.3883 - acc: 0.8496\n",
      "Epoch 100/100\n",
      "891/891 [==============================] - 0s 216us/step - loss: 0.3997 - acc: 0.8373\n"
     ]
    }
   ],
   "source": [
    "# Create and train model on train data sample\n",
    "model_test = build_ann()\n",
    "model_test.fit(X, Y, batch_size=10, epochs=100)\n",
    "\n",
    "# Predict for test data sample\n",
    "prediction = model_test.predict(test)\n",
    "prediction = (prediction > 0.5)*1\n",
    "\n",
    "result_df = test_df_raw.copy()\n",
    "result_df['Survived'] = prediction\n",
    "result_df.to_csv('submission.csv', columns=['PassengerId', 'Survived'], index=False)"
   ]
  },
  {
   "cell_type": "code",
   "execution_count": 23,
   "metadata": {
    "_uuid": "2ed93ead5811df4092719d4f068dd714c8267cfe"
   },
   "outputs": [
    {
     "data": {
      "text/html": [
       "<div>\n",
       "<style scoped>\n",
       "    .dataframe tbody tr th:only-of-type {\n",
       "        vertical-align: middle;\n",
       "    }\n",
       "\n",
       "    .dataframe tbody tr th {\n",
       "        vertical-align: top;\n",
       "    }\n",
       "\n",
       "    .dataframe thead th {\n",
       "        text-align: right;\n",
       "    }\n",
       "</style>\n",
       "<table border=\"1\" class=\"dataframe\">\n",
       "  <thead>\n",
       "    <tr style=\"text-align: right;\">\n",
       "      <th></th>\n",
       "      <th>PassengerId</th>\n",
       "      <th>Survived</th>\n",
       "    </tr>\n",
       "  </thead>\n",
       "  <tbody>\n",
       "    <tr>\n",
       "      <th>0</th>\n",
       "      <td>892</td>\n",
       "      <td>0</td>\n",
       "    </tr>\n",
       "    <tr>\n",
       "      <th>1</th>\n",
       "      <td>893</td>\n",
       "      <td>0</td>\n",
       "    </tr>\n",
       "    <tr>\n",
       "      <th>2</th>\n",
       "      <td>894</td>\n",
       "      <td>0</td>\n",
       "    </tr>\n",
       "    <tr>\n",
       "      <th>3</th>\n",
       "      <td>895</td>\n",
       "      <td>0</td>\n",
       "    </tr>\n",
       "    <tr>\n",
       "      <th>4</th>\n",
       "      <td>896</td>\n",
       "      <td>0</td>\n",
       "    </tr>\n",
       "  </tbody>\n",
       "</table>\n",
       "</div>"
      ],
      "text/plain": [
       "   PassengerId  Survived\n",
       "0          892         0\n",
       "1          893         0\n",
       "2          894         0\n",
       "3          895         0\n",
       "4          896         0"
      ]
     },
     "execution_count": 23,
     "metadata": {},
     "output_type": "execute_result"
    }
   ],
   "source": [
    "result_df[['PassengerId', 'Survived']].head()"
   ]
  }
 ],
 "metadata": {
  "kernelspec": {
   "display_name": "Python 3",
   "language": "python",
   "name": "python3"
  },
  "language_info": {
   "codemirror_mode": {
    "name": "ipython",
    "version": 3
   },
   "file_extension": ".py",
   "mimetype": "text/x-python",
   "name": "python",
   "nbconvert_exporter": "python",
   "pygments_lexer": "ipython3",
   "version": "3.6.8"
  }
 },
 "nbformat": 4,
 "nbformat_minor": 1
}
